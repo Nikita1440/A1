{
 "cells": [
  {
   "cell_type": "markdown",
   "id": "5160369d-6450-49df-b74e-dda9273ccac8",
   "metadata": {},
   "source": [
    "1. Write a Python Program to find sum of array?\n",
    "2. Write a Python Program to find largest element in an array?\n",
    "3. Write a Python Program for array rotation?\n",
    "4. Write a Python Program to Split the array and add the first part to the end?\n",
    "5. Write a Python Program to check if given array is Monotonic?"
   ]
  },
  {
   "cell_type": "code",
   "execution_count": 1,
   "id": "9f761e85-5ee1-4aa0-b88b-116eed5c7ac5",
   "metadata": {},
   "outputs": [
    {
     "name": "stdout",
     "output_type": "stream",
     "text": [
      "Sum of the array: 15\n"
     ]
    }
   ],
   "source": [
    "#!\n",
    "def array_sum(arr):\n",
    "    sum = 0\n",
    "    for num in arr:\n",
    "        sum += num\n",
    "    return sum\n",
    "\n",
    "# Example usage:\n",
    "array = [1, 2, 3, 4, 5]\n",
    "result = array_sum(array)\n",
    "print(\"Sum of the array:\", result)\n"
   ]
  },
  {
   "cell_type": "code",
   "execution_count": 2,
   "id": "01e2ad40-a00f-4ca1-8305-82c9abeca6d9",
   "metadata": {},
   "outputs": [
    {
     "name": "stdout",
     "output_type": "stream",
     "text": [
      "Largest element in the array: 45\n"
     ]
    }
   ],
   "source": [
    "#2\n",
    "def find_largest(arr):\n",
    "    largest = arr[0]\n",
    "    for num in arr:\n",
    "        if num > largest:\n",
    "            largest = num\n",
    "    return largest\n",
    "\n",
    "# Example usage:\n",
    "array = [12, 45, 8, 27, 15]\n",
    "result = find_largest(array)\n",
    "print(\"Largest element in the array:\", result)\n"
   ]
  },
  {
   "cell_type": "code",
   "execution_count": 3,
   "id": "c6ed88fa-13a2-4fcc-b984-1d2877164dd6",
   "metadata": {},
   "outputs": [
    {
     "name": "stdout",
     "output_type": "stream",
     "text": [
      "Array after rotation: [3, 4, 5, 1, 2]\n"
     ]
    }
   ],
   "source": [
    "#3\n",
    "def rotate_array(arr, k):\n",
    "    n = len(arr)\n",
    "    k = k % n  # Normalize rotation count if it's greater than array length\n",
    "    rotated_arr = arr[k:] + arr[:k]\n",
    "    return rotated_arr\n",
    "\n",
    "# Example usage:\n",
    "array = [1, 2, 3, 4, 5]\n",
    "rotation_count = 2\n",
    "result = rotate_array(array, rotation_count)\n",
    "print(\"Array after rotation:\", result)\n"
   ]
  },
  {
   "cell_type": "code",
   "execution_count": 4,
   "id": "b43cd09f-5618-4b43-9da8-eb3884819ac9",
   "metadata": {},
   "outputs": [
    {
     "name": "stdout",
     "output_type": "stream",
     "text": [
      "Array after splitting and adding first part to the end: [3, 4, 5, 1, 2]\n"
     ]
    }
   ],
   "source": [
    "#4\n",
    "def split_array(arr, k):\n",
    "    split_arr = arr[k:] + arr[:k]\n",
    "    return split_arr\n",
    "\n",
    "# Example usage:\n",
    "array = [1, 2, 3, 4, 5]\n",
    "split_index = 2\n",
    "result = split_array(array, split_index)\n",
    "print(\"Array after splitting and adding first part to the end:\", result)\n",
    "\n"
   ]
  },
  {
   "cell_type": "code",
   "execution_count": 5,
   "id": "8bc84c1e-aa5c-4e93-9ba0-b27737ff55e7",
   "metadata": {},
   "outputs": [
    {
     "name": "stdout",
     "output_type": "stream",
     "text": [
      "The array is monotonic.\n"
     ]
    }
   ],
   "source": [
    "#5\n",
    "def is_monotonic(arr):\n",
    "    increasing = decreasing = True\n",
    "\n",
    "    for i in range(1, len(arr)):\n",
    "        if arr[i] < arr[i - 1]:\n",
    "            increasing = False\n",
    "        if arr[i] > arr[i - 1]:\n",
    "            decreasing = False\n",
    "\n",
    "    return increasing or decreasing\n",
    "\n",
    "# Example usage:\n",
    "array = [1, 2, 3, 4, 5]\n",
    "result = is_monotonic(array)\n",
    "if result:\n",
    "    print(\"The array is monotonic.\")\n",
    "else:\n",
    "    print(\"The array is not monotonic.\")\n"
   ]
  },
  {
   "cell_type": "code",
   "execution_count": null,
   "id": "2e250633-6e4f-4d46-bb55-355a7d10d9cd",
   "metadata": {},
   "outputs": [],
   "source": []
  }
 ],
 "metadata": {
  "kernelspec": {
   "display_name": "Python 3 (ipykernel)",
   "language": "python",
   "name": "python3"
  },
  "language_info": {
   "codemirror_mode": {
    "name": "ipython",
    "version": 3
   },
   "file_extension": ".py",
   "mimetype": "text/x-python",
   "name": "python",
   "nbconvert_exporter": "python",
   "pygments_lexer": "ipython3",
   "version": "3.10.6"
  }
 },
 "nbformat": 4,
 "nbformat_minor": 5
}

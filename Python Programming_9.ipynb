{
 "cells": [
  {
   "cell_type": "markdown",
   "id": "94c5ad07-9956-402d-8b64-8f63ca730967",
   "metadata": {},
   "source": [
    "1. Write a Python program to check if the given number is a Disarium Number?\n",
    "2. Write a Python program to print all disarium numbers between 1 to 100?\n",
    "3. Write a Python program to check if the given number is Happy Number?\n",
    "4. Write a Python program to print all happy numbers between 1 and 100?\n",
    "5. Write a Python program to determine whether the given number is a Harshad Number?\n",
    "6. Write a Python program to print all pronic numbers between 1 and 100?\n",
    "# NOTE\n",
    "Disarium Number:\n",
    "A Disarium number is a number where the sum of its digits raised to their respective positions equals the original number. In other words, for a number with digits d1, d2, d3, ..., dn, the sum of d1^1 + d2^2 + d3^3 + ... + dn^n should be equal to the number itself.\n",
    "For example, 135 is a Disarium number because 1^1 + 3^2 + 5^3 = 1 + 9 + 125 = 135.\n",
    "\n",
    "Happy Number:\n",
    "A Happy number is a number that, when repeatedly replaced by the sum of the squares of its digits, eventually reaches 1. If the process results in an endless loop without reaching 1, then the number is not a Happy number.\n",
    "For example, let's take the number 19:\n",
    "1^2 + 9^2 = 1 + 81 = 82\n",
    "8^2 + 2^2 = 64 + 4 = 68\n",
    "6^2 + 8^2 = 36 + 64 = 100\n",
    "1^2 + 0^2 + 0^2 = 1\n",
    "Since we reached 1, 19 is a Happy number.\n",
    "\n",
    "Harshad Number:\n",
    "A Harshad number (also known as Niven number) is a number that is divisible by the sum of its digits. In other words, the number itself should be divisible by the sum of its digits.\n",
    "For example, let's take the number 18:\n",
    "The sum of its digits is 1 + 8 = 9.\n",
    "Since 18 is divisible by 9 (18 ÷ 9 = 2), it is a Harshad number.\n",
    "\n",
    "These are interesting concepts in number theory, and you can write Python programs to check if a given number falls into any of these categories."
   ]
  },
  {
   "cell_type": "code",
   "execution_count": 2,
   "id": "86ff5ab6-479a-4245-8e2d-2bcd60b87967",
   "metadata": {},
   "outputs": [
    {
     "name": "stdin",
     "output_type": "stream",
     "text": [
      "Enter a number:  135\n"
     ]
    },
    {
     "name": "stdout",
     "output_type": "stream",
     "text": [
      "135 is a Disarium number.\n"
     ]
    }
   ],
   "source": [
    "#1\n",
    "def is_disarium_number(num):\n",
    "    # Convert the number to string to iterate over each digit\n",
    "    num_str = str(num)\n",
    "    length = len(num_str)\n",
    "    \n",
    "    # Calculate the sum of digits raised to their respective positions\n",
    "    digit_sum = sum(int(num_str[i])**(i+1) for i in range(length))\n",
    "    \n",
    "    # Check if the sum is equal to the original number\n",
    "    return digit_sum == num\n",
    "\n",
    "# Test the function\n",
    "number = int(input(\"Enter a number: \"))\n",
    "if is_disarium_number(number):\n",
    "    print(number, \"is a Disarium number.\")\n",
    "else:\n",
    "    print(number, \"is not a Disarium number.\")\n"
   ]
  },
  {
   "cell_type": "code",
   "execution_count": 3,
   "id": "f0a28654-6dd0-4f57-bf7c-1e0eda9572bf",
   "metadata": {},
   "outputs": [
    {
     "name": "stdout",
     "output_type": "stream",
     "text": [
      "Disarium numbers between 1 and 100:\n",
      "1\n",
      "2\n",
      "3\n",
      "4\n",
      "5\n",
      "6\n",
      "7\n",
      "8\n",
      "9\n",
      "89\n"
     ]
    }
   ],
   "source": [
    "def is_disarium_number(num):\n",
    "    num_str = str(num)\n",
    "    length = len(num_str)\n",
    "    digit_sum = sum(int(num_str[i])**(i+1) for i in range(length))\n",
    "    return digit_sum == num\n",
    "\n",
    "print(\"Disarium numbers between 1 and 100:\")\n",
    "for num in range(1, 101):\n",
    "    if is_disarium_number(num):\n",
    "        print(num)\n",
    "\n",
    "        "
   ]
  },
  {
   "cell_type": "code",
   "execution_count": 5,
   "id": "1d386e86-c593-4cca-9962-a862da6c6404",
   "metadata": {},
   "outputs": [
    {
     "name": "stdin",
     "output_type": "stream",
     "text": [
      "Enter a number:  19\n"
     ]
    },
    {
     "name": "stdout",
     "output_type": "stream",
     "text": [
      "19 is a Happy number.\n"
     ]
    }
   ],
   "source": [
    "#3\n",
    "def is_happy_number(num):\n",
    "    visited = set()\n",
    "    while num != 1:\n",
    "        num = sum(int(digit)**2 for digit in str(num))\n",
    "        if num in visited:\n",
    "            return False\n",
    "        visited.add(num)\n",
    "    return True\n",
    "\n",
    "# Test the function\n",
    "number = int(input(\"Enter a number: \"))\n",
    "if is_happy_number(number):\n",
    "    print(number, \"is a Happy number.\")\n",
    "else:\n",
    "    print(number, \"is not a Happy number.\")\n"
   ]
  },
  {
   "cell_type": "code",
   "execution_count": 6,
   "id": "d34a0155-18d4-4de1-9f0e-63366ec135c3",
   "metadata": {},
   "outputs": [
    {
     "name": "stdout",
     "output_type": "stream",
     "text": [
      "Happy numbers between 1 and 100:\n",
      "1\n",
      "7\n",
      "10\n",
      "13\n",
      "19\n",
      "23\n",
      "28\n",
      "31\n",
      "32\n",
      "44\n",
      "49\n",
      "68\n",
      "70\n",
      "79\n",
      "82\n",
      "86\n",
      "91\n",
      "94\n",
      "97\n",
      "100\n"
     ]
    }
   ],
   "source": [
    "#4\n",
    "def is_happy_number(num):\n",
    "    visited = set()\n",
    "    while num != 1:\n",
    "        num = sum(int(digit)**2 for digit in str(num))\n",
    "        if num in visited:\n",
    "            return False\n",
    "        visited.add(num)\n",
    "    return True\n",
    "\n",
    "print(\"Happy numbers between 1 and 100:\")\n",
    "for num in range(1, 101):\n",
    "    if is_happy_number(num):\n",
    "        print(num)\n"
   ]
  },
  {
   "cell_type": "code",
   "execution_count": 9,
   "id": "74ef73f8-c0b6-4975-8e4e-ea6a71748842",
   "metadata": {},
   "outputs": [
    {
     "name": "stdin",
     "output_type": "stream",
     "text": [
      "Enter a number:  18\n"
     ]
    },
    {
     "name": "stdout",
     "output_type": "stream",
     "text": [
      "18 is a Harshad number.\n"
     ]
    }
   ],
   "source": [
    "#5\n",
    "def is_harshad_number(num):\n",
    "    digit_sum = sum(int(digit) for digit in str(num))\n",
    "    return num % digit_sum == 0\n",
    "\n",
    "# Test the function\n",
    "number = int(input(\"Enter a number: \"))\n",
    "if is_harshad_number(number):\n",
    "    print(number, \"is a Harshad number.\")\n",
    "else:\n",
    "    print(number, \"is not a Harshad number.\")\n"
   ]
  },
  {
   "cell_type": "code",
   "execution_count": 8,
   "id": "c5369bd5-217c-4291-b241-21f3c37db647",
   "metadata": {},
   "outputs": [
    {
     "name": "stdout",
     "output_type": "stream",
     "text": [
      "Pronic numbers between 1 and 100:\n",
      "2\n",
      "6\n",
      "12\n",
      "20\n",
      "30\n",
      "42\n",
      "56\n",
      "72\n",
      "90\n"
     ]
    }
   ],
   "source": [
    "#6\n",
    "def is_pronic_number(num):\n",
    "    for i in range(1, int(num/2) + 1):\n",
    "        if i * (i + 1) == num:\n",
    "            return True\n",
    "    return False\n",
    "\n",
    "print(\"Pronic numbers between 1 and 100:\")\n",
    "for num in range(1, 101):\n",
    "    if is_pronic_number(num):\n",
    "        print(num)\n"
   ]
  },
  {
   "cell_type": "markdown",
   "id": "fac7b180-7f5a-43c3-b42a-ee2285b1bd63",
   "metadata": {},
   "source": [
    "A pronic number, also known as an oblong number or rectangular number, is a number that is the product of two consecutive integers. In other words, a pronic number can be represented as n*(n+1), where n is a positive integer"
   ]
  },
  {
   "cell_type": "code",
   "execution_count": null,
   "id": "9d9934ad-5103-4392-9ca2-40c3c1d15445",
   "metadata": {},
   "outputs": [],
   "source": []
  }
 ],
 "metadata": {
  "kernelspec": {
   "display_name": "Python 3 (ipykernel)",
   "language": "python",
   "name": "python3"
  },
  "language_info": {
   "codemirror_mode": {
    "name": "ipython",
    "version": 3
   },
   "file_extension": ".py",
   "mimetype": "text/x-python",
   "name": "python",
   "nbconvert_exporter": "python",
   "pygments_lexer": "ipython3",
   "version": "3.10.6"
  }
 },
 "nbformat": 4,
 "nbformat_minor": 5
}

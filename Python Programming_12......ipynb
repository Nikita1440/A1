{
 "cells": [
  {
   "cell_type": "markdown",
   "id": "8141ff4e-d18a-4715-b9ff-ae6ed5d74afd",
   "metadata": {},
   "source": [
    "1. Write a Python program to Extract Unique values dictionary values?\n",
    "2. Write a Python program to find the sum of all items in a dictionary?\n",
    "3. Write a Python program to Merging two Dictionaries?\n",
    "4. Write a Python program to convert key-values list to flat dictionary?\n",
    "5. Write a Python program to insertion at the beginning in OrderedDict?\n",
    "6. Write a Python program to check order of character in string using OrderedDict()?\n",
    "7. Write a Python program to sort Python Dictionaries by Key or Value?"
   ]
  },
  {
   "cell_type": "code",
   "execution_count": 1,
   "id": "10839efa-6f7a-4771-bdc4-6d1bfa056fb0",
   "metadata": {},
   "outputs": [
    {
     "name": "stdout",
     "output_type": "stream",
     "text": [
      "{1, 2, 3, 4, 5, 6, 'value'}\n"
     ]
    }
   ],
   "source": [
    "#1\n",
    "def extract_unique_values(dictionary):\n",
    "    unique_values = set()\n",
    "    \n",
    "    for values in dictionary.values():\n",
    "        if isinstance(values, list) or isinstance(values, tuple):\n",
    "            unique_values.update(set(values))\n",
    "        else:\n",
    "            unique_values.add(values)\n",
    "    \n",
    "    return unique_values\n",
    "\n",
    "# Example usage\n",
    "my_dict = {\n",
    "    'key1': [1, 2, 3],\n",
    "    'key2': [2, 3, 4],\n",
    "    'key3': 3,\n",
    "    'key4': 'value',\n",
    "    'key5': (4, 5, 6)\n",
    "}\n",
    "\n",
    "unique_values = extract_unique_values(my_dict)\n",
    "print(unique_values)\n"
   ]
  },
  {
   "cell_type": "code",
   "execution_count": 2,
   "id": "873c6e54-0be0-44c3-bdb9-479491349bcf",
   "metadata": {},
   "outputs": [
    {
     "name": "stdout",
     "output_type": "stream",
     "text": [
      "100\n"
     ]
    }
   ],
   "source": [
    "#2\n",
    "def sum_of_dictionary_items(dictionary):\n",
    "    total_sum = sum(dictionary.values())\n",
    "    return total_sum\n",
    "\n",
    "# Example usage\n",
    "my_dict = {\n",
    "    'a': 10,\n",
    "    'b': 20,\n",
    "    'c': 30,\n",
    "    'd': 40\n",
    "}\n",
    "\n",
    "total_sum = sum_of_dictionary_items(my_dict)\n",
    "print(total_sum)\n"
   ]
  },
  {
   "cell_type": "code",
   "execution_count": 3,
   "id": "4e2f17df-97d2-43fd-822d-1e2be15a861e",
   "metadata": {},
   "outputs": [
    {
     "name": "stdout",
     "output_type": "stream",
     "text": [
      "{'a': 1, 'b': 2, 'c': 3, 'd': 4}\n"
     ]
    }
   ],
   "source": [
    "#3\n",
    "def merge_dictionaries(dict1, dict2):\n",
    "    merged_dict = {**dict1, **dict2}\n",
    "    return merged_dict\n",
    "\n",
    "# Example usage\n",
    "dict1 = {'a': 1, 'b': 2}\n",
    "dict2 = {'c': 3, 'd': 4}\n",
    "\n",
    "merged_dict = merge_dictionaries(dict1, dict2)\n",
    "print(merged_dict)\n"
   ]
  },
  {
   "cell_type": "code",
   "execution_count": 4,
   "id": "03965722-5c32-4035-a59b-ef91c55ebd03",
   "metadata": {},
   "outputs": [
    {
     "name": "stdout",
     "output_type": "stream",
     "text": [
      "{'a': 1, 'b': 2, 'c': 3, 'd': 4}\n"
     ]
    }
   ],
   "source": [
    "#4\n",
    "def convert_to_flat_dictionary(key_value_list):\n",
    "    flat_dict = {}\n",
    "    \n",
    "    for pair in key_value_list:\n",
    "        key = pair[0]\n",
    "        value = pair[1]\n",
    "        flat_dict[key] = value\n",
    "    \n",
    "    return flat_dict\n",
    "\n",
    "# Example usage\n",
    "key_value_list = [('a', 1), ('b', 2), ('c', 3), ('d', 4)]\n",
    "\n",
    "flat_dictionary = convert_to_flat_dictionary(key_value_list)\n",
    "print(flat_dictionary)\n"
   ]
  },
  {
   "cell_type": "code",
   "execution_count": 5,
   "id": "424a133c-2217-4377-88b7-84639dd51105",
   "metadata": {},
   "outputs": [
    {
     "name": "stdout",
     "output_type": "stream",
     "text": [
      "OrderedDict([('x', 10), ('a', 1), ('b', 2), ('c', 3)])\n"
     ]
    }
   ],
   "source": [
    "#5\n",
    "from collections import OrderedDict\n",
    "\n",
    "def insert_at_beginning(ordered_dict, key, value):\n",
    "    ordered_dict.update({key: value})\n",
    "    ordered_dict.move_to_end(key, last=False)\n",
    "\n",
    "# Example usage\n",
    "ordered_dict = OrderedDict([('a', 1), ('b', 2), ('c', 3)])\n",
    "\n",
    "insert_at_beginning(ordered_dict, 'x', 10)\n",
    "print(ordered_dict)\n"
   ]
  },
  {
   "cell_type": "code",
   "execution_count": 6,
   "id": "866b1b4f-10a5-44c6-9969-b55e061412d2",
   "metadata": {},
   "outputs": [
    {
     "name": "stdout",
     "output_type": "stream",
     "text": [
      "True\n"
     ]
    }
   ],
   "source": [
    "#6\n",
    "from collections import OrderedDict\n",
    "\n",
    "def check_character_order(string, pattern):\n",
    "    ordered_dict = OrderedDict.fromkeys(string)\n",
    "    pattern_length = 0\n",
    "    \n",
    "    for key in ordered_dict:\n",
    "        if key == pattern[pattern_length]:\n",
    "            pattern_length += 1\n",
    "        \n",
    "        if pattern_length == len(pattern):\n",
    "            return True\n",
    "    \n",
    "    return False\n",
    "\n",
    "# Example usage\n",
    "text = \"Hello World\"\n",
    "pattern = \"oWr\"\n",
    "is_ordered = check_character_order(text, pattern)\n",
    "print(is_ordered)\n"
   ]
  },
  {
   "cell_type": "code",
   "execution_count": 7,
   "id": "59f15fb7-8aa0-4cc6-8ce7-d1a490766568",
   "metadata": {},
   "outputs": [
    {
     "name": "stdout",
     "output_type": "stream",
     "text": [
      "{'a': 5, 'b': 20, 'c': 10, 'd': 15}\n",
      "{'a': 5, 'c': 10, 'd': 15, 'b': 20}\n"
     ]
    }
   ],
   "source": [
    "#7\n",
    "def sort_dictionary(dictionary, by_key=True):\n",
    "    sorted_dict = {}\n",
    "    \n",
    "    if by_key:\n",
    "        sorted_keys = sorted(dictionary.keys())\n",
    "        \n",
    "        for key in sorted_keys:\n",
    "            sorted_dict[key] = dictionary[key]\n",
    "    else:\n",
    "        sorted_items = sorted(dictionary.items(), key=lambda x: x[1])\n",
    "        \n",
    "        for item in sorted_items:\n",
    "            sorted_dict[item[0]] = item[1]\n",
    "    \n",
    "    return sorted_dict\n",
    "\n",
    "# Example usage\n",
    "my_dict = {'c': 10, 'b': 20, 'a': 5, 'd': 15}\n",
    "\n",
    "sorted_by_key = sort_dictionary(my_dict, by_key=True)\n",
    "print(sorted_by_key)\n",
    "\n",
    "sorted_by_value = sort_dictionary(my_dict, by_key=False)\n",
    "print(sorted_by_value)\n"
   ]
  },
  {
   "cell_type": "code",
   "execution_count": null,
   "id": "3648842f-4eb2-46cc-88c1-bac113cf8f69",
   "metadata": {},
   "outputs": [],
   "source": []
  }
 ],
 "metadata": {
  "kernelspec": {
   "display_name": "Python 3 (ipykernel)",
   "language": "python",
   "name": "python3"
  },
  "language_info": {
   "codemirror_mode": {
    "name": "ipython",
    "version": 3
   },
   "file_extension": ".py",
   "mimetype": "text/x-python",
   "name": "python",
   "nbconvert_exporter": "python",
   "pygments_lexer": "ipython3",
   "version": "3.10.6"
  }
 },
 "nbformat": 4,
 "nbformat_minor": 5
}

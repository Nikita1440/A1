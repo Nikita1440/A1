{
 "cells": [
  {
   "cell_type": "markdown",
   "id": "ed8785a4",
   "metadata": {},
   "source": [
    "# A11\n",
    "1. Create an assert statement that throws an AssertionError if the variable spam is a negative\n",
    "integer."
   ]
  },
  {
   "cell_type": "code",
   "execution_count": 2,
   "id": "7afa4872",
   "metadata": {},
   "outputs": [
    {
     "ename": "AssertionError",
     "evalue": "spam should not be a negative integer",
     "output_type": "error",
     "traceback": [
      "\u001b[1;31m---------------------------------------------------------------------------\u001b[0m",
      "\u001b[1;31mAssertionError\u001b[0m                            Traceback (most recent call last)",
      "Cell \u001b[1;32mIn[2], line 2\u001b[0m\n\u001b[0;32m      1\u001b[0m spam \u001b[38;5;241m=\u001b[39m \u001b[38;5;241m-\u001b[39m\u001b[38;5;241m10\u001b[39m  \u001b[38;5;66;03m# define spam as a negative integer\u001b[39;00m\n\u001b[1;32m----> 2\u001b[0m \u001b[38;5;28;01massert\u001b[39;00m spam \u001b[38;5;241m>\u001b[39m\u001b[38;5;241m=\u001b[39m \u001b[38;5;241m0\u001b[39m, \u001b[38;5;124m\"\u001b[39m\u001b[38;5;124mspam should not be a negative integer\u001b[39m\u001b[38;5;124m\"\u001b[39m\n",
      "\u001b[1;31mAssertionError\u001b[0m: spam should not be a negative integer"
     ]
    }
   ],
   "source": [
    "spam = -10  # define spam as a negative integer\n",
    "assert spam >= 0, \"spam should not be a negative integer\"\n"
   ]
  },
  {
   "cell_type": "markdown",
   "id": "166c459b",
   "metadata": {},
   "source": [
    "2. Write an assert statement that triggers an AssertionError if the variables eggs and bacon contain\n",
    "strings that are the same as each other, even if their cases are different (that is, &#39;hello&#39; and &#39;hello&#39; are\n",
    "considered the same, and &#39;goodbye&#39; and &#39;GOODbye&#39; are also considered the same)."
   ]
  },
  {
   "cell_type": "code",
   "execution_count": 4,
   "id": "4a6193dd",
   "metadata": {},
   "outputs": [
    {
     "ename": "AssertionError",
     "evalue": "eggs and bacon should not be the same (ignoring case)",
     "output_type": "error",
     "traceback": [
      "\u001b[1;31m---------------------------------------------------------------------------\u001b[0m",
      "\u001b[1;31mAssertionError\u001b[0m                            Traceback (most recent call last)",
      "Cell \u001b[1;32mIn[4], line 3\u001b[0m\n\u001b[0;32m      1\u001b[0m eggs \u001b[38;5;241m=\u001b[39m \u001b[38;5;124m\"\u001b[39m\u001b[38;5;124mHello\u001b[39m\u001b[38;5;124m\"\u001b[39m  \u001b[38;5;66;03m# define eggs\u001b[39;00m\n\u001b[0;32m      2\u001b[0m bacon \u001b[38;5;241m=\u001b[39m \u001b[38;5;124m\"\u001b[39m\u001b[38;5;124mHELLO\u001b[39m\u001b[38;5;124m\"\u001b[39m  \u001b[38;5;66;03m# define bacon\u001b[39;00m\n\u001b[1;32m----> 3\u001b[0m \u001b[38;5;28;01massert\u001b[39;00m eggs\u001b[38;5;241m.\u001b[39mlower() \u001b[38;5;241m!=\u001b[39m bacon\u001b[38;5;241m.\u001b[39mlower(), \u001b[38;5;124m\"\u001b[39m\u001b[38;5;124meggs and bacon should not be the same (ignoring case)\u001b[39m\u001b[38;5;124m\"\u001b[39m\n",
      "\u001b[1;31mAssertionError\u001b[0m: eggs and bacon should not be the same (ignoring case)"
     ]
    }
   ],
   "source": [
    "eggs = \"Hello\"  # define eggs\n",
    "bacon = \"HELLO\"  # define bacon\n",
    "assert eggs.lower() != bacon.lower(), \"eggs and bacon should not be the same (ignoring case)\"\n"
   ]
  },
  {
   "cell_type": "markdown",
   "id": "4688ed83",
   "metadata": {},
   "source": [
    "3. Create an assert statement that throws an AssertionError every time."
   ]
  },
  {
   "cell_type": "code",
   "execution_count": 6,
   "id": "a3563377",
   "metadata": {},
   "outputs": [
    {
     "ename": "AssertionError",
     "evalue": "This assert statement always triggers an AssertionError",
     "output_type": "error",
     "traceback": [
      "\u001b[1;31m---------------------------------------------------------------------------\u001b[0m",
      "\u001b[1;31mAssertionError\u001b[0m                            Traceback (most recent call last)",
      "Cell \u001b[1;32mIn[6], line 1\u001b[0m\n\u001b[1;32m----> 1\u001b[0m \u001b[38;5;28;01massert\u001b[39;00m \u001b[38;5;28;01mFalse\u001b[39;00m, \u001b[38;5;124m\"\u001b[39m\u001b[38;5;124mThis assert statement always triggers an AssertionError\u001b[39m\u001b[38;5;124m\"\u001b[39m\n",
      "\u001b[1;31mAssertionError\u001b[0m: This assert statement always triggers an AssertionError"
     ]
    }
   ],
   "source": [
    "assert False, \"This assert statement always triggers an AssertionError\"\n"
   ]
  },
  {
   "cell_type": "markdown",
   "id": "ce971a6a",
   "metadata": {},
   "source": [
    "4. What are the two lines that must be present in your software in order to call logging.debug()?"
   ]
  },
  {
   "cell_type": "code",
   "execution_count": 7,
   "id": "492ec109",
   "metadata": {},
   "outputs": [],
   "source": [
    "import logging\n",
    "logging.basicConfig(level=logging.DEBUG)\n"
   ]
  },
  {
   "cell_type": "markdown",
   "id": "e7f661a3",
   "metadata": {},
   "source": [
    "6. What are the five levels of logging?\n",
    " The logging module in Python defines the following five standard levels of logging, in increasing order of severity:\n",
    "\n",
    "DEBUG: Detailed information, typically of interest only when diagnosing problems.\n",
    "INFO: Confirmation that things are working as expected.\n",
    "WARNING: An indication that something unexpected or undesirable happened, or indicative of some problem in the near future. The software is still working as expected.\n",
    "ERROR: Due to a more serious problem, the software has not been able to perform some function.\n",
    "CRITICAL: A very serious error, indicating that the program itself may be unable to continue running.\n",
    "You can use these levels to control the verbosity of your logging output, and to filter and route logs to different destinations based on their severity. Note that you can also define custom logging levels if needed.\n",
    "\n",
    "\n",
    "\n",
    "\n",
    "\n",
    "\n",
    "7. What line of code would you add to your software to disable all logging messages?"
   ]
  },
  {
   "cell_type": "code",
   "execution_count": 8,
   "id": "2fe0342f",
   "metadata": {},
   "outputs": [],
   "source": [
    "logging.disable(logging.CRITICAL)\n"
   ]
  },
  {
   "cell_type": "markdown",
   "id": "7b79603b",
   "metadata": {},
   "source": [
    "8.Why is using logging messages better than using print() to display the same message?\n",
    "There are several reasons why using logging messages is often better than using print() statements to display the same message:\n",
    "\n",
    "Flexible output destinations: With logging, you can easily send log messages to different output destinations, such as a file, console, email, or syslog server. This makes it easier to manage and analyze your logs, and also enables you to monitor your application remotely.\n",
    "\n",
    "Fine-grained control over log levels: With logging, you can specify different levels of severity for different types of log messages. This allows you to filter out less important log messages and only focus on the most relevant ones. With print() statements, you have less control over which messages get printed and when.\n",
    "\n",
    "Consistent formatting: With logging, you can define a consistent format for all log messages, including timestamp, severity level, and message text. This makes it easier to read and analyze log files, and also helps with debugging.\n",
    "\n",
    "Thread-safety: With logging, you can ensure that log messages are thread-safe, which means that multiple threads can write to the same log file without interfering with each other. With print() statements, this can be more difficult to achieve.\n",
    "\n",
    "Overall, using logging messages is a more robust and scalable approach to managing and analyzing log data than using print() statements. While print() statements can be useful for quick debugging and testing, they are not a suitable replacement for a proper logging framework.\n",
    "\n",
    "\n",
    "\n",
    "\n",
    "\n",
    "9. What are the differences between the Step Over, Step In, and Step Out buttons in the debugger?\n",
    "\n",
    "\n",
    "\n",
    "\n",
    "The three buttons in the debugger, Step Over, Step In, and Step Out, are used to navigate through your code while debugging. Here are the differences between them:\n",
    "\n",
    "Step Over: This button allows you to execute the current line of code, and then immediately move to the next line. If the current line contains a function call, the entire function will be executed, but the debugger will not step into the function definition.\n",
    "\n",
    "Step In: This button allows you to step into a function call and execute it line-by-line, one statement at a time. This can be useful for debugging functions or methods that you suspect might be causing problems.\n",
    "\n",
    "Step Out: This button allows you to step out of the current function and return to the caller. This can be useful if you have stepped into a function but now want to return to the main program flow.\n",
    "\n",
    "In summary, the Step Over button executes the current line and moves to the next, the Step In button allows you to step into a function call, and the Step Out button allows you to return from a function call and continue executing the code. Knowing when to use each button can help you navigate through your code more efficiently and find and fix bugs more quickly.\n",
    "\n",
    "\n",
    "\n",
    "\n",
    "10.After you click Continue, when will the debugger stop ?\n",
    "\n",
    "\n",
    "\n",
    "When you click the Continue button in the debugger, it will continue executing your code until one of the following conditions is met:\n",
    "\n",
    "The program exits normally: If your program finishes executing without encountering any more breakpoints or exceptions, the debugger will stop and return control to you.\n",
    "\n",
    "A breakpoint is encountered: If you have set a breakpoint in your code and the program reaches that breakpoint, the debugger will stop and allow you to examine the state of the program at that point.\n",
    "\n",
    "An unhandled exception is raised: If your program encounters an exception that is not handled by a try/except block, the debugger will stop and show you the traceback and other information about the exception.\n",
    "\n",
    "In summary, when you click the Continue button in the debugger, the debugger will continue executing your code until it reaches the end, encounters a breakpoint, or encounters an unhandled exception.\n",
    "\n",
    "\n",
    "\n",
    "\n",
    "\n",
    "11. What is the concept of a breakpoint?\n",
    "\n",
    "\n",
    "A breakpoint is a tool used in software development to temporarily stop the execution of a program at a specific point during runtime. When the program execution reaches the breakpoint, it pauses and allows the developer to examine the state of the program, including variables, memory, and other program data.\n",
    "\n",
    "Breakpoints are useful for debugging because they allow developers to inspect the program's state at a specific point in time and diagnose problems that may be occurring. By setting breakpoints in strategic locations in the code, developers can isolate problematic code and step through it line-by-line to identify and fix errors.\n",
    "\n",
    "Breakpoints can be set in integrated development environments (IDEs) or with the use of debugging tools, and they can be set on specific lines of code, functions, or conditions. They can also be removed or disabled once they are no longer needed.\n",
    "\n",
    "In summary, breakpoints are a useful tool for developers to temporarily pause program execution and examine the state of the program to identify and fix errors.\n",
    "\n",
    "\n",
    "\n",
    "\n"
   ]
  },
  {
   "cell_type": "code",
   "execution_count": null,
   "id": "9ed5be83",
   "metadata": {},
   "outputs": [],
   "source": []
  }
 ],
 "metadata": {
  "kernelspec": {
   "display_name": "Python 3 (ipykernel)",
   "language": "python",
   "name": "python3"
  },
  "language_info": {
   "codemirror_mode": {
    "name": "ipython",
    "version": 3
   },
   "file_extension": ".py",
   "mimetype": "text/x-python",
   "name": "python",
   "nbconvert_exporter": "python",
   "pygments_lexer": "ipython3",
   "version": "3.10.9"
  }
 },
 "nbformat": 4,
 "nbformat_minor": 5
}

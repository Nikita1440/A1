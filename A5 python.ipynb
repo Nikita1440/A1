{
 "cells": [
  {
   "cell_type": "code",
   "execution_count": 2,
   "id": "45a66b26",
   "metadata": {},
   "outputs": [
    {
     "data": {
      "text/plain": [
       "dict"
      ]
     },
     "execution_count": 2,
     "metadata": {},
     "output_type": "execute_result"
    }
   ],
   "source": [
    "#1. What does an empty dictionary&#39;s code look like?\n",
    "d = {}\n",
    "type(d)"
   ]
  },
  {
   "cell_type": "code",
   "execution_count": 15,
   "id": "4cf2d5a5",
   "metadata": {},
   "outputs": [
    {
     "data": {
      "text/plain": [
       "dict_values([42])"
      ]
     },
     "execution_count": 15,
     "metadata": {},
     "output_type": "execute_result"
    }
   ],
   "source": [
    "#2. What is the value of a dictionary value with the key &#39;foo&#39; and the value 42?\n",
    "d = { 'foo': 42}\n",
    "d.values()"
   ]
  },
  {
   "cell_type": "markdown",
   "id": "8aa87dd3",
   "metadata": {},
   "source": [
    "#3. What is the most significant distinction between a dictionary and a list?\n",
    "\"\"\"List is a collection of index values pairs as that of array in c++.List is created by placing elements in [ ] separated by commas “, “The indices of list are integers starting from 0.The elements are accessed via indices.The order of the elements entered are maintained.\"\"\" #while\n",
    "\"\"\"Dictionary is a hashed structure of key and value pairs.Dictionary is created by placing elements in { } as “key”:”value”, each key value pair is separated by commas “, “The keys of dictionary can be of any data type.The elements are accessed via key-values.There is no guarantee for maintaining order.\"\"\""
   ]
  },
  {
   "cell_type": "code",
   "execution_count": 16,
   "id": "834a1881",
   "metadata": {},
   "outputs": [
    {
     "ename": "KeyError",
     "evalue": "'foo'",
     "output_type": "error",
     "traceback": [
      "\u001b[1;31m---------------------------------------------------------------------------\u001b[0m",
      "\u001b[1;31mKeyError\u001b[0m                                  Traceback (most recent call last)",
      "Input \u001b[1;32mIn [16]\u001b[0m, in \u001b[0;36m<cell line: 3>\u001b[1;34m()\u001b[0m\n\u001b[0;32m      1\u001b[0m \u001b[38;5;66;03m#4. What happens if you try to access spam[&#39;foo&#39;] if spam is {&#39;bar&#39;: 100}?\u001b[39;00m\n\u001b[0;32m      2\u001b[0m spam \u001b[38;5;241m=\u001b[39m {\u001b[38;5;124m'\u001b[39m\u001b[38;5;124mbar\u001b[39m\u001b[38;5;124m'\u001b[39m: \u001b[38;5;241m100\u001b[39m}\n\u001b[1;32m----> 3\u001b[0m \u001b[43mspam\u001b[49m\u001b[43m[\u001b[49m\u001b[38;5;124;43m'\u001b[39;49m\u001b[38;5;124;43mfoo\u001b[39;49m\u001b[38;5;124;43m'\u001b[39;49m\u001b[43m]\u001b[49m\n",
      "\u001b[1;31mKeyError\u001b[0m: 'foo'"
     ]
    }
   ],
   "source": [
    "#4. What happens if you try to access spam[&#39;foo&#39;] if spam is {&#39;bar&#39;: 100}?\n",
    "spam = {'bar': 100}\n",
    "spam['foo']"
   ]
  },
  {
   "cell_type": "raw",
   "id": "a2ad1ecb",
   "metadata": {},
   "source": [
    "#5. If a dictionary is stored in spam, what is the difference between the expressions &#39;cat&#39; in spam and\n",
    "&#39;cat&#39; in spam.keys()?\n"
   ]
  },
  {
   "cell_type": "code",
   "execution_count": 17,
   "id": "6d3ebb21",
   "metadata": {},
   "outputs": [
    {
     "data": {
      "text/plain": [
       "10"
      ]
     },
     "execution_count": 17,
     "metadata": {},
     "output_type": "execute_result"
    }
   ],
   "source": [
    "spam={'cat': 10}\n",
    "spam['cat'] # this gives the value of dict"
   ]
  },
  {
   "cell_type": "code",
   "execution_count": 18,
   "id": "7f3ff709",
   "metadata": {},
   "outputs": [
    {
     "data": {
      "text/plain": [
       "dict_keys(['cat'])"
      ]
     },
     "execution_count": 18,
     "metadata": {},
     "output_type": "execute_result"
    }
   ],
   "source": [
    "spam.keys() # it gives key pair of dict"
   ]
  },
  {
   "cell_type": "code",
   "execution_count": 19,
   "id": "2720d4a3",
   "metadata": {},
   "outputs": [
    {
     "ename": "SyntaxError",
     "evalue": "invalid syntax (4261908185.py, line 2)",
     "output_type": "error",
     "traceback": [
      "\u001b[1;36m  Input \u001b[1;32mIn [19]\u001b[1;36m\u001b[0m\n\u001b[1;33m    &#39;cat&#39; in spam.values()?\u001b[0m\n\u001b[1;37m    ^\u001b[0m\n\u001b[1;31mSyntaxError\u001b[0m\u001b[1;31m:\u001b[0m invalid syntax\n"
     ]
    }
   ],
   "source": [
    "#6. If a dictionary is stored in spam, what is the difference between the expressions &#39;cat&#39; in spam and\n",
    "&#39;cat&#39; in spam.values()?\n"
   ]
  },
  {
   "cell_type": "code",
   "execution_count": 22,
   "id": "b4fccca3",
   "metadata": {},
   "outputs": [
    {
     "data": {
      "text/plain": [
       "10"
      ]
     },
     "execution_count": 22,
     "metadata": {},
     "output_type": "execute_result"
    }
   ],
   "source": [
    "spam={'cat': 10}\n",
    "spam['cat'] # this gives the value of dict\n"
   ]
  },
  {
   "cell_type": "code",
   "execution_count": 23,
   "id": "be0f2bf7",
   "metadata": {},
   "outputs": [
    {
     "data": {
      "text/plain": [
       "dict_values([10])"
      ]
     },
     "execution_count": 23,
     "metadata": {},
     "output_type": "execute_result"
    }
   ],
   "source": [
    "spam.values() # it also gives value of dict in list format"
   ]
  },
  {
   "cell_type": "code",
   "execution_count": 27,
   "id": "7bb6651e",
   "metadata": {},
   "outputs": [],
   "source": [
    "#7. What is a shortcut for the following code?\n",
    "if 'colour' not in spam:\n",
    "    spam['colour'] = 'black'"
   ]
  },
  {
   "cell_type": "code",
   "execution_count": 31,
   "id": "35f23600",
   "metadata": {},
   "outputs": [
    {
     "data": {
      "text/plain": [
       "{'cat': 10, 'colour': 'black'}"
      ]
     },
     "execution_count": 31,
     "metadata": {},
     "output_type": "execute_result"
    }
   ],
   "source": [
    "spam"
   ]
  },
  {
   "cell_type": "code",
   "execution_count": 33,
   "id": "b5b2476a",
   "metadata": {},
   "outputs": [],
   "source": [
    "spam={'cat': 10}\n",
    "d = {'colour': 'black'}\n",
    "spam.update(d)"
   ]
  },
  {
   "cell_type": "code",
   "execution_count": 34,
   "id": "387b72d3",
   "metadata": {},
   "outputs": [
    {
     "data": {
      "text/plain": [
       "{'cat': 10, 'colour': 'black'}"
      ]
     },
     "execution_count": 34,
     "metadata": {},
     "output_type": "execute_result"
    }
   ],
   "source": [
    "spam"
   ]
  },
  {
   "cell_type": "code",
   "execution_count": 38,
   "id": "c1d32891",
   "metadata": {},
   "outputs": [],
   "source": [
    "#8. How do you &quot;pretty print&quot; dictionary values using which module and function?\n"
   ]
  },
  {
   "cell_type": "code",
   "execution_count": 56,
   "id": "5380f8a2",
   "metadata": {},
   "outputs": [],
   "source": [
    ">>> from urllib import request\n",
    ">>> response = request.urlopen(\"https://jsonplaceholder.typicode.com/users\")\n",
    ">>> json_response = response.read()\n",
    ">>> import json\n",
    ">>> users = json.loads(json_response)\n",
    "from pprint import pprint"
   ]
  },
  {
   "cell_type": "code",
   "execution_count": 67,
   "id": "9849f98a",
   "metadata": {},
   "outputs": [],
   "source": [
    "d= [{'Name': 'Nikita', 'Subject': 'python', 'class': \"fssd\"} ,{'surnamename': 'choudhary', 'mobile no': '776867686787787'}, {'grade': 'yet to be declared'}]"
   ]
  },
  {
   "cell_type": "code",
   "execution_count": 68,
   "id": "b0731709",
   "metadata": {},
   "outputs": [
    {
     "name": "stdout",
     "output_type": "stream",
     "text": [
      "[{'Name': 'Nikita', 'Subject': 'python', 'class': 'fssd'}, {'surnamename': 'choudhary', 'mobile no': '776867686787787'}, {'grade': 'yet to be declared'}]\n"
     ]
    }
   ],
   "source": [
    "print(d)"
   ]
  },
  {
   "cell_type": "code",
   "execution_count": 69,
   "id": "4eb1804d",
   "metadata": {},
   "outputs": [
    {
     "name": "stdout",
     "output_type": "stream",
     "text": [
      "[{'Name': 'Nikita', 'Subject': 'python', 'class': 'fssd'},\n",
      " {'mobile no': '776867686787787', 'surnamename': 'choudhary'},\n",
      " {'grade': 'yet to be declared'}]\n"
     ]
    }
   ],
   "source": [
    "pprint(d)"
   ]
  },
  {
   "cell_type": "code",
   "execution_count": null,
   "id": "e676401f",
   "metadata": {},
   "outputs": [],
   "source": []
  }
 ],
 "metadata": {
  "kernelspec": {
   "display_name": "Python 3 (ipykernel)",
   "language": "python",
   "name": "python3"
  },
  "language_info": {
   "codemirror_mode": {
    "name": "ipython",
    "version": 3
   },
   "file_extension": ".py",
   "mimetype": "text/x-python",
   "name": "python",
   "nbconvert_exporter": "python",
   "pygments_lexer": "ipython3",
   "version": "3.9.12"
  }
 },
 "nbformat": 4,
 "nbformat_minor": 5
}

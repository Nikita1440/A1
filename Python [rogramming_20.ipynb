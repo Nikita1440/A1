{
 "cells": [
  {
   "cell_type": "markdown",
   "id": "b0a3ae37",
   "metadata": {},
   "source": [
    "Question1\n",
    "Create a function that takes a list of strings and integers, and filters out the list so that it\n",
    "returns a list of integers only.\n",
    "Examples\n",
    "filter_list([1, 2, 3, &quot;a&quot;, &quot;b&quot;, 4]) ➞ [1, 2, 3, 4]\n",
    "filter_list([&quot;A&quot;, 0, &quot;Edabit&quot;, 1729, &quot;Python&quot;, &quot;1729&quot;]) ➞ [0, 1729]\n",
    "filter_list([&quot;Nothing&quot;, &quot;here&quot;]) ➞ []\n",
    "\n",
    "Question2\n",
    "Given a list of numbers, create a function which returns the list but with each element&#39;s\n",
    "index in the list added to itself. This means you add 0 to the number at index 0, add 1 to the\n",
    "number at index 1, etc...\n",
    "Examples\n",
    "add_indexes([0, 0, 0, 0, 0]) ➞ [0, 1, 2, 3, 4]\n",
    "add_indexes([1, 2, 3, 4, 5]) ➞ [1, 3, 5, 7, 9]\n",
    "add_indexes([5, 4, 3, 2, 1]) ➞ [5, 5, 5, 5, 5]\n",
    "\n",
    "Question3\n",
    "Create a function that takes the height and radius of a cone as arguments and returns the\n",
    "volume of the cone rounded to the nearest hundredth. See the resources tab for the formula.\n",
    "\n",
    "Examples\n",
    "cone_volume(3, 2) ➞ 12.57\n",
    "\n",
    "cone_volume(15, 6) ➞ 565.49\n",
    "cone_volume(18, 0) ➞ 0\n",
    "\n",
    "Question4\n",
    "This Triangular Number Sequence is generated from a pattern of dots that form a triangle.\n",
    "The first 5 numbers of the sequence, or dots, are:\n",
    "1, 3, 6, 10, 15\n",
    "This means that the first triangle has just one dot, the second one has three dots, the third one\n",
    "has 6 dots and so on.\n",
    "Write a function that gives the number of dots with its corresponding triangle number of the\n",
    "sequence.\n",
    "Examples\n",
    "triangle(1) ➞ 1\n",
    "triangle(6) ➞ 21\n",
    "triangle(215) ➞ 23220\n",
    "\n",
    "Question5\n",
    "Create a function that takes a list of numbers between 1 and 10 (excluding one number) and\n",
    "returns the missing number.\n",
    "Examples\n",
    "missing_num([1, 2, 3, 4, 6, 7, 8, 9, 10]) ➞ 5\n",
    "missing_num([7, 2, 3, 6, 5, 9, 1, 4, 8]) ➞ 10\n",
    "missing_num([10, 5, 1, 2, 4, 6, 8, 3, 9]) ➞ 7"
   ]
  },
  {
   "cell_type": "code",
   "execution_count": 1,
   "id": "c5d27b2a",
   "metadata": {},
   "outputs": [
    {
     "name": "stdout",
     "output_type": "stream",
     "text": [
      "[9, 2, 16]\n",
      "[81, 123]\n",
      "[10, 56, 20, 3]\n",
      "[True, 1]\n"
     ]
    }
   ],
   "source": [
    "# 1\n",
    "def return_only_integer(lst):\n",
    "    return [x for x in lst if isinstance(x, int)]\n",
    "print(return_only_integer([9, 2, \"space\", \"car\", \"lion\", 16]))\n",
    "# Output: [9, 2, 16]\n",
    "\n",
    "print(return_only_integer([\"hello\", 81, \"basketball\", 123, \"fox\"]))\n",
    "# Output: [81, 123]\n",
    "\n",
    "print(return_only_integer([10, \"121\", 56, 20, \"car\", 3, \"lion\"]))\n",
    "# Output: [10, 56, 20, 3]\n",
    "\n",
    "print(return_only_integer([\"String\", True, 3.3, 1]))\n",
    "# Output: [1]\n"
   ]
  },
  {
   "cell_type": "code",
   "execution_count": 3,
   "id": "a39ab7cb",
   "metadata": {},
   "outputs": [
    {
     "name": "stdout",
     "output_type": "stream",
     "text": [
      "[1, 2, 3, 4]\n",
      "[0, 1729]\n",
      "[]\n"
     ]
    }
   ],
   "source": [
    "# 2\n",
    "def filter_list(lst):\n",
    "    return [x for x in lst if isinstance(x, int)]\n",
    "print(filter_list([1, 2, 3, \"a\", \"b\", 4]))\n",
    "# Output: [1, 2, 3, 4]\n",
    "\n",
    "print(filter_list([\"A\", 0, \"Edabit\", 1729, \"Python\", \"1729\"]))\n",
    "# Output: [0, 1729]\n",
    "\n",
    "print(filter_list([\"Nothing\", \"here\"]))\n",
    "# Output: []\n",
    "\n"
   ]
  },
  {
   "cell_type": "markdown",
   "id": "e1ce1015",
   "metadata": {},
   "source": [
    "# 3\n",
    "To calculate the volume of a cone, we can use the formula V = (1/3) * π * r^2 * h, where V is the volume, π is the mathematical constant pi (approximately 3.14159), r is the radius of the cone's base, and h is the height of the cone.\n",
    "\n",
    "Here's the implementation of the cone_volume function in Python:"
   ]
  },
  {
   "cell_type": "code",
   "execution_count": 5,
   "id": "82510e7e",
   "metadata": {},
   "outputs": [
    {
     "name": "stdout",
     "output_type": "stream",
     "text": [
      "12.57\n",
      "565.49\n",
      "0.0\n"
     ]
    }
   ],
   "source": [
    "import math\n",
    "\n",
    "def cone_volume(h, r):\n",
    "    volume = (1/3) * math.pi * r**2 * h\n",
    "    return round(volume, 2)\n",
    "\n",
    "print(cone_volume(3, 2))\n",
    "# Output: 12.57\n",
    "\n",
    "print(cone_volume(15, 6))\n",
    "# Output: 565.49\n",
    "\n",
    "print(cone_volume(18, 0))\n",
    "# Output: 0.0\n"
   ]
  },
  {
   "cell_type": "code",
   "execution_count": 6,
   "id": "c061e9a8",
   "metadata": {},
   "outputs": [],
   "source": [
    "# 4\n",
    "def triangle(n):\n",
    "    return (n * (n + 1)) // 2\n"
   ]
  },
  {
   "cell_type": "code",
   "execution_count": 7,
   "id": "853d3c47",
   "metadata": {},
   "outputs": [
    {
     "name": "stdout",
     "output_type": "stream",
     "text": [
      "1\n",
      "21\n",
      "23220\n"
     ]
    }
   ],
   "source": [
    "print(triangle(1))\n",
    "# Output: 1\n",
    "\n",
    "print(triangle(6))\n",
    "# Output: 21\n",
    "\n",
    "print(triangle(215))\n",
    "# Output: 23220\n"
   ]
  },
  {
   "cell_type": "code",
   "execution_count": 8,
   "id": "64669f07",
   "metadata": {},
   "outputs": [],
   "source": [
    "# 5'\n",
    "def missing_num(nums):\n",
    "    expected_sum = (10 * (10 + 1)) // 2\n",
    "    actual_sum = sum(nums)\n",
    "    missing_number = expected_sum - actual_sum\n",
    "    return missing_number\n"
   ]
  },
  {
   "cell_type": "code",
   "execution_count": 9,
   "id": "bb08505c",
   "metadata": {},
   "outputs": [
    {
     "name": "stdout",
     "output_type": "stream",
     "text": [
      "5\n",
      "10\n",
      "7\n"
     ]
    }
   ],
   "source": [
    "print(missing_num([1, 2, 3, 4, 6, 7, 8, 9, 10]))\n",
    "# Output: 5\n",
    "\n",
    "print(missing_num([7, 2, 3, 6, 5, 9, 1, 4, 8]))\n",
    "# Output: 10\n",
    "\n",
    "print(missing_num([10, 5, 1, 2, 4, 6, 8, 3, 9]))\n",
    "# Output: 7\n"
   ]
  },
  {
   "cell_type": "code",
   "execution_count": null,
   "id": "972a91f7",
   "metadata": {},
   "outputs": [],
   "source": []
  }
 ],
 "metadata": {
  "kernelspec": {
   "display_name": "Python 3 (ipykernel)",
   "language": "python",
   "name": "python3"
  },
  "language_info": {
   "codemirror_mode": {
    "name": "ipython",
    "version": 3
   },
   "file_extension": ".py",
   "mimetype": "text/x-python",
   "name": "python",
   "nbconvert_exporter": "python",
   "pygments_lexer": "ipython3",
   "version": "3.10.9"
  }
 },
 "nbformat": 4,
 "nbformat_minor": 5
}

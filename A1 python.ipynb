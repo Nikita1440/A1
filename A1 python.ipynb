{
 "cells": [
  {
   "cell_type": "code",
   "execution_count": 1,
   "id": "2df38d3f",
   "metadata": {},
   "outputs": [],
   "source": [
    "#ASSIGNMENT 1\n",
    "#1. In the below elements which of them are values or an expression? eg:- values can be\n",
    "integer or string and expressions will be mathematical operators.\n",
    "*\n",
    "'hello'\n",
    "-87.8\n",
    "-\n",
    "/\n",
    "+\n",
    "6"
   ]
  },
  {
   "cell_type": "code",
   "execution_count": 18,
   "id": "5595c229",
   "metadata": {},
   "outputs": [
    {
     "data": {
      "text/plain": [
       "'Values = \"hello\", -87.8, 6. Expressions - *, /,-'"
      ]
     },
     "execution_count": 18,
     "metadata": {},
     "output_type": "execute_result"
    }
   ],
   "source": [
    "\"\"\"Values = \"hello\", -87.8, 6. Expressions - *, /,-\"\"\"\n"
   ]
  },
  {
   "cell_type": "code",
   "execution_count": 19,
   "id": "6fdd69be",
   "metadata": {},
   "outputs": [
    {
     "data": {
      "text/plain": [
       "'String :s any series of characters that are interpreted by a script while  variable is a name that refers to a value. Variable can refer to any value'"
      ]
     },
     "execution_count": 19,
     "metadata": {},
     "output_type": "execute_result"
    }
   ],
   "source": [
    "#2. What is the difference between string and variable?\n",
    "\"\"\"String #: any series of characters that are interpreted by a script while  variable is a name that refers to a value. Variable can refer to any value\"\"\""
   ]
  },
  {
   "cell_type": "code",
   "execution_count": 21,
   "id": "4c851bb5",
   "metadata": {},
   "outputs": [
    {
     "data": {
      "text/plain": [
       "'3 different data types are \\n1. Interger:An interger value without decimals \\n2. Float:The float type in Python designates a floating-point number. float values are specified with a decimal point.\\n3. Boolean type: Objects of a boolean type may have one of two values true or false'"
      ]
     },
     "execution_count": 21,
     "metadata": {},
     "output_type": "execute_result"
    }
   ],
   "source": [
    "#3. Describe three different data types.\n",
    "\"\"\"3 different data types are \n",
    "1. Interger:An interger value without decimals \n",
    "2. Float:The float type in Python designates a floating-point number. float values are specified with a decimal point.\n",
    "3. Boolean type: Objects of a boolean type may have one of two values true or false\"\"\""
   ]
  },
  {
   "cell_type": "code",
   "execution_count": 24,
   "id": "fdacf632",
   "metadata": {},
   "outputs": [
    {
     "name": "stdout",
     "output_type": "stream",
     "text": [
      "22.799999999999997\n"
     ]
    }
   ],
   "source": [
    "#What is an expression made up of? What do all expressions do?\n",
    "\"\"\"An expression is a combination of operators and operands that is interpreted to produce some other value. In any programming language, an expression is evaluated as per the precedence of its operators. There are different types of expressions in python. \n",
    "1. constant expressions: Expressions having constsnt values\n",
    "2.Arithematic expressions: Contatins combination of numeric values and operators. for eg:\"\"\"\n",
    "x = 6 * 3.8\n",
    "print(x)"
   ]
  },
  {
   "cell_type": "code",
   "execution_count": 25,
   "id": "679e5b70",
   "metadata": {},
   "outputs": [
    {
     "name": "stdout",
     "output_type": "stream",
     "text": [
      "Object `statement` not found.\n"
     ]
    },
    {
     "data": {
      "text/plain": [
       "'An Expression is a sequence or combination of values, variables, operators and function calls that always produces or returns a result value.An Expression always evaluates to a value.\\nand,A statement does something, like creating a variable or displaying a value, it only does whatever the statement says.'"
      ]
     },
     "execution_count": 25,
     "metadata": {},
     "output_type": "execute_result"
    }
   ],
   "source": [
    "#5. This assignment statements, like spam = 10. What is the difference between an\n",
    "expression and a statement?\n",
    "\"\"\"An Expression is a sequence or combination of values, variables, operators and function calls that always produces or returns a result value.An Expression always evaluates to a value.\n",
    "and,A statement does something, like creating a variable or displaying a value, it only does whatever the statement says.\"\"\""
   ]
  },
  {
   "cell_type": "code",
   "execution_count": 30,
   "id": "17695b77",
   "metadata": {},
   "outputs": [
    {
     "name": "stdout",
     "output_type": "stream",
     "text": [
      "22\n"
     ]
    }
   ],
   "source": [
    "#6. After running the following code, what does the variable bacon contain?\n",
    "bacon = 22\n",
    "bacon + 1\n",
    "print(bacon)\n",
    "#answer bacon contains 22."
   ]
  },
  {
   "cell_type": "code",
   "execution_count": null,
   "id": "7f017b20",
   "metadata": {},
   "outputs": [],
   "source": []
  },
  {
   "cell_type": "code",
   "execution_count": 31,
   "id": "092daa02",
   "metadata": {},
   "outputs": [
    {
     "name": "stdout",
     "output_type": "stream",
     "text": [
      "spamspamapam\n"
     ]
    }
   ],
   "source": [
    "#7. What should the values of the following two terms be?\n",
    "a = 'spam'\n",
    "b = a + 'spamapam'\n",
    "print(b)\n",
    "\n"
   ]
  },
  {
   "cell_type": "code",
   "execution_count": 32,
   "id": "84aad405",
   "metadata": {},
   "outputs": [
    {
     "name": "stdout",
     "output_type": "stream",
     "text": [
      "spamspamspam\n"
     ]
    }
   ],
   "source": [
    "a = 'spam'*3\n",
    "print(a)"
   ]
  },
  {
   "cell_type": "code",
   "execution_count": 34,
   "id": "039cc763",
   "metadata": {},
   "outputs": [
    {
     "data": {
      "text/plain": [
       "\"Eggs is valid variable while 100 is not because 100 is an integer which is an inbuild type in python and we can't use any inbuild function or integer value as a variable.\""
      ]
     },
     "execution_count": 34,
     "metadata": {},
     "output_type": "execute_result"
    }
   ],
   "source": [
    "#Why is eggs a valid variable name while 100 is invalid?\n",
    "\"\"\"Eggs is valid variable while 100 is not because 100 is an integer which is an inbuild type in python and we can't use any inbuild function or integer value as a variable.\"\"\" "
   ]
  },
  {
   "cell_type": "code",
   "execution_count": 44,
   "id": "3295c9f4",
   "metadata": {},
   "outputs": [
    {
     "data": {
      "text/plain": [
       "int"
      ]
     },
     "execution_count": 44,
     "metadata": {},
     "output_type": "execute_result"
    }
   ],
   "source": [
    "#9. What three functions can be used to get the integer, floating-point number, or string version of a value?\n",
    "\"\"\"The int() , float() , and str( ) functions will evaluate to the integer, floating-point number, and string versions of the value passed to them.\"\"\"\n",
    "a = 5 \n",
    "type(a)"
   ]
  },
  {
   "cell_type": "code",
   "execution_count": 45,
   "id": "1938b7df",
   "metadata": {},
   "outputs": [
    {
     "data": {
      "text/plain": [
       "float"
      ]
     },
     "execution_count": 45,
     "metadata": {},
     "output_type": "execute_result"
    }
   ],
   "source": [
    "b = 3.3\n",
    "type(b)"
   ]
  },
  {
   "cell_type": "code",
   "execution_count": 46,
   "id": "7e779b61",
   "metadata": {},
   "outputs": [
    {
     "data": {
      "text/plain": [
       "str"
      ]
     },
     "execution_count": 46,
     "metadata": {},
     "output_type": "execute_result"
    }
   ],
   "source": [
    "c = \"enter\"\n",
    "type(c)"
   ]
  },
  {
   "cell_type": "code",
   "execution_count": 35,
   "id": "74badf3e",
   "metadata": {},
   "outputs": [
    {
     "ename": "TypeError",
     "evalue": "can only concatenate str (not \"int\") to str",
     "output_type": "error",
     "traceback": [
      "\u001b[1;31m---------------------------------------------------------------------------\u001b[0m",
      "\u001b[1;31mTypeError\u001b[0m                                 Traceback (most recent call last)",
      "Input \u001b[1;32mIn [35]\u001b[0m, in \u001b[0;36m<cell line: 2>\u001b[1;34m()\u001b[0m\n\u001b[0;32m      1\u001b[0m \u001b[38;5;66;03m#10. Why does this expression cause an error? How can you fix it?\u001b[39;00m\n\u001b[1;32m----> 2\u001b[0m a \u001b[38;5;241m=\u001b[39m \u001b[38;5;124;43m'\u001b[39;49m\u001b[38;5;124;43mI have eaten\u001b[39;49m\u001b[38;5;124;43m'\u001b[39;49m\u001b[43m \u001b[49m\u001b[38;5;241;43m+\u001b[39;49m\u001b[43m \u001b[49m\u001b[38;5;241;43m99\u001b[39;49m \u001b[38;5;241m+\u001b[39m \u001b[38;5;124m'\u001b[39m\u001b[38;5;124mburritos\u001b[39m\u001b[38;5;124m'\u001b[39m\n\u001b[0;32m      3\u001b[0m \u001b[38;5;28mprint\u001b[39m(a)\n",
      "\u001b[1;31mTypeError\u001b[0m: can only concatenate str (not \"int\") to str"
     ]
    }
   ],
   "source": [
    "#10. Why does this expression cause an error? How can you fix it?\n",
    "a = 'I have eaten' + 99 + 'burritos'\n",
    "print(a)\n",
    "# this statement shows error because we can't use expressions in different data types, one possible solution is to make all the data in same type and then use the expression."
   ]
  },
  {
   "cell_type": "code",
   "execution_count": 37,
   "id": "2132c55c",
   "metadata": {},
   "outputs": [
    {
     "name": "stdout",
     "output_type": "stream",
     "text": [
      "Ihave eaten99burritos\n"
     ]
    }
   ],
   "source": [
    "a = 'Ihave eaten' + '99' + 'burritos'\n",
    "print(a)"
   ]
  },
  {
   "cell_type": "code",
   "execution_count": 39,
   "id": "f7b24b23",
   "metadata": {},
   "outputs": [
    {
     "name": "stdout",
     "output_type": "stream",
     "text": [
      "['I have eaten99burritos']\n"
     ]
    }
   ],
   "source": []
  },
  {
   "cell_type": "code",
   "execution_count": null,
   "id": "0007c37e",
   "metadata": {},
   "outputs": [],
   "source": []
  }
 ],
 "metadata": {
  "kernelspec": {
   "display_name": "Python 3 (ipykernel)",
   "language": "python",
   "name": "python3"
  },
  "language_info": {
   "codemirror_mode": {
    "name": "ipython",
    "version": 3
   },
   "file_extension": ".py",
   "mimetype": "text/x-python",
   "name": "python",
   "nbconvert_exporter": "python",
   "pygments_lexer": "ipython3",
   "version": "3.9.12"
  }
 },
 "nbformat": 4,
 "nbformat_minor": 5
}

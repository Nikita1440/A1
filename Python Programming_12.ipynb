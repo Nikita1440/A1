{
 "cells": [
  {
   "cell_type": "markdown",
   "id": "e2ea810f-c82b-4a86-8860-1932b85a7156",
   "metadata": {},
   "source": [
    "1. Write a Python program to find words which are greater than given length k?\n",
    "2. Write a Python program for removing i-th character from a string?\n",
    "3. Write a Python program to split and join a string?\n",
    "4. Write a Python to check if a given string is binary string or not?\n",
    "5. Write a Python program to find uncommon words from two Strings?\n",
    "6. Write a Python to find all duplicate characters in string?\n",
    "7. Write a Python Program to check if a string contains any special character?"
   ]
  },
  {
   "cell_type": "code",
   "execution_count": 1,
   "id": "6a51e8b7-d304-4a2f-8e42-1cdebcce20fc",
   "metadata": {},
   "outputs": [
    {
     "name": "stdout",
     "output_type": "stream",
     "text": [
      "['sample', 'sentence', 'program']\n"
     ]
    }
   ],
   "source": [
    "#!\n",
    "def find_words_greater_than_length(text, k):\n",
    "    words = text.split()\n",
    "    result = []\n",
    "    \n",
    "    for word in words:\n",
    "        if len(word) > k:\n",
    "            result.append(word)\n",
    "    \n",
    "    return result\n",
    "\n",
    "# Example usage\n",
    "sentence = \"This is a sample sentence to test the program\"\n",
    "k = 4\n",
    "words_greater_than_k = find_words_greater_than_length(sentence, k)\n",
    "print(words_greater_than_k)\n"
   ]
  },
  {
   "cell_type": "code",
   "execution_count": 2,
   "id": "0c21585f-d04b-452c-8d37-1f38cdcb75f6",
   "metadata": {},
   "outputs": [
    {
     "name": "stdout",
     "output_type": "stream",
     "text": [
      "Hell, World!\n"
     ]
    }
   ],
   "source": [
    "#2\n",
    "def remove_ith_character(string, i):\n",
    "    if i < 0 or i >= len(string):\n",
    "        return string\n",
    "    \n",
    "    return string[:i] + string[i+1:]\n",
    "\n",
    "# Example usage\n",
    "text = \"Hello, World!\"\n",
    "i = 4\n",
    "updated_text = remove_ith_character(text, i)\n",
    "print(updated_text)\n"
   ]
  },
  {
   "cell_type": "code",
   "execution_count": 3,
   "id": "946f0a74-557c-4ebb-b6ae-25c814f2de09",
   "metadata": {},
   "outputs": [
    {
     "name": "stdout",
     "output_type": "stream",
     "text": [
      "This is a sample string\n"
     ]
    }
   ],
   "source": [
    "#3\n",
    "def split_and_join(string):\n",
    "    # Split the string into a list of words\n",
    "    words = string.split()\n",
    "    \n",
    "    # Join the words using a space as a separator\n",
    "    joined_string = \" \".join(words)\n",
    "    \n",
    "    return joined_string\n",
    "\n",
    "# Example usage\n",
    "text = \"This is a sample string\"\n",
    "joined_text = split_and_join(text)\n",
    "print(joined_text)\n"
   ]
  },
  {
   "cell_type": "code",
   "execution_count": 4,
   "id": "28642736-29c4-4a80-953f-ba0e844f404a",
   "metadata": {},
   "outputs": [
    {
     "name": "stdout",
     "output_type": "stream",
     "text": [
      "True\n"
     ]
    }
   ],
   "source": [
    "#4\n",
    "def is_binary_string(string):\n",
    "    for char in string:\n",
    "        if char != '0' and char != '1':\n",
    "            return False\n",
    "    \n",
    "    return True\n",
    "\n",
    "# Example usage\n",
    "text = \"101010\"\n",
    "is_binary = is_binary_string(text)\n",
    "print(is_binary)\n"
   ]
  },
  {
   "cell_type": "code",
   "execution_count": 5,
   "id": "41ab5e0e-6a83-450b-83cf-69c593830fb6",
   "metadata": {},
   "outputs": [
    {
     "name": "stdout",
     "output_type": "stream",
     "text": [
      "{'is', 'Hello', 'beautiful'}\n"
     ]
    }
   ],
   "source": [
    "#5\n",
    "def find_uncommon_words(string1, string2):\n",
    "    words1 = set(string1.split())\n",
    "    words2 = set(string2.split())\n",
    "    \n",
    "    uncommon_words = words1.symmetric_difference(words2)\n",
    "    \n",
    "    return uncommon_words\n",
    "\n",
    "# Example usage\n",
    "text1 = \"Hello world\"\n",
    "text2 = \"world is beautiful\"\n",
    "uncommon_words = find_uncommon_words(text1, text2)\n",
    "print(uncommon_words)\n"
   ]
  },
  {
   "cell_type": "code",
   "execution_count": 6,
   "id": "452dfd8e-da9f-45ab-bdd6-5fd8a18d29e8",
   "metadata": {},
   "outputs": [
    {
     "name": "stdout",
     "output_type": "stream",
     "text": [
      "{'l', 'o'}\n"
     ]
    }
   ],
   "source": [
    "#6\n",
    "def find_duplicate_characters(string):\n",
    "    # Create an empty set to store duplicate characters\n",
    "    duplicates = set()\n",
    "    \n",
    "    # Create an empty set to store seen characters\n",
    "    seen = set()\n",
    "    \n",
    "    for char in string:\n",
    "        # If the character is already in the seen set,\n",
    "        # add it to the duplicates set\n",
    "        if char in seen:\n",
    "            duplicates.add(char)\n",
    "        else:\n",
    "            seen.add(char)\n",
    "    \n",
    "    return duplicates\n",
    "\n",
    "# Example usage\n",
    "text = \"Hello World\"\n",
    "duplicate_chars = find_duplicate_characters(text)\n",
    "print(duplicate_chars)\n"
   ]
  },
  {
   "cell_type": "code",
   "execution_count": 7,
   "id": "afeab2f3-75c7-4b49-b15a-095889160584",
   "metadata": {},
   "outputs": [
    {
     "name": "stdout",
     "output_type": "stream",
     "text": [
      "True\n"
     ]
    }
   ],
   "source": [
    "#7\n",
    "import re\n",
    "\n",
    "def has_special_character(string):\n",
    "    # Regular expression pattern to match special characters\n",
    "    pattern = r'[!@#$%^&*(),.?\":{}|<>]'\n",
    "    \n",
    "    # Use re.search() to find a match\n",
    "    match = re.search(pattern, string)\n",
    "    \n",
    "    if match:\n",
    "        return True\n",
    "    else:\n",
    "        return False\n",
    "\n",
    "# Example usage\n",
    "text = \"Hello! How are you?\"\n",
    "contains_special_character = has_special_character(text)\n",
    "print(contains_special_character)\n"
   ]
  },
  {
   "cell_type": "code",
   "execution_count": null,
   "id": "5ec55a98-2165-44d6-b955-145892ccc5c7",
   "metadata": {},
   "outputs": [],
   "source": []
  }
 ],
 "metadata": {
  "kernelspec": {
   "display_name": "Python 3 (ipykernel)",
   "language": "python",
   "name": "python3"
  },
  "language_info": {
   "codemirror_mode": {
    "name": "ipython",
    "version": 3
   },
   "file_extension": ".py",
   "mimetype": "text/x-python",
   "name": "python",
   "nbconvert_exporter": "python",
   "pygments_lexer": "ipython3",
   "version": "3.10.6"
  }
 },
 "nbformat": 4,
 "nbformat_minor": 5
}

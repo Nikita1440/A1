{
 "cells": [
  {
   "cell_type": "markdown",
   "id": "9a585ede-e6fc-4eee-a18e-a61c5563b084",
   "metadata": {},
   "source": [
    "Question 1:\n",
    "Define a class with a generator which can iterate the numbers, which are divisible by\n",
    "7, between a given range 0 and n.\n",
    "\n",
    "Question 2:\n",
    "Write a program to compute the frequency of the words from the input. The output\n",
    "should output after sorting the key alphanumerically.\n",
    "Suppose the following input is supplied to the program:\n",
    "New to Python or choosing between Python 2 and Python 3? Read Python 2 or\n",
    "Python 3.\n",
    "Then, the output should be:\n",
    "2:2\n",
    "3.:1\n",
    "3?:1\n",
    "New:1\n",
    "Python:5\n",
    "Read:1\n",
    "and:1\n",
    "between:1\n",
    "choosing:1\n",
    "or:2\n",
    "to:1\n",
    "\n",
    "Question 3:\n",
    "\n",
    "Define a class Person and its two child classes: Male and Female. All classes have a\n",
    "method &quot;getGender&quot; which can print &quot;Male&quot; for Male class and &quot;Female&quot; for Female\n",
    "class.\n",
    "\n",
    "Question 4:\n",
    "Please write a program to generate all sentences where subject is in [&quot;I&quot;, &quot;You&quot;] and\n",
    "verb is in [&quot;Play&quot;, &quot;Love&quot;] and the object is in [&quot;Hockey&quot;,&quot;Football&quot;].\n",
    "\n",
    "Question 5:\n",
    "Please write a program to compress and decompress the string &quot;hello world!hello\n",
    "world!hello world!hello world!&quot;.\n",
    "\n",
    "Question 6:\n",
    "Please write a binary search function which searches an item in a sorted list. The\n",
    "function should return the index of element to be searched in the list."
   ]
  },
  {
   "cell_type": "code",
   "execution_count": 1,
   "id": "39a64468-54ca-4ec1-9ba8-c7a1c49d39d6",
   "metadata": {},
   "outputs": [
    {
     "name": "stdout",
     "output_type": "stream",
     "text": [
      "0\n",
      "7\n",
      "14\n",
      "21\n",
      "28\n",
      "35\n",
      "42\n",
      "49\n"
     ]
    }
   ],
   "source": [
    "#1\n",
    "class DivisibleBySeven:\n",
    "    def __init__(self, n):\n",
    "        self.n = n\n",
    "\n",
    "    def generate_divisible_by_seven(self):\n",
    "        for num in range(self.n + 1):\n",
    "            if num % 7 == 0:\n",
    "                yield num\n",
    "\n",
    "# Example usage\n",
    "n = 50\n",
    "divisible_by_seven = DivisibleBySeven(n)\n",
    "\n",
    "for num in divisible_by_seven.generate_divisible_by_seven():\n",
    "    print(num)\n"
   ]
  },
  {
   "cell_type": "code",
   "execution_count": 2,
   "id": "de3cfd08-cd6e-4dc8-82bb-86fa35c978a0",
   "metadata": {},
   "outputs": [
    {
     "name": "stdout",
     "output_type": "stream",
     "text": [
      "2:2\n",
      "3.:1\n",
      "3?:1\n",
      "New:1\n",
      "Python:5\n",
      "Read:1\n",
      "and:1\n",
      "between:1\n",
      "choosing:1\n",
      "or:2\n",
      "to:1\n"
     ]
    }
   ],
   "source": [
    "#2\n",
    "def compute_word_frequency(input_string):\n",
    "    words = input_string.split()\n",
    "    word_frequency = {}\n",
    "\n",
    "    for word in words:\n",
    "        if word in word_frequency:\n",
    "            word_frequency[word] += 1\n",
    "        else:\n",
    "            word_frequency[word] = 1\n",
    "\n",
    "    sorted_word_frequency = sorted(word_frequency.items(), key=lambda x: x[0])\n",
    "\n",
    "    for word, frequency in sorted_word_frequency:\n",
    "        print(f\"{word}:{frequency}\")\n",
    "\n",
    "# Example usage\n",
    "input_string = \"New to Python or choosing between Python 2 and Python 3? Read Python 2 or Python 3.\"\n",
    "compute_word_frequency(input_string)\n"
   ]
  },
  {
   "cell_type": "code",
   "execution_count": 3,
   "id": "64af4de5-1fd6-4414-94e1-59b307dc880e",
   "metadata": {},
   "outputs": [
    {
     "name": "stdout",
     "output_type": "stream",
     "text": [
      "Male\n",
      "Female\n"
     ]
    }
   ],
   "source": [
    "#3\n",
    "class Person:\n",
    "    def getGender(self):\n",
    "        pass\n",
    "\n",
    "class Male(Person):\n",
    "    def getGender(self):\n",
    "        print(\"Male\")\n",
    "\n",
    "class Female(Person):\n",
    "    def getGender(self):\n",
    "        print(\"Female\")\n",
    "\n",
    "# Example usage\n",
    "person1 = Male()\n",
    "person1.getGender()  # Output: Male\n",
    "\n",
    "person2 = Female()\n",
    "person2.getGender()  # Output: Female\n"
   ]
  },
  {
   "cell_type": "code",
   "execution_count": 4,
   "id": "fe1a0596-b165-461a-85ec-f447a1d640a1",
   "metadata": {},
   "outputs": [
    {
     "name": "stdout",
     "output_type": "stream",
     "text": [
      "I Play Hockey.\n",
      "I Play Football.\n",
      "I Love Hockey.\n",
      "I Love Football.\n",
      "You Play Hockey.\n",
      "You Play Football.\n",
      "You Love Hockey.\n",
      "You Love Football.\n"
     ]
    }
   ],
   "source": [
    "#4\n",
    "subjects = [\"I\", \"You\"]\n",
    "verbs = [\"Play\", \"Love\"]\n",
    "objects = [\"Hockey\", \"Football\"]\n",
    "\n",
    "sentences = []\n",
    "\n",
    "for subject in subjects:\n",
    "    for verb in verbs:\n",
    "        for obj in objects:\n",
    "            sentence = f\"{subject} {verb} {obj}.\"\n",
    "            sentences.append(sentence)\n",
    "\n",
    "# Print the generated sentences\n",
    "for sentence in sentences:\n",
    "    print(sentence)\n"
   ]
  },
  {
   "cell_type": "code",
   "execution_count": 5,
   "id": "e09979e3-37c7-4283-a5e4-c56cdf19eeb8",
   "metadata": {},
   "outputs": [
    {
     "name": "stdout",
     "output_type": "stream",
     "text": [
      "Original string: hello world!hello world!hello world!hello world!\n",
      "Compressed data: b'\\x1f\\x8b\\x08\\x00\\xdb\\xa8\\x95d\\x02\\xff\\xcbH\\xcd\\xc9\\xc9W(\\xcf/\\xcaIQ\\xcc \\x82\\r\\x00\\xd3\\xe6\\xcf\\xae0\\x00\\x00\\x00'\n",
      "Decompressed string: hello world!hello world!hello world!hello world!\n"
     ]
    }
   ],
   "source": [
    "#5\n",
    "import gzip\n",
    "import io\n",
    "\n",
    "def compress_string(string):\n",
    "    with io.BytesIO() as compressed:\n",
    "        with gzip.GzipFile(fileobj=compressed, mode='wb') as gzip_file:\n",
    "            gzip_file.write(string.encode())\n",
    "        compressed_data = compressed.getvalue()\n",
    "    return compressed_data\n",
    "\n",
    "def decompress_string(compressed_data):\n",
    "    with io.BytesIO(compressed_data) as compressed:\n",
    "        with gzip.GzipFile(fileobj=compressed, mode='rb') as gzip_file:\n",
    "            decompressed_data = gzip_file.read()\n",
    "    return decompressed_data.decode()\n",
    "\n",
    "# Example usage\n",
    "string_to_compress = \"hello world!hello world!hello world!hello world!\"\n",
    "\n",
    "# Compress the string\n",
    "compressed_string = compress_string(string_to_compress)\n",
    "\n",
    "# Decompress the string\n",
    "decompressed_string = decompress_string(compressed_string)\n",
    "\n",
    "print(\"Original string:\", string_to_compress)\n",
    "print(\"Compressed data:\", compressed_string)\n",
    "print(\"Decompressed string:\", decompressed_string)\n"
   ]
  },
  {
   "cell_type": "code",
   "execution_count": 6,
   "id": "3b085620-33ba-44dd-9af2-2150bec2a382",
   "metadata": {},
   "outputs": [
    {
     "name": "stdout",
     "output_type": "stream",
     "text": [
      "Element 7 found at index 3\n"
     ]
    }
   ],
   "source": [
    "#6\n",
    "def binary_search(arr, target):\n",
    "    low = 0\n",
    "    high = len(arr) - 1\n",
    "\n",
    "    while low <= high:\n",
    "        mid = (low + high) // 2\n",
    "\n",
    "        if arr[mid] == target:\n",
    "            return mid\n",
    "        elif arr[mid] < target:\n",
    "            low = mid + 1\n",
    "        else:\n",
    "            high = mid - 1\n",
    "\n",
    "    return -1\n",
    "\n",
    "# Example usage\n",
    "sorted_list = [1, 3, 5, 7, 9, 11, 13, 15]\n",
    "target_element = 7\n",
    "\n",
    "index = binary_search(sorted_list, target_element)\n",
    "\n",
    "if index != -1:\n",
    "    print(f\"Element {target_element} found at index {index}\")\n",
    "else:\n",
    "    print(f\"Element {target_element} not found in the list\")\n"
   ]
  },
  {
   "cell_type": "code",
   "execution_count": null,
   "id": "3702322a-2a78-4ea6-aa31-416d91d12cdc",
   "metadata": {},
   "outputs": [],
   "source": []
  }
 ],
 "metadata": {
  "kernelspec": {
   "display_name": "Python 3 (ipykernel)",
   "language": "python",
   "name": "python3"
  },
  "language_info": {
   "codemirror_mode": {
    "name": "ipython",
    "version": 3
   },
   "file_extension": ".py",
   "mimetype": "text/x-python",
   "name": "python",
   "nbconvert_exporter": "python",
   "pygments_lexer": "ipython3",
   "version": "3.10.6"
  }
 },
 "nbformat": 4,
 "nbformat_minor": 5
}

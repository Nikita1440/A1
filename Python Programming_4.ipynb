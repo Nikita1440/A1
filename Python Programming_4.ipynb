{
 "cells": [
  {
   "cell_type": "markdown",
   "id": "5edcc14e-db7a-4ad9-8351-d45d34405d53",
   "metadata": {},
   "source": [
    "1. Write a Python Program to Find the Factorial of a Number?\n",
    "2. Write a Python Program to Display the multiplication Table?\n",
    "3. Write a Python Program to Print the Fibonacci sequence?\n",
    "4. Write a Python Program to Check Armstrong Number?\n",
    "5. Write a Python Program to Find Armstrong Number in an Interval?\n",
    "6. Write a Python Program to Find the Sum of Natural Numbers?"
   ]
  },
  {
   "cell_type": "code",
   "execution_count": 1,
   "id": "64cdb1a1-b87a-49c8-b327-4a8425babb24",
   "metadata": {},
   "outputs": [
    {
     "name": "stdin",
     "output_type": "stream",
     "text": [
      "Enter a number:  4\n"
     ]
    },
    {
     "name": "stdout",
     "output_type": "stream",
     "text": [
      "Factorial of 4 is 24\n"
     ]
    }
   ],
   "source": [
    "#1\n",
    "num = int(input(\"Enter a number: \"))\n",
    "\n",
    "factorial = 1\n",
    "\n",
    "if num < 0:\n",
    "    print(\"Factorial does not exist for negative numbers\")\n",
    "elif num == 0:\n",
    "    print(\"Factorial of 0 is 1\")\n",
    "else:\n",
    "    for i in range(1, num + 1):\n",
    "        factorial *= i\n",
    "    print(\"Factorial of\", num, \"is\", factorial)\n"
   ]
  },
  {
   "cell_type": "code",
   "execution_count": 2,
   "id": "51afb045-a73e-4f08-91a7-d168467b9466",
   "metadata": {},
   "outputs": [
    {
     "name": "stdin",
     "output_type": "stream",
     "text": [
      "Enter a number:  13\n"
     ]
    },
    {
     "name": "stdout",
     "output_type": "stream",
     "text": [
      "Multiplication Table of 13\n",
      "13 x 1 = 13\n",
      "13 x 2 = 26\n",
      "13 x 3 = 39\n",
      "13 x 4 = 52\n",
      "13 x 5 = 65\n",
      "13 x 6 = 78\n",
      "13 x 7 = 91\n",
      "13 x 8 = 104\n",
      "13 x 9 = 117\n",
      "13 x 10 = 130\n"
     ]
    }
   ],
   "source": [
    "#2\n",
    "num = int(input(\"Enter a number: \"))\n",
    "\n",
    "print(\"Multiplication Table of\", num)\n",
    "for i in range(1, 11):\n",
    "    print(num, \"x\", i, \"=\", num * i)\n",
    "\n",
    "    "
   ]
  },
  {
   "cell_type": "code",
   "execution_count": 3,
   "id": "eb78d11b-4a94-46ae-b4ea-af782b3b77f6",
   "metadata": {},
   "outputs": [
    {
     "name": "stdin",
     "output_type": "stream",
     "text": [
      "Enter the number of terms:  73\n"
     ]
    },
    {
     "name": "stdout",
     "output_type": "stream",
     "text": [
      "Fibonacci sequence:\n",
      "0\n",
      "1\n",
      "1\n",
      "2\n",
      "3\n",
      "5\n",
      "8\n",
      "13\n",
      "21\n",
      "34\n",
      "55\n",
      "89\n",
      "144\n",
      "233\n",
      "377\n",
      "610\n",
      "987\n",
      "1597\n",
      "2584\n",
      "4181\n",
      "6765\n",
      "10946\n",
      "17711\n",
      "28657\n",
      "46368\n",
      "75025\n",
      "121393\n",
      "196418\n",
      "317811\n",
      "514229\n",
      "832040\n",
      "1346269\n",
      "2178309\n",
      "3524578\n",
      "5702887\n",
      "9227465\n",
      "14930352\n",
      "24157817\n",
      "39088169\n",
      "63245986\n",
      "102334155\n",
      "165580141\n",
      "267914296\n",
      "433494437\n",
      "701408733\n",
      "1134903170\n",
      "1836311903\n",
      "2971215073\n",
      "4807526976\n",
      "7778742049\n",
      "12586269025\n",
      "20365011074\n",
      "32951280099\n",
      "53316291173\n",
      "86267571272\n",
      "139583862445\n",
      "225851433717\n",
      "365435296162\n",
      "591286729879\n",
      "956722026041\n",
      "1548008755920\n",
      "2504730781961\n",
      "4052739537881\n",
      "6557470319842\n",
      "10610209857723\n",
      "17167680177565\n",
      "27777890035288\n",
      "44945570212853\n",
      "72723460248141\n",
      "117669030460994\n",
      "190392490709135\n",
      "308061521170129\n",
      "498454011879264\n"
     ]
    }
   ],
   "source": [
    "# 3\n",
    "terms = int(input(\"Enter the number of terms: \"))\n",
    "\n",
    "n1 = 0\n",
    "n2 = 1\n",
    "count = 0\n",
    "\n",
    "if terms <= 0:\n",
    "    print(\"Please enter a positive integer\")\n",
    "elif terms == 1:\n",
    "    print(\"Fibonacci sequence upto\", terms, \":\")\n",
    "    print(n1)\n",
    "else:\n",
    "    print(\"Fibonacci sequence:\")\n",
    "    while count < terms:\n",
    "        print(n1)\n",
    "        nth = n1 + n2\n",
    "        n1 = n2\n",
    "        n2 = nth\n",
    "        count += 1\n"
   ]
  },
  {
   "cell_type": "code",
   "execution_count": 4,
   "id": "c6e6f3e8-3525-49dd-8412-3d73a840d099",
   "metadata": {},
   "outputs": [
    {
     "name": "stdin",
     "output_type": "stream",
     "text": [
      "Enter a number:  378\n"
     ]
    },
    {
     "name": "stdout",
     "output_type": "stream",
     "text": [
      "378 is not an Armstrong number\n"
     ]
    }
   ],
   "source": [
    "#4\n",
    "num = int(input(\"Enter a number: \"))\n",
    "\n",
    "sum = 0\n",
    "temp = num\n",
    "\n",
    "while temp > 0:\n",
    "    digit = temp % 10\n",
    "    sum += digit ** 3\n",
    "    temp //= 10\n",
    "\n",
    "if num == sum:\n",
    "    print(num, \"is an Armstrong number\")\n",
    "else:\n",
    "    print(num, \"is not an Armstrong number\")\n",
    "\n",
    "    \n"
   ]
  },
  {
   "cell_type": "code",
   "execution_count": 7,
   "id": "17defa94-eb25-456e-ade6-377fe9afd75d",
   "metadata": {},
   "outputs": [
    {
     "name": "stdin",
     "output_type": "stream",
     "text": [
      "Enter lower range:  1\n",
      "Enter upper range:  10000000\n"
     ]
    },
    {
     "name": "stdout",
     "output_type": "stream",
     "text": [
      "Armstrong numbers between 1 and 10000000 are:\n",
      "1\n",
      "2\n",
      "3\n",
      "4\n",
      "5\n",
      "6\n",
      "7\n",
      "8\n",
      "9\n",
      "153\n",
      "370\n",
      "371\n",
      "407\n",
      "1634\n",
      "8208\n",
      "9474\n",
      "54748\n",
      "92727\n",
      "93084\n",
      "548834\n",
      "1741725\n",
      "4210818\n",
      "9800817\n",
      "9926315\n"
     ]
    }
   ],
   "source": [
    "# 5\n",
    "lower = int(input(\"Enter lower range: \"))\n",
    "upper = int(input(\"Enter upper range: \"))\n",
    "\n",
    "print(\"Armstrong numbers between\", lower, \"and\", upper, \"are:\")\n",
    "\n",
    "for num in range(lower, upper + 1):\n",
    "    order = len(str(num))\n",
    "    sum = 0\n",
    "    temp = num\n",
    "    while temp > 0:\n",
    "        digit = temp % 10\n",
    "        sum += digit ** order\n",
    "        temp //= 10\n",
    "    if num == sum:\n",
    "        print(num)\n",
    "\n",
    "        "
   ]
  },
  {
   "cell_type": "code",
   "execution_count": null,
   "id": "ef2258c8-3e72-4b98-b7d6-b9c5fbe6f150",
   "metadata": {},
   "outputs": [],
   "source": [
    "#6\n",
    "n = int(input(\"Enter a positive integer: \"))\n",
    "\n",
    "if n < 1:\n",
    "    print(\"Please enter a positive integer\")\n",
    "else:\n",
    "    sum = 0\n",
    "    for i in range(1, n + 1):\n",
    "        sum += i\n",
    "    print(\"The sum of natural numbers up to\", n, \"is\", sum)\n"
   ]
  },
  {
   "cell_type": "code",
   "execution_count": null,
   "id": "d9e404f6-762c-4aa0-a8d0-b26440d22750",
   "metadata": {},
   "outputs": [],
   "source": []
  },
  {
   "cell_type": "code",
   "execution_count": null,
   "id": "d6362f30-d4fa-4195-b092-e875f74e30d7",
   "metadata": {},
   "outputs": [],
   "source": []
  }
 ],
 "metadata": {
  "kernelspec": {
   "display_name": "Python 3 (ipykernel)",
   "language": "python",
   "name": "python3"
  },
  "language_info": {
   "codemirror_mode": {
    "name": "ipython",
    "version": 3
   },
   "file_extension": ".py",
   "mimetype": "text/x-python",
   "name": "python",
   "nbconvert_exporter": "python",
   "pygments_lexer": "ipython3",
   "version": "3.10.6"
  }
 },
 "nbformat": 4,
 "nbformat_minor": 5
}

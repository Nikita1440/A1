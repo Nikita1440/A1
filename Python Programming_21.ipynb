{
 "cells": [
  {
   "cell_type": "markdown",
   "id": "18141fd1",
   "metadata": {},
   "source": [
    "Question1\n",
    "Write a function that takes a list and a number as arguments. Add the number to the end of\n",
    "the list, then remove the first element of the list. The function should then return the updated\n",
    "list.\n",
    "Examples\n",
    "next_in_line([5, 6, 7, 8, 9], 1) ➞ [6, 7, 8, 9, 1]\n",
    "next_in_line([7, 6, 3, 23, 17], 10) ➞ [6, 3, 23, 17, 10]\n",
    "next_in_line([1, 10, 20, 42 ], 6) ➞ [10, 20, 42, 6]\n",
    "next_in_line([], 6) ➞ &quot;No list has been selected&quot;\n",
    "\n",
    "Question2\n",
    "Create the function that takes a list of dictionaries and returns the sum of people&#39;s budgets.\n",
    "Examples\n",
    "get_budgets([\n",
    "{ &quot;name&quot;: &quot;John&quot;, &quot;age&quot;: 21, &quot;budget&quot;: 23000 },\n",
    "{ &quot;name&quot;: &quot;Steve&quot;, &quot;age&quot;: 32, &quot;budget&quot;: 40000 },\n",
    "{ &quot;name&quot;: &quot;Martin&quot;, &quot;age&quot;: 16, &quot;budget&quot;: 2700 }\n",
    "]) ➞ 65700\n",
    "get_budgets([\n",
    "{ &quot;name&quot;: &quot;John&quot;, &quot;age&quot;: 21, &quot;budget&quot;: 29000 },\n",
    "{ &quot;name&quot;: &quot;Steve&quot;, &quot;age&quot;: 32, &quot;budget&quot;: 32000 },\n",
    "{ &quot;name&quot;: &quot;Martin&quot;, &quot;age&quot;: 16, &quot;budget&quot;: 1600 }\n",
    "]) ➞ 62600\n",
    "\n",
    "Question3\n",
    "Create a function that takes a string and returns a string with its letters in alphabetical order.\n",
    "Examples\n",
    "alphabet_soup(&quot;hello&quot;) ➞ &quot;ehllo&quot;\n",
    "alphabet_soup(&quot;edabit&quot;) ➞ &quot;abdeit&quot;\n",
    "alphabet_soup(&quot;hacker&quot;) ➞ &quot;acehkr&quot;\n",
    "alphabet_soup(&quot;geek&quot;) ➞ &quot;eegk&quot;\n",
    "alphabet_soup(&quot;javascript&quot;) ➞ &quot;aacijprstv&quot;\n",
    "\n",
    "Question4\n",
    "Suppose that you invest $10,000 for 10 years at an interest rate of 6% compounded monthly.\n",
    "What will be the value of your investment at the end of the 10 year period?\n",
    "Create a function that accepts the principal p, the term in years t, the interest rate r, and the\n",
    "number of compounding periods per year n. The function returns the value at the end of term\n",
    "rounded to the nearest cent.\n",
    "For the example above:\n",
    "compound_interest(10000, 10, 0.06, 12) ➞ 18193.97\n",
    "Note that the interest rate is given as a decimal and n=12 because with monthly compounding\n",
    "there are 12 periods per year. Compounding can also be done annually, quarterly, weekly, or\n",
    "daily.\n",
    "Examples\n",
    "compound_interest(100, 1, 0.05, 1) ➞ 105.0\n",
    "compound_interest(3500, 15, 0.1, 4) ➞ 15399.26\n",
    "compound_interest(100000, 20, 0.15, 365) ➞ 2007316.26\n",
    "\n",
    "Question5\n",
    "Write a function that takes a list of elements and returns only the integers.\n",
    "Examples\n",
    "return_only_integer([9, 2, &quot;space&quot;, &quot;car&quot;, &quot;lion&quot;, 16]) ➞ [9, 2, 16]\n",
    "return_only_integer([&quot;hello&quot;, 81, &quot;basketball&quot;, 123, &quot;fox&quot;]) ➞ [81, 123]\n",
    "return_only_integer([10, &quot;121&quot;, 56, 20, &quot;car&quot;, 3, &quot;lion&quot;]) ➞ [10, 56, 20,\n",
    "3]\n",
    "return_only_integer([&quot;String&quot;, True, 3.3, 1]) ➞ [1]"
   ]
  },
  {
   "cell_type": "code",
   "execution_count": 2,
   "id": "494e805a",
   "metadata": {},
   "outputs": [
    {
     "name": "stdout",
     "output_type": "stream",
     "text": [
      "[6, 7, 8, 9, 1]\n",
      "[6, 3, 23, 17, 10]\n",
      "[10, 20, 42, 6]\n",
      "No list has been selected\n"
     ]
    }
   ],
   "source": [
    "# 1\n",
    "def next_in_line(lst, num):\n",
    "    if not lst:\n",
    "        return \"No list has been selected\"\n",
    "    lst.pop(0)\n",
    "    lst.append(num)\n",
    "    return lst\n",
    "print(next_in_line([5, 6, 7, 8, 9], 1))\n",
    "# Output: [6, 7, 8, 9, 1]\n",
    "\n",
    "print(next_in_line([7, 6, 3, 23, 17], 10))\n",
    "# Output: [6, 3, 23, 17, 10]\n",
    "\n",
    "print(next_in_line([1, 10, 20, 42], 6))\n",
    "# Output: [10, 20, 42, 6]\n",
    "\n",
    "print(next_in_line([], 6))\n",
    "# Output: \"No list has been selected\"\n"
   ]
  },
  {
   "cell_type": "code",
   "execution_count": 3,
   "id": "6a7c9305",
   "metadata": {},
   "outputs": [
    {
     "name": "stdout",
     "output_type": "stream",
     "text": [
      "65700\n",
      "62600\n"
     ]
    }
   ],
   "source": [
    "# 2\n",
    "def get_budgets(lst):\n",
    "    total_budget = 0\n",
    "    for person in lst:\n",
    "        total_budget += person['budget']\n",
    "    return total_budget\n",
    "print(get_budgets([\n",
    "    { \"name\": \"John\", \"age\": 21, \"budget\": 23000 },\n",
    "    { \"name\": \"Steve\", \"age\": 32, \"budget\": 40000 },\n",
    "    { \"name\": \"Martin\", \"age\": 16, \"budget\": 2700 }\n",
    "]))\n",
    "# Output: 65700\n",
    "\n",
    "print(get_budgets([\n",
    "    { \"name\": \"John\", \"age\": 21, \"budget\": 29000 },\n",
    "    { \"name\": \"Steve\", \"age\": 32, \"budget\": 32000 },\n",
    "    { \"name\": \"Martin\", \"age\": 16, \"budget\": 1600 }\n",
    "]))\n",
    "# Output: 62600\n"
   ]
  },
  {
   "cell_type": "code",
   "execution_count": 4,
   "id": "f750f2e8",
   "metadata": {},
   "outputs": [
    {
     "name": "stdout",
     "output_type": "stream",
     "text": [
      "ehllo\n",
      "abdeit\n",
      "acehkr\n",
      "eegk\n",
      "aacijprstv\n"
     ]
    }
   ],
   "source": [
    "# 3\n",
    "def alphabet_soup(txt):\n",
    "    sorted_txt = sorted(txt)\n",
    "    return ''.join(sorted_txt)\n",
    "print(alphabet_soup(\"hello\"))\n",
    "# Output: \"ehllo\"\n",
    "\n",
    "print(alphabet_soup(\"edabit\"))\n",
    "# Output: \"abdeit\"\n",
    "\n",
    "print(alphabet_soup(\"hacker\"))\n",
    "# Output: \"acehkr\"\n",
    "\n",
    "print(alphabet_soup(\"geek\"))\n",
    "# Output: \"eegk\"\n",
    "\n",
    "print(alphabet_soup(\"javascript\"))\n",
    "# Output: \"aacijprstv\"\n"
   ]
  },
  {
   "cell_type": "markdown",
   "id": "b8b049c4",
   "metadata": {},
   "source": [
    "# 4\n",
    "To calculate compound interest, we can use the formula:\n",
    "\n",
    "A = P * (1 + r/n)^(n*t)\n",
    "\n",
    "Where:\n",
    "A = the final amount (value at the end of the term)\n",
    "P = the principal amount (initial investment)\n",
    "r = the annual interest rate (as a decimal)\n",
    "n = the number of compounding periods per year\n",
    "t = the term in years\n",
    "\n",
    "Let's implement the compound_interest function in Pytho"
   ]
  },
  {
   "cell_type": "code",
   "execution_count": 5,
   "id": "eeba9d41",
   "metadata": {},
   "outputs": [],
   "source": [
    "def compound_interest(p, t, r, n):\n",
    "    A = p * (1 + r/n)**(n*t)\n",
    "    return round(A, 2)\n"
   ]
  },
  {
   "cell_type": "code",
   "execution_count": 6,
   "id": "2de6ed55",
   "metadata": {},
   "outputs": [
    {
     "name": "stdout",
     "output_type": "stream",
     "text": [
      "18193.97\n"
     ]
    }
   ],
   "source": [
    "print(compound_interest(10000, 10, 0.06, 12))\n",
    "# Output: 18193.97\n"
   ]
  },
  {
   "cell_type": "code",
   "execution_count": 7,
   "id": "ddfa9b36",
   "metadata": {},
   "outputs": [
    {
     "name": "stdout",
     "output_type": "stream",
     "text": [
      "105.0\n",
      "15399.26\n",
      "2007316.26\n"
     ]
    }
   ],
   "source": [
    "print(compound_interest(100, 1, 0.05, 1))\n",
    "# Output: 105.0\n",
    "\n",
    "print(compound_interest(3500, 15, 0.1, 4))\n",
    "# Output: 15399.26\n",
    "\n",
    "print(compound_interest(100000, 20, 0.15, 365))\n",
    "# Output: 2007316.26\n"
   ]
  },
  {
   "cell_type": "code",
   "execution_count": null,
   "id": "8f015ed4",
   "metadata": {},
   "outputs": [],
   "source": []
  }
 ],
 "metadata": {
  "kernelspec": {
   "display_name": "Python 3 (ipykernel)",
   "language": "python",
   "name": "python3"
  },
  "language_info": {
   "codemirror_mode": {
    "name": "ipython",
    "version": 3
   },
   "file_extension": ".py",
   "mimetype": "text/x-python",
   "name": "python",
   "nbconvert_exporter": "python",
   "pygments_lexer": "ipython3",
   "version": "3.10.9"
  }
 },
 "nbformat": 4,
 "nbformat_minor": 5
}

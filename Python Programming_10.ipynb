{
 "cells": [
  {
   "cell_type": "markdown",
   "id": "f750675e-48d6-4892-9f8b-0e55c1e449ad",
   "metadata": {},
   "source": [
    "1. Write a Python program to find sum of elements in list?\n",
    "2. Write a Python program to Multiply all numbers in the list?\n",
    "3. Write a Python program to find smallest number in a list?\n",
    "4. Write a Python program to find largest number in a list?\n",
    "5. Write a Python program to find second largest number in a list?\n",
    "6. Write a Python program to find N largest elements from a list?\n",
    "7. Write a Python program to print even numbers in a list?\n",
    "8. Write a Python program to print odd numbers in a List?\n",
    "9. Write a Python program to Remove empty List from List?\n",
    "10. Write a Python program to Cloning or Copying a list?\n",
    "11. Write a Python program to Count occurrences of an element in a list?"
   ]
  },
  {
   "cell_type": "code",
   "execution_count": 1,
   "id": "d2a4af67-a8aa-4b42-9963-171d469051b6",
   "metadata": {},
   "outputs": [
    {
     "name": "stdout",
     "output_type": "stream",
     "text": [
      "Sum of elements: 15\n"
     ]
    }
   ],
   "source": [
    "#1\n",
    "def find_sum(lst):\n",
    "    total = 0\n",
    "    for num in lst:\n",
    "        total += num\n",
    "    return total\n",
    "\n",
    "# Example usage\n",
    "numbers = [1, 2, 3, 4, 5]\n",
    "result = find_sum(numbers)\n",
    "print(\"Sum of elements:\", result)\n"
   ]
  },
  {
   "cell_type": "code",
   "execution_count": 2,
   "id": "1cc66f88-9538-40ec-bfd1-b06cef4db847",
   "metadata": {},
   "outputs": [
    {
     "name": "stdout",
     "output_type": "stream",
     "text": [
      "Product of elements: 120\n"
     ]
    }
   ],
   "source": [
    "#2\n",
    "def multiply_elements(lst):\n",
    "    result = 1\n",
    "    for num in lst:\n",
    "        result *= num\n",
    "    return result\n",
    "\n",
    "# Example usage\n",
    "numbers = [1, 2, 3, 4, 5]\n",
    "result = multiply_elements(numbers)\n",
    "print(\"Product of elements:\", result)\n"
   ]
  },
  {
   "cell_type": "code",
   "execution_count": 3,
   "id": "8cb05c02-c025-4787-8f4a-b21c940418ab",
   "metadata": {},
   "outputs": [
    {
     "name": "stdout",
     "output_type": "stream",
     "text": [
      "Smallest number: 1\n"
     ]
    }
   ],
   "source": [
    "#3\n",
    "def find_smallest(lst):\n",
    "    if len(lst) == 0:\n",
    "        return None\n",
    "    smallest = lst[0]\n",
    "    for num in lst:\n",
    "        if num < smallest:\n",
    "            smallest = num\n",
    "    return smallest\n",
    "\n",
    "# Example usage\n",
    "numbers = [5, 2, 8, 1, 9]\n",
    "result = find_smallest(numbers)\n",
    "print(\"Smallest number:\", result)\n"
   ]
  },
  {
   "cell_type": "code",
   "execution_count": 4,
   "id": "628e505d-d3a8-4411-b867-7f44d37c242b",
   "metadata": {},
   "outputs": [
    {
     "name": "stdout",
     "output_type": "stream",
     "text": [
      "Largest number: 9\n"
     ]
    }
   ],
   "source": [
    "#4\n",
    "def find_largest(lst):\n",
    "    if len(lst) == 0:\n",
    "        return None\n",
    "    largest = lst[0]\n",
    "    for num in lst:\n",
    "        if num > largest:\n",
    "            largest = num\n",
    "    return largest\n",
    "\n",
    "# Example usage\n",
    "numbers = [5, 2, 8, 1, 9]\n",
    "result = find_largest(numbers)\n",
    "print(\"Largest number:\", result)\n"
   ]
  },
  {
   "cell_type": "code",
   "execution_count": 5,
   "id": "0c7b7ee9-1bd2-479f-95c2-eb549ff2ec51",
   "metadata": {},
   "outputs": [
    {
     "name": "stdout",
     "output_type": "stream",
     "text": [
      "Second largest number: 8\n"
     ]
    }
   ],
   "source": [
    "#5\n",
    "def find_second_largest(lst):\n",
    "    if len(lst) < 2:\n",
    "        return None\n",
    "    largest = max(lst[0], lst[1])\n",
    "    second_largest = min(lst[0], lst[1])\n",
    "    for num in lst[2:]:\n",
    "        if num > largest:\n",
    "            second_largest = largest\n",
    "            largest = num\n",
    "        elif num > second_largest:\n",
    "            second_largest = num\n",
    "    return second_largest\n",
    "\n",
    "# Example usage\n",
    "numbers = [5, 2, 8, 1, 9]\n",
    "result = find_second_largest(numbers)\n",
    "print(\"Second largest number:\", result)\n"
   ]
  },
  {
   "cell_type": "code",
   "execution_count": 6,
   "id": "f6f7a080-d49c-4c52-98f0-70ec661a8c81",
   "metadata": {},
   "outputs": [
    {
     "name": "stdout",
     "output_type": "stream",
     "text": [
      "3 largest elements: [9, 8, 5]\n"
     ]
    }
   ],
   "source": [
    "#6\n",
    "def find_n_largest(lst, n):\n",
    "    if len(lst) < n:\n",
    "        return None\n",
    "    lst.sort(reverse=True)\n",
    "    return lst[:n]\n",
    "\n",
    "# Example usage\n",
    "numbers = [5, 2, 8, 1, 9]\n",
    "n = 3\n",
    "result = find_n_largest(numbers, n)\n",
    "print(f\"{n} largest elements:\", result)\n"
   ]
  },
  {
   "cell_type": "code",
   "execution_count": 7,
   "id": "a1a5dee6-1642-44d9-a8ca-962dcfba57e2",
   "metadata": {},
   "outputs": [
    {
     "name": "stdout",
     "output_type": "stream",
     "text": [
      "Even numbers:\n",
      "2\n",
      "4\n",
      "6\n",
      "8\n",
      "10\n"
     ]
    }
   ],
   "source": [
    "#7\n",
    "def print_even_numbers(lst):\n",
    "    even_numbers = [num for num in lst if num % 2 == 0]\n",
    "    for num in even_numbers:\n",
    "        print(num)\n",
    "\n",
    "# Example usage\n",
    "numbers = [1, 2, 3, 4, 5, 6, 7, 8, 9, 10]\n",
    "print(\"Even numbers:\")\n",
    "print_even_numbers(numbers)\n"
   ]
  },
  {
   "cell_type": "code",
   "execution_count": 8,
   "id": "930f7a2d-dc79-4b2f-9a9c-075dbd44e74d",
   "metadata": {},
   "outputs": [
    {
     "name": "stdout",
     "output_type": "stream",
     "text": [
      "Even numbers:\n",
      "2\n",
      "4\n",
      "6\n",
      "8\n",
      "10\n"
     ]
    }
   ],
   "source": [
    "#8\n",
    "def print_even_numbers(lst):\n",
    "    even_numbers = [num for num in lst if num % 2 == 0]\n",
    "    for num in even_numbers:\n",
    "        print(num)\n",
    "\n",
    "# Example usage\n",
    "numbers = [1, 2, 3, 4, 5, 6, 7, 8, 9, 10]\n",
    "print(\"Even numbers:\")\n",
    "print_even_numbers(numbers)\n"
   ]
  },
  {
   "cell_type": "code",
   "execution_count": 9,
   "id": "9ec8adf8-b2ba-410b-b5b2-1f9dbb27de22",
   "metadata": {},
   "outputs": [
    {
     "name": "stdout",
     "output_type": "stream",
     "text": [
      "List with empty lists removed:\n",
      "[1, [2, 3], [4, 5, 6]]\n"
     ]
    }
   ],
   "source": [
    "#9\n",
    "def remove_empty_lists(lst):\n",
    "    return [sublist for sublist in lst if sublist]\n",
    "\n",
    "# Example usage\n",
    "nested_list = [1, [], [2, 3], [], [], [4, 5, 6], []]\n",
    "print(\"List with empty lists removed:\")\n",
    "result = remove_empty_lists(nested_list)\n",
    "print(result)\n"
   ]
  },
  {
   "cell_type": "code",
   "execution_count": 10,
   "id": "04630a7f-0c9d-40a8-a38e-99c0bc507cbf",
   "metadata": {},
   "outputs": [
    {
     "name": "stdout",
     "output_type": "stream",
     "text": [
      "Original list: [1, 2, 3, 4, 5]\n",
      "Cloned list: [1, 2, 3, 4, 5]\n"
     ]
    }
   ],
   "source": [
    "#10\n",
    "def clone_list(lst):\n",
    "    return lst.copy()\n",
    "\n",
    "# Example usage\n",
    "original_list = [1, 2, 3, 4, 5]\n",
    "cloned_list = clone_list(original_list)\n",
    "print(\"Original list:\", original_list)\n",
    "print(\"Cloned list:\", cloned_list)\n"
   ]
  },
  {
   "cell_type": "code",
   "execution_count": 11,
   "id": "514dcc23-1333-45fe-8b83-ac7d9b40213b",
   "metadata": {},
   "outputs": [
    {
     "name": "stdout",
     "output_type": "stream",
     "text": [
      "Occurrences of 1 in the list: 4\n"
     ]
    }
   ],
   "source": [
    "#11\n",
    "def count_occurrences(lst, element):\n",
    "    return lst.count(element)\n",
    "\n",
    "# Example usage\n",
    "numbers = [1, 2, 3, 4, 1, 2, 1, 3, 1]\n",
    "element = 1\n",
    "occurrences = count_occurrences(numbers, element)\n",
    "print(\"Occurrences of\", element, \"in the list:\", occurrences)\n"
   ]
  },
  {
   "cell_type": "code",
   "execution_count": null,
   "id": "e70f7fa5-0860-4749-9e8d-1fa7b111c0fc",
   "metadata": {},
   "outputs": [],
   "source": []
  }
 ],
 "metadata": {
  "kernelspec": {
   "display_name": "Python 3 (ipykernel)",
   "language": "python",
   "name": "python3"
  },
  "language_info": {
   "codemirror_mode": {
    "name": "ipython",
    "version": 3
   },
   "file_extension": ".py",
   "mimetype": "text/x-python",
   "name": "python",
   "nbconvert_exporter": "python",
   "pygments_lexer": "ipython3",
   "version": "3.10.6"
  }
 },
 "nbformat": 4,
 "nbformat_minor": 5
}

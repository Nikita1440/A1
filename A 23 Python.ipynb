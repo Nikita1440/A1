{
 "cells": [
  {
   "cell_type": "markdown",
   "id": "4d4526b6-9575-4c8b-ba9b-8d5d70643e94",
   "metadata": {},
   "source": [
    "1. What is the result of the code, and why?\n",
    "&gt;&gt;&gt; def func(a, b=6, c=8):\n",
    "print(a, b, c)\n",
    "&gt;&gt;&gt; func(1, 2)\n",
    "2. What is the result of this code, and why?\n",
    "&gt;&gt;&gt; def func(a, b, c=5):\n",
    "print(a, b, c)\n",
    "&gt;&gt;&gt; func(1, c=3, b=2)\n",
    "3. How about this code: what is its result, and why?\n",
    "&gt;&gt;&gt; def func(a, *pargs):\n",
    "print(a, pargs)\n",
    "&gt;&gt;&gt; func(1, 2, 3)\n",
    "4. What does this code print, and why?\n",
    "&gt;&gt;&gt; def func(a, **kargs):\n",
    "print(a, kargs)\n",
    "&gt;&gt;&gt; func(a=1, c=3, b=2)\n",
    "5. What gets printed by this, and explain?\n",
    "&gt;&gt;&gt; def func(a, b, c=8, d=5): print(a, b, c, d)\n",
    "&gt;&gt;&gt; func(1, *(5, 6))\n",
    "6. what is the result of this, and explain?\n",
    "&gt;&gt;&gt; def func(a, b, c): a = 2; b[0] = &#39;x&#39;; c[&#39;a&#39;] = &#39;y&#39;\n",
    "&gt;&gt;&gt; l=1; m=[1]; n={&#39;a&#39;:0}\n",
    "&gt;&gt;&gt; func(l, m, n)\n",
    "\n",
    "\n",
    "\n",
    "# 1\n",
    "1,2,8\n",
    "Explanation:\n",
    "\n",
    "The function func() is defined with three parameters: a, b, and c. The parameter b has a default value of 6, and the parameter c has a default value of 8.\n",
    "When the function is called as func(1, 2), the argument 1 is assigned to parameter a, and the argument 2 is assigned to parameter b. Since no argument is provided for c, it takes its default value of 8.\n",
    "Inside the function, print(a, b, c) is executed, which prints the values of a, b, and c.\n",
    "Therefore, the output is 1 2 8, as a is 1, b is 2, and c is 8.\n",
    "Let's execute the code to confirm the output:"
   ]
  },
  {
   "cell_type": "code",
   "execution_count": 1,
   "id": "80a4840d-b56d-46d7-9fd2-b6cedb5f106b",
   "metadata": {},
   "outputs": [
    {
     "name": "stdout",
     "output_type": "stream",
     "text": [
      "1 2 8\n"
     ]
    }
   ],
   "source": [
    "def func(a, b=6, c=8):\n",
    "    print(a, b, c)\n",
    "\n",
    "func(1, 2)\n"
   ]
  },
  {
   "cell_type": "markdown",
   "id": "3109aa95-197b-4f25-9eb7-fd7b76065f0b",
   "metadata": {},
   "source": [
    "# 2\n",
    "Explanation:\n",
    "\n",
    "The function func() is defined with three parameters: a, b, and c. The parameter c has a default value of 5.\n",
    "When the function is called as func(1, c=3, b=2), the argument 1 is assigned to parameter a, the argument 3 is explicitly assigned to parameter c, and the argument 2 is explicitly assigned to parameter b.\n",
    "The arguments are assigned based on their respective parameter names, overriding the default value of c.\n",
    "Inside the function, print(a, b, c) is executed, which prints the values of a, b, and c.\n",
    "Therefore, the output is 1 2 3, as a is 1, b is 2, and c is 3.\n",
    "Let's execute the code to confirm the output:"
   ]
  },
  {
   "cell_type": "code",
   "execution_count": 2,
   "id": "2b9e8d6c-fec7-46bc-9925-413c401b325d",
   "metadata": {},
   "outputs": [
    {
     "name": "stdout",
     "output_type": "stream",
     "text": [
      "1 2 3\n"
     ]
    }
   ],
   "source": [
    "def func(a, b, c=5):\n",
    "    print(a, b, c)\n",
    "\n",
    "func(1, c=3, b=2)\n"
   ]
  },
  {
   "cell_type": "markdown",
   "id": "31491c96-bd35-4f30-8f1e-d49b00af1369",
   "metadata": {},
   "source": [
    "# 3\n",
    "Explanation:\n",
    "\n",
    "The function func() is defined with a parameter a and *pargs, which allows for variable-length positional arguments.\n",
    "When the function is called as func(1, 2, 3), the argument 1 is assigned to parameter a, and the arguments 2 and 3 are collected as a tuple and assigned to pargs.\n",
    "Inside the function, print(a, pargs) is executed, which prints the value of a and the tuple pargs.\n",
    "Therefore, the output is 1 (2, 3), as a is 1 and pargs is a tuple (2, 3).\n",
    "Let's execute the code to confirm the output:"
   ]
  },
  {
   "cell_type": "code",
   "execution_count": 3,
   "id": "e2aa8f83-5939-4b04-ab5f-ccf84fa95fbf",
   "metadata": {},
   "outputs": [
    {
     "name": "stdout",
     "output_type": "stream",
     "text": [
      "1 (2, 3)\n"
     ]
    }
   ],
   "source": [
    "def func(a, *pargs):\n",
    "    print(a, pargs)\n",
    "\n",
    "func(1, 2, 3)\n"
   ]
  },
  {
   "cell_type": "markdown",
   "id": "40f6699c-8a62-46d9-a000-cd580732e6b9",
   "metadata": {},
   "source": [
    "# 4\n",
    "1 {'c': 3, 'b': 2}\n",
    "Explanation:\n",
    "\n",
    "The function func() is defined with a parameter a and **kargs, which allows for variable-length keyword arguments.\n",
    "When the function is called as func(a=1, c=3, b=2), the argument 1 is assigned to parameter a, and the keyword arguments c=3 and b=2 are collected as a dictionary and assigned to kargs.\n",
    "Inside the function, print(a, kargs) is executed, which prints the value of a and the dictionary kargs.\n",
    "Therefore, the output is 1 {'c': 3, 'b': 2}, as a is 1 and kargs is a dictionary {'c': 3, 'b': 2} containing the keyword arguments.\n",
    "Let's execute the code to confirm the output:"
   ]
  },
  {
   "cell_type": "code",
   "execution_count": 5,
   "id": "aca91089-b891-4b82-959e-1c70f252744b",
   "metadata": {},
   "outputs": [
    {
     "name": "stdout",
     "output_type": "stream",
     "text": [
      "1 {'c': 3, 'b': 2}\n"
     ]
    }
   ],
   "source": [
    "def func(a, **kargs):\n",
    "    print(a, kargs)\n",
    "\n",
    "func(a=1, c=3, b=2)\n"
   ]
  },
  {
   "cell_type": "markdown",
   "id": "b5e78281-91da-4f17-83f2-b7b5cbf7e4be",
   "metadata": {},
   "source": [
    "Explanation:\n",
    "\n",
    "The function func() is defined with four parameters: a, b, c, and d. The parameters c and d have default values of 8 and 5, respectively.\n",
    "When the function is called as func(1, *(5, 6)), the argument 1 is assigned to parameter a, and the tuple (5, 6) is unpacked and assigned to parameters b and c.\n",
    "Since no argument is provided for d, it takes its default value of 5.\n",
    "Inside the function, print(a, b, c, d) is executed, which prints the values of a, b, c, and d.\n",
    "Therefore, the output is 1 5 6 5, as a is 1, b is 5, c is 6, and d is 5.\n",
    "Let's execute the code to confirm the output:# 5\n",
    "1 5 6 5\n"
   ]
  },
  {
   "cell_type": "code",
   "execution_count": 6,
   "id": "604fff36-ecca-4628-87e3-45ff8a0e3e84",
   "metadata": {},
   "outputs": [
    {
     "name": "stdout",
     "output_type": "stream",
     "text": [
      "1 5 6 5\n"
     ]
    }
   ],
   "source": [
    "def func(a, b, c=8, d=5):\n",
    "    print(a, b, c, d)\n",
    "\n",
    "func(1, *(5, 6))\n"
   ]
  },
  {
   "cell_type": "code",
   "execution_count": null,
   "id": "b5901826-6b40-40d1-acf8-3dcea13cc4a1",
   "metadata": {},
   "outputs": [],
   "source": []
  }
 ],
 "metadata": {
  "kernelspec": {
   "display_name": "Python 3 (ipykernel)",
   "language": "python",
   "name": "python3"
  },
  "language_info": {
   "codemirror_mode": {
    "name": "ipython",
    "version": 3
   },
   "file_extension": ".py",
   "mimetype": "text/x-python",
   "name": "python",
   "nbconvert_exporter": "python",
   "pygments_lexer": "ipython3",
   "version": "3.10.6"
  }
 },
 "nbformat": 4,
 "nbformat_minor": 5
}

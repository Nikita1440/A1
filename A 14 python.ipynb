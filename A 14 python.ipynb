{
 "cells": [
  {
   "cell_type": "markdown",
   "id": "9271c740",
   "metadata": {},
   "source": [
    "1. What does RGBA stand for?\n",
    "2. From the Pillow module, how do you get the RGBA value of any images?\n",
    "3. What is a box tuple, and how does it work?\n",
    "4. Use your image and load in notebook then, How can you find out the width and height of an\n",
    "Image object?\n",
    "5. What method would you call to get Image object for a 100×100 image, excluding the lower-left\n",
    "quarter of it?\n",
    "6. After making changes to an Image object, how could you save it as an image file?\n",
    "7. What module contains Pillow’s shape-drawing code?\n",
    "8. 8. Image objects do not have drawing methods. What kind of object does? How do you get this kind\n",
    "of object?\n",
    "# Aswers\n",
    "1\n",
    "RGBA stands for Red, Green, Blue, and Alpha. It is a color model used in computer graphics and digital imaging to represent colors in a digital format. Each component (Red, Green, Blue, and Alpha) is represented by an 8-bit value, ranging from 0 to 255, which determines the intensity of that particular color channel. The Alpha channel represents the transparency or opacity of a color, with 0 indicating full transparency and 255 indicating full opacity.\n"
   ]
  },
  {
   "cell_type": "code",
   "execution_count": 2,
   "id": "823c6e65",
   "metadata": {},
   "outputs": [
    {
     "ename": "NameError",
     "evalue": "name 'x' is not defined",
     "output_type": "error",
     "traceback": [
      "\u001b[1;31m---------------------------------------------------------------------------\u001b[0m",
      "\u001b[1;31mNameError\u001b[0m                                 Traceback (most recent call last)",
      "Cell \u001b[1;32mIn[2], line 7\u001b[0m\n\u001b[0;32m      4\u001b[0m image \u001b[38;5;241m=\u001b[39m Image\u001b[38;5;241m.\u001b[39mopen(\u001b[38;5;124m\"\u001b[39m\u001b[38;5;124mimage.png\u001b[39m\u001b[38;5;124m\"\u001b[39m)\n\u001b[0;32m      6\u001b[0m \u001b[38;5;66;03m# Get the RGBA value of a pixel\u001b[39;00m\n\u001b[1;32m----> 7\u001b[0m rgba_value \u001b[38;5;241m=\u001b[39m image\u001b[38;5;241m.\u001b[39mgetpixel((\u001b[43mx\u001b[49m, y))\n",
      "\u001b[1;31mNameError\u001b[0m: name 'x' is not defined"
     ]
    }
   ],
   "source": [
    "from PIL import Image\n",
    "\n",
    "# Open the image\n",
    "image = Image.open(\"image.png\")\n",
    "\n",
    "# Get the RGBA value of a pixel\n",
    "rgba_value = image.getpixel((x, y))\n"
   ]
  },
  {
   "cell_type": "code",
   "execution_count": 3,
   "id": "f1f28903",
   "metadata": {},
   "outputs": [
    {
     "name": "stdout",
     "output_type": "stream",
     "text": [
      "(255, 248, 208)\n"
     ]
    }
   ],
   "source": [
    "from PIL import Image\n",
    "\n",
    "# Open the image\n",
    "image = Image.open(\"image.png\")\n",
    "\n",
    "# Specify the coordinates of the pixel you want to retrieve\n",
    "x = 100\n",
    "y = 200\n",
    "\n",
    "# Get the RGBA value of the pixel\n",
    "rgba_value = image.getpixel((x, y))\n",
    "\n",
    "print(rgba_value)\n"
   ]
  },
  {
   "cell_type": "markdown",
   "id": "67194ad4",
   "metadata": {},
   "source": [
    "3\n",
    "\n",
    "In the context of the Pillow module, a box tuple is a tuple that represents a rectangular region or bounding box. It consists of four values: (left, upper, right, lower). The box tuple defines the coordinates of the rectangular region within an image.\n",
    "\n",
    "Here's what each value in the box tuple represents:\n",
    "\n",
    "left: The x-coordinate of the left edge of the box.\n",
    "upper: The y-coordinate of the upper edge of the box.\n",
    "right: The x-coordinate of the right edge of the box.\n",
    "lower: The y-coordinate of the lower edge of the box.\n",
    "The box tuple is used in various methods of the Pillow module to define regions of interest within an image. For example, it can be used to crop an image, retrieve pixel values within a specific region, or draw shapes within a specified area.\n",
    "\n",
    "When working with a box tuple, it's important to note that the coordinates are zero-indexed, with (0, 0) representing the top-left corner of the image. The left and upper values define the inclusive starting point of the region, while the right and lower values define the exclusive ending point. This means that the region includes pixels up to right - 1 and lower - 1 but not beyond that.\n",
    "\n",
    "Here's an example that demonstrates how to use a box tuple to crop an image:"
   ]
  },
  {
   "cell_type": "code",
   "execution_count": 8,
   "id": "acb104c6",
   "metadata": {},
   "outputs": [],
   "source": [
    "from PIL import Image\n",
    "\n",
    "# Open the image\n",
    "image = Image.open(\"image.png\")\n",
    "\n",
    "# Define the box tuple for the region of interest\n",
    "box = (100, 100, 300, 300)\n",
    "\n",
    "# Crop the image based on the box tuple\n",
    "cropped_image = image.crop(box)\n",
    "\n",
    "# Display or save the cropped image\n",
    "cropped_image.show()\n",
    "\n"
   ]
  },
  {
   "cell_type": "code",
   "execution_count": 7,
   "id": "2d997dcf",
   "metadata": {},
   "outputs": [
    {
     "name": "stdout",
     "output_type": "stream",
     "text": [
      "Width: 699\n",
      "Height: 562\n"
     ]
    }
   ],
   "source": [
    "#4\n",
    "from PIL import Image\n",
    "\n",
    "# Open the image\n",
    "image = Image.open(\"image.png\")\n",
    "\n",
    "# Get the width and height of the image\n",
    "width, height = image.size\n",
    "\n",
    "print(\"Width:\", width)\n",
    "print(\"Height:\", height)\n"
   ]
  },
  {
   "cell_type": "code",
   "execution_count": 12,
   "id": "b1550326",
   "metadata": {},
   "outputs": [],
   "source": [
    "#5\n",
    "from PIL import Image\n",
    "\n",
    "# Open the original image\n",
    "image = Image.open(\"image.jpg\")\n",
    "\n",
    "# Define the box tuple for the region to be cropped\n",
    "box = (0, 50, 50, 100)  # (left, upper, right, lower)\n",
    "\n",
    "# Crop the image based on the box tuple\n",
    "cropped_image = image.crop(box)\n",
    "\n",
    "# Display or save the cropped image\n",
    "cropped_image.show()\n"
   ]
  },
  {
   "cell_type": "code",
   "execution_count": 13,
   "id": "fdc6b954",
   "metadata": {},
   "outputs": [],
   "source": [
    "from PIL import Image\n",
    "\n",
    "# Open the original image\n",
    "image = Image.open(\"image.jpg\")\n",
    "\n",
    "# Make changes to the image (e.g., resize, crop, apply filters, etc.)\n",
    "\n",
    "# Save the modified image as a new file\n",
    "image.save(\"modified_image.jpg\")\n"
   ]
  },
  {
   "cell_type": "code",
   "execution_count": 14,
   "id": "c7f2599d",
   "metadata": {},
   "outputs": [],
   "source": [
    "from PIL import Image, ImageDraw\n",
    "\n",
    "# Create a new image\n",
    "image = Image.new(\"RGB\", (500, 500), (255, 255, 255))\n",
    "\n",
    "# Create an ImageDraw object\n",
    "draw = ImageDraw.Draw(image)\n",
    "\n",
    "# Draw a rectangle\n",
    "rectangle = (100, 100, 400, 400)  # (left, upper, right, lower)\n",
    "draw.rectangle(rectangle, fill=(0, 255, 0), outline=(255, 0, 0))\n",
    "\n",
    "# Display or save the image\n",
    "image.show()\n"
   ]
  },
  {
   "cell_type": "code",
   "execution_count": 16,
   "id": "0d11c732",
   "metadata": {},
   "outputs": [],
   "source": [
    "from PIL import Image, ImageDraw\n",
    "\n",
    "# Open the image\n",
    "image = Image.open(\"image.jpg\")\n",
    "\n",
    "# Create an ImageDraw object\n",
    "draw = ImageDraw.Draw(image)\n",
    "\n",
    "# Draw shapes using the ImageDraw object\n",
    "draw.rectangle((100, 100, 200, 200), fill=\"red\")\n",
    "draw.line([(50, 50), (150, 150)], fill=\"blue\", width=2)\n",
    "# ... add more drawing operations ...\n",
    "\n",
    "# Display or save the modified image\n",
    "image.show()\n"
   ]
  },
  {
   "cell_type": "code",
   "execution_count": null,
   "id": "f567667d",
   "metadata": {},
   "outputs": [],
   "source": []
  }
 ],
 "metadata": {
  "kernelspec": {
   "display_name": "Python 3 (ipykernel)",
   "language": "python",
   "name": "python3"
  },
  "language_info": {
   "codemirror_mode": {
    "name": "ipython",
    "version": 3
   },
   "file_extension": ".py",
   "mimetype": "text/x-python",
   "name": "python",
   "nbconvert_exporter": "python",
   "pygments_lexer": "ipython3",
   "version": "3.10.9"
  }
 },
 "nbformat": 4,
 "nbformat_minor": 5
}

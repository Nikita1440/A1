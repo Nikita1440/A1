{
 "cells": [
  {
   "cell_type": "code",
   "execution_count": 1,
   "id": "3670e851",
   "metadata": {},
   "outputs": [
    {
     "data": {
      "text/plain": [
       "'Functions are a set of instructions bundled together to achieve a specific outcome. Functions are an excellent alternative to having repeating blocks of code in a program. Functions also increase the reusability of code. Values can be passed to a function using variables — we call these parameters or arguments. Functions can also return values.'"
      ]
     },
     "execution_count": 1,
     "metadata": {},
     "output_type": "execute_result"
    }
   ],
   "source": [
    "#1. Why are functions advantageous to have in your programs?\n",
    "\"\"\"Functions are a set of instructions bundled together to achieve a specific outcome. Functions are an excellent alternative to\n",
    "having repeating blocks of code in a program. Functions also increase the reusability of code. Values can be passed to a \n",
    "#function using variables — we call these parameters or arguments. Functions can also return values.\"\"\""
   ]
  },
  {
   "cell_type": "code",
   "execution_count": 2,
   "id": "a06e8e5f",
   "metadata": {},
   "outputs": [
    {
     "data": {
      "text/plain": [
       "'Code runs only when it is called'"
      ]
     },
     "execution_count": 2,
     "metadata": {},
     "output_type": "execute_result"
    }
   ],
   "source": [
    "#2. When does the code in a function run: when it&#39;s specified or when it&#39;s called?\n",
    "\"\"\"Code runs only when it is called\"\"\""
   ]
  },
  {
   "cell_type": "code",
   "execution_count": 4,
   "id": "6ff67734",
   "metadata": {},
   "outputs": [
    {
     "data": {
      "text/plain": [
       "'def statement creates a function.'"
      ]
     },
     "execution_count": 4,
     "metadata": {},
     "output_type": "execute_result"
    }
   ],
   "source": [
    "#3. What statement creates a function?\n",
    "\"\"\"def statement creates a function.\"\"\""
   ]
  },
  {
   "cell_type": "code",
   "execution_count": 5,
   "id": "f70b31f6",
   "metadata": {},
   "outputs": [
    {
     "data": {
      "text/plain": [
       "'A function is a block of code that does a particular operation and returns a result. It usually accepts inputs as parameters and returns a result. The parameters are not mandatory. A function call is the code used to pass control to a function.'"
      ]
     },
     "execution_count": 5,
     "metadata": {},
     "output_type": "execute_result"
    }
   ],
   "source": [
    "#4. What is the difference between a function and a function call?\n",
    "\"\"\"A function is a block of code that does a particular operation and returns a result. It usually accepts inputs as parameters and returns a result. The parameters are not mandatory. A function call is the code used to pass control to a function.\"\"\""
   ]
  },
  {
   "cell_type": "code",
   "execution_count": 6,
   "id": "f7356a51",
   "metadata": {},
   "outputs": [
    {
     "data": {
      "text/plain": [
       "'At any given time during execution, you’ll have at most four active Python scopes—local, enclosing, global, and \\nbuilt-in—depending on where you are in the code. On the other hand, you’ll always have at least two active \\nscopes, which are the global and built-in scopes. These two scopes will always be available for you.            \\n\\nThere’s only one global Python scope per program execution. This scope remains in existence until the program terminates and all its names are forgotten. Otherwise, the next\\ntime you were to run the program, the names would remember their values from the previous run.'"
      ]
     },
     "execution_count": 6,
     "metadata": {},
     "output_type": "execute_result"
    }
   ],
   "source": [
    "#5. How many global scopes are there in a Python program? How many local scopes?\n",
    "\"\"\"At any given time during execution, you’ll have at most four active Python scopes—local, enclosing, global, and \n",
    "built-in—depending on where you are in the code. On the other hand, you’ll always have at least two active \n",
    "scopes, which are the global and built-in scopes. These two scopes will always be available for you.            \n",
    "\n",
    "There’s only one global Python scope per program execution. This scope remains in existence until the program terminates and all its names are forgotten. Otherwise, the next\n",
    "time you were to run the program, the names would remember their values from the previous run.\"\"\""
   ]
  },
  {
   "cell_type": "code",
   "execution_count": 11,
   "id": "933c5e80",
   "metadata": {},
   "outputs": [
    {
     "name": "stdout",
     "output_type": "stream",
     "text": [
      "The square of 10 is: 100\n",
      "The square of 20 is: 400\n"
     ]
    }
   ],
   "source": [
    "#6. What happens to variables in a local scope when the function call returns?\n",
    "\"\"\"When the function returns, the local scope is destroyed and the names are forgotten. \"\"\"\n",
    "def square(base):\n",
    "    result = base ** 2\n",
    "    print(f'The square of {base} is: {result}')\n",
    "\n",
    "square(10)\n",
    "square(20)"
   ]
  },
  {
   "cell_type": "code",
   "execution_count": 14,
   "id": "81c53e11",
   "metadata": {},
   "outputs": [
    {
     "name": "stdout",
     "output_type": "stream",
     "text": [
      "The result is 25\n"
     ]
    }
   ],
   "source": [
    "#7. What is the concept of a return value? Is it possible to have a return value in an expression?\n",
    "\"\"\"A return statement is used to end the execution of the function call and “returns” the result (value of the expression \n",
    "following the return keyword) to the caller. The statements after the return statements are not executed. If the\n",
    "return statement is without any expression, then the special value None is returned. A return statement is\n",
    "overall used to invoke a function so that the passed statements can be executed.\n",
    "\n",
    "Note: Return statement can not be used outside the function.\"\"\"\n",
    "def create_adder(x):\n",
    "    def adder(y):\n",
    "        return x + y\n",
    " \n",
    "    return adder\n",
    " \n",
    "add_15 = create_adder(15)\n",
    " \n",
    "print(\"The result is\", add_15(10))\n",
    " "
   ]
  },
  {
   "cell_type": "code",
   "execution_count": 15,
   "id": "058799ff",
   "metadata": {},
   "outputs": [
    {
     "data": {
      "text/plain": [
       "'If no return statement appears in a function definition, control automatically returns to the calling function after the \\nlast statement of the called function is executed. In this case, the return value of the called function is undefined.'"
      ]
     },
     "execution_count": 15,
     "metadata": {},
     "output_type": "execute_result"
    }
   ],
   "source": [
    "#8. If a function does not have a return statement, what is the return value of a call to that function?\n",
    "\"\"\"If no return statement appears in a function definition, control automatically returns to the calling function after the \n",
    "last statement of the called function is executed. In this case, the return value of the called function is undefined.\"\"\""
   ]
  },
  {
   "cell_type": "code",
   "execution_count": 16,
   "id": "65906c8f",
   "metadata": {},
   "outputs": [
    {
     "name": "stdout",
     "output_type": "stream",
     "text": [
      "Python is fantastic\n"
     ]
    }
   ],
   "source": [
    "#9. How do you make a function variable refer to the global variable?\n",
    "\"\"\"Normally, when you create a variable inside a function, that variable is local, and can only be used inside that function.\n",
    "\n",
    "To create a global variable inside a function, you can use the global keyword.\"\"\"\n",
    "def myfunc():\n",
    "  global x\n",
    "  x = \"fantastic\"\n",
    "\n",
    "myfunc()\n",
    "\n",
    "print(\"Python is \" + x)"
   ]
  },
  {
   "cell_type": "code",
   "execution_count": 17,
   "id": "e7f3ce5d",
   "metadata": {},
   "outputs": [
    {
     "data": {
      "text/plain": [
       "'Data type is a an attribute of data, which tells the compiler or interpreter how to use the data.Definition and Usage. The None keyword is used to define a null value, or no value at all. None is not the same as 0, False, or an empty string. None is a data type of its own (NoneType) and only None can be None.'"
      ]
     },
     "execution_count": 17,
     "metadata": {},
     "output_type": "execute_result"
    }
   ],
   "source": [
    "#10. What is the data type of None?\n",
    "\"\"\"Data type is a an attribute of data, which tells the compiler or interpreter how to use the data.Definition and Usage. The None keyword is used to define a null value, or no value at all. None is not the same as 0, False, or an empty string. None is a data type of its own (NoneType) and only None can be None.\"\"\""
   ]
  },
  {
   "cell_type": "code",
   "execution_count": 20,
   "id": "929d7c08",
   "metadata": {},
   "outputs": [
    {
     "ename": "ModuleNotFoundError",
     "evalue": "No module named 'areallyourpetsnamederic'",
     "output_type": "error",
     "traceback": [
      "\u001b[1;31m---------------------------------------------------------------------------\u001b[0m",
      "\u001b[1;31mModuleNotFoundError\u001b[0m                       Traceback (most recent call last)",
      "Input \u001b[1;32mIn [20]\u001b[0m, in \u001b[0;36m<cell line: 2>\u001b[1;34m()\u001b[0m\n\u001b[0;32m      1\u001b[0m \u001b[38;5;66;03m#11. What does the sentence import areallyourpetsnamederic do?\u001b[39;00m\n\u001b[1;32m----> 2\u001b[0m \u001b[38;5;28;01mimport\u001b[39;00m \u001b[38;5;21;01mareallyourpetsnamederic\u001b[39;00m\n",
      "\u001b[1;31mModuleNotFoundError\u001b[0m: No module named 'areallyourpetsnamederic'"
     ]
    }
   ],
   "source": [
    "#11. What does the sentence import areallyourpetsnamederic do?\n",
    "import areallyourpetsnamederic"
   ]
  },
  {
   "cell_type": "code",
   "execution_count": 21,
   "id": "086b08bf",
   "metadata": {},
   "outputs": [],
   "source": [
    "#12. If you had a bacon() feature in a spam module, what would you call it after importing spam?\n",
    "# bacon()"
   ]
  },
  {
   "cell_type": "code",
   "execution_count": 22,
   "id": "d46c96ee",
   "metadata": {},
   "outputs": [
    {
     "name": "stdout",
     "output_type": "stream",
     "text": [
      "Error occurred : can only concatenate str (not \"int\") to str\n"
     ]
    }
   ],
   "source": [
    "#13. What can you do to save a programme from crashing if it encounters an error?\n",
    "\"\"\"We have to handel the errors using try and except blocks in a programme\"\"\"\n",
    "def addNumbers(a, b):\n",
    "    try:\n",
    "        return a + b\n",
    "    except Exception as e:\n",
    "        return 'Error occurred : ' + str(e)\n",
    "  \n",
    "print(addNumbers('', 10))"
   ]
  },
  {
   "cell_type": "code",
   "execution_count": null,
   "id": "6c05a2bf",
   "metadata": {},
   "outputs": [],
   "source": [
    "#14. What is the purpose of the try clause? What is the purpose of the except clause?\n",
    "\"\"\"The try block lets you test a block of code for errors. The except block lets you handle the error.S\"\"\""
   ]
  }
 ],
 "metadata": {
  "kernelspec": {
   "display_name": "Python 3 (ipykernel)",
   "language": "python",
   "name": "python3"
  },
  "language_info": {
   "codemirror_mode": {
    "name": "ipython",
    "version": 3
   },
   "file_extension": ".py",
   "mimetype": "text/x-python",
   "name": "python",
   "nbconvert_exporter": "python",
   "pygments_lexer": "ipython3",
   "version": "3.9.12"
  }
 },
 "nbformat": 4,
 "nbformat_minor": 5
}

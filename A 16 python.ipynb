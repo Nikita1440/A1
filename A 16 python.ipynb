{
 "cells": [
  {
   "cell_type": "markdown",
   "id": "906b14c5",
   "metadata": {},
   "source": [
    "1. Create a list called years_list, starting with the year of your birth, and each year thereafter until\n",
    "the year of your fifth birthday. For example, if you were born in 1980. the list would be years_list =\n",
    "[1980, 1981, 1982, 1983, 1984, 1985].\n",
    "2. In which year in years_list was your third birthday? Remember, you were 0 years of age for your\n",
    "first year.\n",
    "3.In the years list, which year were you the oldest?\n",
    "4. Make a list called things with these three strings as elements: &quot;mozzarella&quot;, &quot;cinderella&quot;,\n",
    "&quot;salmonella&quot;.\n",
    "5. Capitalize the element in things that refers to a person and then print the list. Did it change the\n",
    "element in the list?\n",
    "6. Make a surprise list with the elements &quot;Groucho,&quot; &quot;Chico,&quot; and &quot;Harpo.&quot;\n",
    "7. Lowercase the last element of the surprise list, reverse it, and then capitalize it.\n",
    "8. Make an English-to-French dictionary called e2f and print it. Here are your starter words: dog is\n",
    "chien, cat is chat, and walrus is morse.\n",
    "9. Write the French word for walrus in your three-word dictionary e2f.\n",
    "10. Make a French-to-English dictionary called f2e from e2f. Use the items method.\n",
    "11. Print the English version of the French word chien using f2e.\n",
    "12. Make and print a set of English words from the keys in e2f.\n",
    "13. Make a multilevel dictionary called life. Use these strings for the topmost keys: &#39;animals&#39;, &#39;plants&#39;,\n",
    "and &#39;other&#39;. Make the &#39;animals&#39; key refer to another dictionary with the keys &#39;cats&#39;, &#39;octopi&#39;, and\n",
    "&#39;emus&#39;. Make the &#39;cats&#39; key refer to a list of strings with the values &#39;Henri&#39;, &#39;Grumpy&#39;, and &#39;Lucy&#39;.\n",
    "Make all the other keys refer to empty dictionaries.\n",
    "14. Print the top-level keys of life.\n",
    "15. Print the keys for life[&#39;animals&#39;].\n",
    "16. Print the values for life[&#39;animals&#39;][&#39;cats&#39;]"
   ]
  },
  {
   "cell_type": "code",
   "execution_count": 1,
   "id": "4e5909ed",
   "metadata": {},
   "outputs": [],
   "source": [
    "#1\n",
    "years_list = [1999 + i for i in range(6)]\n"
   ]
  },
  {
   "cell_type": "code",
   "execution_count": 2,
   "id": "35ca458f",
   "metadata": {},
   "outputs": [
    {
     "data": {
      "text/plain": [
       "[1999, 2000, 2001, 2002, 2003, 2004]"
      ]
     },
     "execution_count": 2,
     "metadata": {},
     "output_type": "execute_result"
    }
   ],
   "source": [
    "years_list"
   ]
  },
  {
   "cell_type": "code",
   "execution_count": 4,
   "id": "6b9a6096",
   "metadata": {},
   "outputs": [
    {
     "data": {
      "text/plain": [
       "2002"
      ]
     },
     "execution_count": 4,
     "metadata": {},
     "output_type": "execute_result"
    }
   ],
   "source": [
    "#2\n",
    "third_birthday_year = years_list[3]\n",
    "third_birthday_year"
   ]
  },
  {
   "cell_type": "code",
   "execution_count": 5,
   "id": "edbf5362",
   "metadata": {},
   "outputs": [
    {
     "data": {
      "text/plain": [
       "['mozzarella', 'cinderella', 'salmonella']"
      ]
     },
     "execution_count": 5,
     "metadata": {},
     "output_type": "execute_result"
    }
   ],
   "source": [
    "#3\n",
    "things = [\"mozzarella\", \"cinderella\", \"salmonella\"]\n",
    "things"
   ]
  },
  {
   "cell_type": "code",
   "execution_count": 6,
   "id": "0e756c16",
   "metadata": {},
   "outputs": [
    {
     "name": "stdout",
     "output_type": "stream",
     "text": [
      "['mozzarella', 'Cinderella', 'salmonella']\n"
     ]
    }
   ],
   "source": [
    "#4\n",
    "things = [\"mozzarella\", \"cinderella\", \"salmonella\"]\n",
    "things[1] = things[1].capitalize()\n",
    "print(things)\n"
   ]
  },
  {
   "cell_type": "code",
   "execution_count": 9,
   "id": "a1a17bda",
   "metadata": {},
   "outputs": [
    {
     "data": {
      "text/plain": [
       "['Groucho,Chico,Harpo']"
      ]
     },
     "execution_count": 9,
     "metadata": {},
     "output_type": "execute_result"
    }
   ],
   "source": [
    "surprise= [\"Groucho,\" \"Chico,\" \"Harpo\"]\n",
    "surprise"
   ]
  },
  {
   "cell_type": "code",
   "execution_count": 10,
   "id": "344aaafc",
   "metadata": {},
   "outputs": [
    {
     "name": "stdout",
     "output_type": "stream",
     "text": [
      "['Groucho', 'Chico', 'Oprah']\n"
     ]
    }
   ],
   "source": [
    "#6\n",
    "surprise = [\"Groucho\", \"Chico\", \"Harpo\"]\n",
    "last_element = surprise[-1]  # Get the last element\n",
    "lowercase_reversed = last_element.lower()[::-1]  # Lowercase, reverse the string\n",
    "capitalized = lowercase_reversed.capitalize()  # Capitalize the string\n",
    "\n",
    "surprise[-1] = capitalized  # Update the last element in the list\n",
    "\n",
    "print(surprise)\n"
   ]
  },
  {
   "cell_type": "code",
   "execution_count": 11,
   "id": "fdd33334",
   "metadata": {},
   "outputs": [
    {
     "name": "stdout",
     "output_type": "stream",
     "text": [
      "{'dog': 'chien', 'cat': 'chat', 'walrus': 'morse'}\n"
     ]
    }
   ],
   "source": [
    "#7\n",
    "e2f = {\n",
    "    'dog': 'chien',\n",
    "    'cat': 'chat',\n",
    "    'walrus': 'morse'\n",
    "}\n",
    "\n",
    "print(e2f)\n"
   ]
  },
  {
   "cell_type": "code",
   "execution_count": 12,
   "id": "ae5f4985",
   "metadata": {},
   "outputs": [
    {
     "name": "stdout",
     "output_type": "stream",
     "text": [
      "morse\n"
     ]
    }
   ],
   "source": [
    "#8\n",
    "e2f = {\n",
    "    'dog': 'chien',\n",
    "    'cat': 'chat',\n",
    "    'walrus': 'morse'\n",
    "}\n",
    "\n",
    "french_word = e2f['walrus']  # Accessing using indexing\n",
    "# Or: french_word = e2f.get('walrus')  # Accessing using get() method\n",
    "\n",
    "print(french_word)\n"
   ]
  },
  {
   "cell_type": "code",
   "execution_count": 13,
   "id": "681a230c",
   "metadata": {},
   "outputs": [
    {
     "name": "stdout",
     "output_type": "stream",
     "text": [
      "{'chien': 'dog', 'chat': 'cat', 'morse': 'walrus'}\n"
     ]
    }
   ],
   "source": [
    "#9\n",
    "f2e = {value: key for key, value in e2f.items()}\n",
    "\n",
    "print(f2e)"
   ]
  },
  {
   "cell_type": "code",
   "execution_count": 14,
   "id": "9e3552f7",
   "metadata": {},
   "outputs": [
    {
     "name": "stdout",
     "output_type": "stream",
     "text": [
      "dog\n"
     ]
    }
   ],
   "source": [
    "english_word = f2e['chien']\n",
    "\n",
    "print(english_word)"
   ]
  },
  {
   "cell_type": "code",
   "execution_count": 15,
   "id": "2593214f",
   "metadata": {},
   "outputs": [
    {
     "name": "stdout",
     "output_type": "stream",
     "text": [
      "{'cat', 'dog', 'walrus'}\n"
     ]
    }
   ],
   "source": [
    "english_words = set(e2f.keys())\n",
    "\n",
    "print(english_words)"
   ]
  },
  {
   "cell_type": "code",
   "execution_count": 16,
   "id": "15e69384",
   "metadata": {},
   "outputs": [
    {
     "name": "stdout",
     "output_type": "stream",
     "text": [
      "{'animals': {'cats': ['Henri', 'Grumpy', 'Lucy'], 'octopi': {}, 'emus': {}}, 'plants': {}, 'other': {}}\n"
     ]
    }
   ],
   "source": [
    "life = {\n",
    "    'animals': {\n",
    "        'cats': ['Henri', 'Grumpy', 'Lucy'],\n",
    "        'octopi': {},\n",
    "        'emus': {}\n",
    "    },\n",
    "    'plants': {},\n",
    "    'other': {}\n",
    "}\n",
    "\n",
    "print(life)\n"
   ]
  },
  {
   "cell_type": "code",
   "execution_count": 17,
   "id": "35393fe3",
   "metadata": {},
   "outputs": [
    {
     "name": "stdout",
     "output_type": "stream",
     "text": [
      "['animals', 'plants', 'other']\n",
      "['cats', 'octopi', 'emus']\n",
      "['Henri', 'Grumpy', 'Lucy']\n"
     ]
    }
   ],
   "source": [
    "# Print the top-level keys of life\n",
    "top_level_keys = list(life.keys())\n",
    "print(top_level_keys)\n",
    "\n",
    "# Print the keys for life['animals']\n",
    "animals_keys = list(life['animals'].keys())\n",
    "print(animals_keys)\n",
    "\n",
    "# Print the values for life['animals']['cats']\n",
    "cats_values = life['animals']['cats']\n",
    "print(cats_values)"
   ]
  },
  {
   "cell_type": "code",
   "execution_count": null,
   "id": "0ee2ffbc",
   "metadata": {},
   "outputs": [],
   "source": []
  }
 ],
 "metadata": {
  "kernelspec": {
   "display_name": "Python 3 (ipykernel)",
   "language": "python",
   "name": "python3"
  },
  "language_info": {
   "codemirror_mode": {
    "name": "ipython",
    "version": 3
   },
   "file_extension": ".py",
   "mimetype": "text/x-python",
   "name": "python",
   "nbconvert_exporter": "python",
   "pygments_lexer": "ipython3",
   "version": "3.10.9"
  }
 },
 "nbformat": 4,
 "nbformat_minor": 5
}

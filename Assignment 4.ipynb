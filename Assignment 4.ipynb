{
 "cells": [
  {
   "cell_type": "code",
   "execution_count": 2,
   "id": "c38ffb54",
   "metadata": {},
   "outputs": [],
   "source": [
    "#1. What exactly is []?\n",
    "l= [] \n",
    "\"\"\"list :  list in Python is used to store the sequence of various types of data. Python lists are mutable type its mean we\n",
    "can modify its element after it created. However, Python \n",
    "consists of six data-types that are capable to store the sequences, but the most common and reliable type is the list.\n",
    "\n",
    "A list can be defined as a collection of values or items of different types. The items in the list are separated with the comma (,) and enclosed with the square brackets [].\n",
    "\n",
    "A list can be define as below \"\"\"\n",
    "L1 = [\"John\", 102, \"USA\"]    \n",
    "L2 = [1, 2, 3, 4, 5, 6]"
   ]
  },
  {
   "cell_type": "code",
   "execution_count": 37,
   "id": "12bab18d",
   "metadata": {},
   "outputs": [
    {
     "data": {
      "text/plain": [
       "[2, 4, 'hello', 8, 10]"
      ]
     },
     "execution_count": 37,
     "metadata": {},
     "output_type": "execute_result"
    }
   ],
   "source": [
    "#2. In a list of values stored in a variable called spam, how would you assign the value &#39;hello&#39; as the third value? (Assume [2, 4, 6, 8, 10] are in spam.)\n",
    "spam = [2, 4, 6, 8, 10]\n",
    "spam[2]= 'hello'\n",
    "spam"
   ]
  },
  {
   "cell_type": "code",
   "execution_count": 9,
   "id": "17a83337",
   "metadata": {},
   "outputs": [],
   "source": [
    "#3. What is the value of spam[int(int(&#39;3&#39; * 2) / 11)]?\n",
    "spam =['a', 'b', 'c', 'd']"
   ]
  },
  {
   "cell_type": "code",
   "execution_count": 20,
   "id": "2b9d03be",
   "metadata": {},
   "outputs": [
    {
     "data": {
      "text/plain": [
       "'d'"
      ]
     },
     "execution_count": 20,
     "metadata": {},
     "output_type": "execute_result"
    }
   ],
   "source": [
    "spam[int(int('3'*2)/11)]"
   ]
  },
  {
   "cell_type": "code",
   "execution_count": 24,
   "id": "3aac9039",
   "metadata": {},
   "outputs": [
    {
     "data": {
      "text/plain": [
       "'d'"
      ]
     },
     "execution_count": 24,
     "metadata": {},
     "output_type": "execute_result"
    }
   ],
   "source": [
    "#4\n",
    "spam[-1]"
   ]
  },
  {
   "cell_type": "code",
   "execution_count": 38,
   "id": "3897904f",
   "metadata": {},
   "outputs": [
    {
     "data": {
      "text/plain": [
       "[2, 4]"
      ]
     },
     "execution_count": 38,
     "metadata": {},
     "output_type": "execute_result"
    }
   ],
   "source": [
    "#5\n",
    "spam[:2]"
   ]
  },
  {
   "cell_type": "code",
   "execution_count": 26,
   "id": "50af7f86",
   "metadata": {},
   "outputs": [
    {
     "data": {
      "text/plain": [
       "1"
      ]
     },
     "execution_count": 26,
     "metadata": {},
     "output_type": "execute_result"
    }
   ],
   "source": [
    "#6\n",
    "bacon = [3.14, 'cat', 11, 'cat', True]\n",
    "bacon.index('cat')"
   ]
  },
  {
   "cell_type": "code",
   "execution_count": 29,
   "id": "6745fc6f",
   "metadata": {},
   "outputs": [],
   "source": [
    "#7\n",
    "bacon.append(99)"
   ]
  },
  {
   "cell_type": "code",
   "execution_count": 31,
   "id": "f3a38599",
   "metadata": {},
   "outputs": [
    {
     "data": {
      "text/plain": [
       "[3.14, 'cat', 11, 'cat', True, 99, 99]"
      ]
     },
     "execution_count": 31,
     "metadata": {},
     "output_type": "execute_result"
    }
   ],
   "source": [
    "bacon"
   ]
  },
  {
   "cell_type": "code",
   "execution_count": 34,
   "id": "c63dd191",
   "metadata": {},
   "outputs": [
    {
     "data": {
      "text/plain": [
       "[3.14, 11, True, 99, 99]"
      ]
     },
     "execution_count": 34,
     "metadata": {},
     "output_type": "execute_result"
    }
   ],
   "source": [
    "#8\n",
    "bacon.remove('cat')\n",
    "bacon"
   ]
  },
  {
   "cell_type": "code",
   "execution_count": 39,
   "id": "fd0e8a4d",
   "metadata": {},
   "outputs": [],
   "source": [
    "#9. What are the list concatenation and list replication operators?\n",
    "#The operator for list concatenation is +, while the operator for replication is *. (This is the same as for strings.)\n",
    "\n"
   ]
  },
  {
   "cell_type": "code",
   "execution_count": 40,
   "id": "ab73d107",
   "metadata": {},
   "outputs": [],
   "source": [
    "#10. What is difference between the list methods append() and insert()?\n",
    "#While append() will add values only to the end of a list, insert() can add them anywhere in the list."
   ]
  },
  {
   "cell_type": "code",
   "execution_count": 43,
   "id": "f9f1e488",
   "metadata": {},
   "outputs": [
    {
     "data": {
      "text/plain": [
       "[4, 5, 6, 7, 8, 9]"
      ]
     },
     "execution_count": 43,
     "metadata": {},
     "output_type": "execute_result"
    }
   ],
   "source": [
    "#11. What are the two methods for removing items from a list?\n",
    "#l.remove & l.pop\n",
    "l =[2,4,5,6,7,8,9]\n",
    "l.remove(2)\n",
    "l"
   ]
  },
  {
   "cell_type": "code",
   "execution_count": 47,
   "id": "ff9ae5b6",
   "metadata": {},
   "outputs": [
    {
     "data": {
      "text/plain": [
       "[4, 7, 9]"
      ]
     },
     "execution_count": 47,
     "metadata": {},
     "output_type": "execute_result"
    }
   ],
   "source": [
    "l.pop(1)\n",
    "l"
   ]
  },
  {
   "cell_type": "code",
   "execution_count": 49,
   "id": "c4524e4d",
   "metadata": {},
   "outputs": [
    {
     "data": {
      "text/plain": [
       "'A list is a sequential collection of Python data values, where each value is identified by an index. The values that make up a list are called its elements. Lists are similar to strings, which are ordered collections of characters, except that the elements of a list can have any type and for any one list, the items can be of different types.'"
      ]
     },
     "execution_count": 49,
     "metadata": {},
     "output_type": "execute_result"
    }
   ],
   "source": [
    "#12. Describe how list values and string values are identical.\n",
    "\"\"\"A list is a sequential collection of Python data values, where each value is identified by an index. The values that make up a list are called its elements. Lists are similar to strings, which are ordered collections of characters, except that the elements of a list can have any type and for any one list, the items can be of different types.\"\"\""
   ]
  },
  {
   "cell_type": "code",
   "execution_count": 50,
   "id": "69559729",
   "metadata": {},
   "outputs": [
    {
     "data": {
      "text/plain": [
       "'A tuple, like a list, is a sequence of items of any type. The printed representation of a tuple is a comma-separated sequence of values, enclosed in parentheses. In other words, the representation is just like lists, except with parentheses () instead of square brackets [].\\n\\nOne way to create a tuple is to write an expression, enclosed in parentheses, that consists of multiple other expressions, separated by commas.The key difference between lists and tuples is that a tuple is immutable, meaning that its contents can’t be changed after the tuple is created. We will examine the mutability of lists in detail in the chapter on Mutability.\\n\\nTo create a tuple with a single element (but you’re probably not likely to do that too often), we have to include the final comma, because without the final comma, Python treats the (5) below as an integer in parentheses:'"
      ]
     },
     "execution_count": 50,
     "metadata": {},
     "output_type": "execute_result"
    }
   ],
   "source": [
    "#13. What&#39;s the difference between tuples and lists?\n",
    "\"\"\"A tuple, like a list, is a sequence of items of any type. The printed representation of a tuple is a comma-separated sequence of values, enclosed in parentheses. In other words, the representation is just like lists, except with parentheses () instead of square brackets [].\n",
    "\n",
    "One way to create a tuple is to write an expression, enclosed in parentheses, that consists of multiple other expressions, separated by commas.The key difference between lists and tuples is that a tuple is immutable, meaning that its contents can’t be changed after the tuple is created. We will examine the mutability of lists in detail in the chapter on Mutability.\n",
    "\n",
    "To create a tuple with a single element (but you’re probably not likely to do that too often), we have to include the final comma, because without the final comma, Python treats the (5) below as an integer in parentheses:\"\"\""
   ]
  },
  {
   "cell_type": "code",
   "execution_count": 51,
   "id": "bcb3279c",
   "metadata": {},
   "outputs": [
    {
     "name": "stdout",
     "output_type": "stream",
     "text": [
      "<class 'tuple'>\n"
     ]
    }
   ],
   "source": [
    "#14. How do you type a tuple value that only contains the integer 42?\n",
    "t = (5,)\n",
    "print(type(t))\n"
   ]
  },
  {
   "cell_type": "code",
   "execution_count": 63,
   "id": "ef298d22",
   "metadata": {},
   "outputs": [
    {
     "name": "stdout",
     "output_type": "stream",
     "text": [
      "('Compile', 'With', 'Favtutor')\n",
      "<class 'tuple'>\n",
      "****************\n",
      "('Compile', 'With', 'Favtutor')\n",
      "<class 'tuple'>\n",
      "*************************\n",
      "('Compile', 'With', 'Favtutor')\n",
      "<class 'tuple'>\n"
     ]
    }
   ],
   "source": [
    "#15\n",
    "sample_list = ['Compile', 'With', 'Favtutor']\n",
    "\n",
    "#convert list into tuple\n",
    "tuple1 = tuple(sample_list)\n",
    "\n",
    "print(tuple1)\n",
    "print(type(tuple1))\n",
    "\n",
    "\n",
    "print(\"****************\")\n",
    "\n",
    "sample_list = ['Compile', 'With', 'Favtutor']\n",
    "tuple1 = tuple(i for i in sample_list)\n",
    "print(tuple1)\n",
    "print(type(tuple1))\n",
    "\n",
    "print(\"*************************\")\n",
    "sample_list = ['Compile', 'With', 'Favtutor']\n",
    "\n",
    "#unpack list items and form tuple\n",
    "tuple1 = (*sample_list,)\n",
    "\n",
    "print(tuple1)\n",
    "print(type(tuple1))\n",
    " \n",
    " "
   ]
  },
  {
   "cell_type": "code",
   "execution_count": 68,
   "id": "744e77ce",
   "metadata": {},
   "outputs": [
    {
     "name": "stdout",
     "output_type": "stream",
     "text": [
      "['nikita', 'is', 'amazing']\n"
     ]
    },
    {
     "data": {
      "text/plain": [
       "list"
      ]
     },
     "execution_count": 68,
     "metadata": {},
     "output_type": "execute_result"
    }
   ],
   "source": [
    "#converting tuples to list \n",
    "sample_tuple = (\"nikita\", 'is', 'amazing')\n",
    "list1 = list(i for i in sample_tuple)\n",
    "print(list1)\n",
    "type(list1)"
   ]
  },
  {
   "cell_type": "code",
   "execution_count": 76,
   "id": "0bd0f448",
   "metadata": {},
   "outputs": [
    {
     "data": {
      "text/plain": [
       "\"copy() create reference to original object. If you change copied object - you change the original object. .deepcopy() creates new object and does real copying of original object to new one. Changing new deepcopied object doesn't affect original object.\\n\\nAnd yes, .deepcopy() copies original object recursively, while .copy() create a reference object to first-level data of original object.\""
      ]
     },
     "execution_count": 76,
     "metadata": {},
     "output_type": "execute_result"
    }
   ],
   "source": [
    "#17. How do you distinguish between copy.copy() and copy.deepcopy()?\n",
    "\"\"\"copy() create reference to original object. If you change copied object - you change the original object. .deepcopy() creates new object and does real copying of original object to new one. Changing new deepcopied object doesn't affect original object.\n",
    "\n",
    "And yes, .deepcopy() copies original object recursively, while .copy() create a reference object to first-level data of original object.\"\"\"\n",
    "\n",
    "\n"
   ]
  },
  {
   "cell_type": "code",
   "execution_count": 87,
   "id": "6c75fd74",
   "metadata": {},
   "outputs": [
    {
     "name": "stdout",
     "output_type": "stream",
     "text": [
      "Old List: [[1, 2, 3], [4, 5, 4], [7, 8, 'a']]\n",
      "ID of Old List: 1379044108672\n",
      "New List: [[1, 2, 3], [4, 5, 4], [7, 8, 'a']]\n",
      "ID of New List: 1379044108672\n"
     ]
    }
   ],
   "source": [
    "import copy\n",
    "\n",
    "list1 = [[1, 2, 3], [4, 5, 6], [7, 8, 'a']]  \n",
    "list2 = list1  \n",
    "  \n",
    "list2[1][2] = 4  \n",
    "  \n",
    "print('Old List:', list1)  \n",
    "print('ID of Old List:', id(list1))  \n",
    "  \n",
    "print('New List:', list2)  \n",
    "print('ID of New List:', id(list2))  "
   ]
  },
  {
   "cell_type": "code",
   "execution_count": 92,
   "id": "9ce553a1",
   "metadata": {},
   "outputs": [
    {
     "name": "stdout",
     "output_type": "stream",
     "text": [
      "[[1, 2, 3], [4, 5, 6], [7, 8, 'Hello']]\n"
     ]
    }
   ],
   "source": [
    "x = [[1, 2, 3], [4, 5, 6], [7, 8, 9]]  \n",
    "z = copy.deepcopy(x)  \n",
    "  \n",
    "x[2][2] = 'Hello'  \n",
    "print(x)  "
   ]
  },
  {
   "cell_type": "code",
   "execution_count": null,
   "id": "aa627875",
   "metadata": {},
   "outputs": [],
   "source": []
  }
 ],
 "metadata": {
  "kernelspec": {
   "display_name": "Python 3 (ipykernel)",
   "language": "python",
   "name": "python3"
  },
  "language_info": {
   "codemirror_mode": {
    "name": "ipython",
    "version": 3
   },
   "file_extension": ".py",
   "mimetype": "text/x-python",
   "name": "python",
   "nbconvert_exporter": "python",
   "pygments_lexer": "ipython3",
   "version": "3.9.12"
  }
 },
 "nbformat": 4,
 "nbformat_minor": 5
}

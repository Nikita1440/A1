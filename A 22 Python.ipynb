{
 "cells": [
  {
   "cell_type": "markdown",
   "id": "d53fd658-1818-40bc-b7a1-2af4f4085290",
   "metadata": {},
   "source": [
    "1. What is the result of the code, and explain?\n",
    "\n",
    "&gt;&gt;&gt; X = &#39;iNeuron&#39;\n",
    "&gt;&gt;&gt; def func():\n",
    "print(X)\n",
    "\n",
    "&gt;&gt;&gt; func()\n",
    "\n",
    "2. What is the result of the code, and explain?\n",
    "\n",
    "&gt;&gt;&gt; X = &#39;iNeuron&#39;\n",
    "&gt;&gt;&gt; def func():\n",
    "X = &#39;NI!&#39;\n",
    "\n",
    "&gt;&gt;&gt; func()\n",
    "&gt;&gt;&gt; print(X)\n",
    "\n",
    "3. What does this code print, and why?\n",
    "\n",
    "&gt;&gt;&gt; X = &#39;iNeuron&#39;\n",
    "&gt;&gt;&gt; def func():\n",
    "X = &#39;NI&#39;\n",
    "print(X)\n",
    "\n",
    "&gt;&gt;&gt; func()\n",
    "&gt;&gt;&gt; print(X)\n",
    "\n",
    "4. What output does this code produce? Why?\n",
    "\n",
    "&gt;&gt;&gt; X = &#39;iNeuron&#39;\n",
    "&gt;&gt;&gt; def func():\n",
    "global X\n",
    "X = &#39;NI&#39;\n",
    "\n",
    "&gt;&gt;&gt; func()\n",
    "&gt;&gt;&gt; print(X)\n",
    "\n",
    "5. What about this code—what’s the output, and why?\n",
    "\n",
    "&gt;&gt;&gt; X = &#39;iNeuron&#39;\n",
    "&gt;&gt;&gt; def func():\n",
    "X = &#39;NI&#39;\n",
    "def nested():\n",
    "print(X)\n",
    "nested()\n",
    "\n",
    "&gt;&gt;&gt; func()\n",
    "&gt;&gt;&gt; X\n",
    "\n",
    "6. How about this code: what is its output in Python 3, and explain?\n",
    "\n",
    "&gt;&gt;&gt; def func():\n",
    "X = &#39;NI&#39;\n",
    "def nested():\n",
    "nonlocal X\n",
    "X = &#39;Spam&#39;\n",
    "nested()\n",
    "print(X)\n",
    "\n",
    "&gt;&gt;&gt; func()"
   ]
  },
  {
   "cell_type": "markdown",
   "id": "932c5b9c-3f95-4c02-b713-a9fced070ffb",
   "metadata": {},
   "source": [
    "# 1.\n",
    "iNeuron\n",
    "Explanation:\n",
    "\n",
    "The variable X is defined with the value 'iNeuron' in the global scope.\n",
    "The function func() is defined, which prints the value of X.\n",
    "When the function func() is called, it accesses the value of X from the global scope and prints it.\n",
    "Since X is defined outside the function and is accessible in the function's scope, the function successfully prints the value of X, which is 'iNeuron'."
   ]
  },
  {
   "cell_type": "code",
   "execution_count": 1,
   "id": "9dfe3611-8a27-49dd-8852-f1fec4a600fe",
   "metadata": {},
   "outputs": [
    {
     "name": "stdout",
     "output_type": "stream",
     "text": [
      "iNeuron\n"
     ]
    }
   ],
   "source": [
    "X = 'iNeuron'\n",
    "\n",
    "def func():\n",
    "    print(X)\n",
    "\n",
    "func()\n"
   ]
  },
  {
   "cell_type": "markdown",
   "id": "f6f1d5de-8420-4b60-b891-5ee913cffd5e",
   "metadata": {},
   "source": [
    "# 2\n",
    "To answer the given question, we need to analyze and explain the result of the provided code snippet.\n",
    "\n",
    "The code snippet defines a variable X with the initial value 'iNeuron'. Then, it declares a function named func() that assigns a new value 'NI!' to a local variable X within the function scope.\n",
    "\n",
    "When the function func() is called, it modifies the value of the local variable X within its own scope, but it does not affect the value of the global variable X.\n",
    "\n",
    "After calling the function, the code prints the value of the global variable X.\n",
    "\n",
    "So, let's explain the result and then execute the code for better understanding.\n",
    "\n",
    "Explanation:\n",
    "\n",
    "The variable X is defined with the value 'iNeuron' in the global scope.\n",
    "The function func() is defined, which assigns a new value 'NI!' to a local variable X within its scope.\n",
    "When the function func() is called, it modifies the value of the local variable X, but it does not affect the global variable X.\n",
    "After the function call, the code prints the value of the global variable X, which remains unchanged as 'iNeuron'.\n",
    "Now, let's execute the code to verify the explanation:"
   ]
  },
  {
   "cell_type": "code",
   "execution_count": 2,
   "id": "6e269026-03f6-419c-afb0-553fd2766666",
   "metadata": {},
   "outputs": [
    {
     "name": "stdout",
     "output_type": "stream",
     "text": [
      "iNeuron\n"
     ]
    }
   ],
   "source": [
    "X = 'iNeuron'\n",
    "\n",
    "def func():\n",
    "    X = 'NI!'\n",
    "\n",
    "func()\n",
    "print(X)\n"
   ]
  },
  {
   "cell_type": "markdown",
   "id": "9e092632-2ebd-4985-8339-fd228c3dc626",
   "metadata": {},
   "source": [
    "# 3\n",
    "To determine what the code will print, we need to analyze the provided code snippet.\n",
    "\n",
    "The code snippet defines a variable X with the initial value 'iNeuron'. Then, it declares a function named func() that assigns a new value 'NI' to a local variable X within its scope and prints the value of the local X variable.\n",
    "\n",
    "After defining the function, the code calls the func() function. Finally, it prints the value of the global variable X.\n",
    "\n",
    "Let's break it down step by step:\n",
    "\n",
    "X = 'iNeuron' assigns the value 'iNeuron' to the global variable X.\n",
    "def func(): defines the function func().\n",
    "X = 'NI' assigns the value 'NI' to a local variable X within the scope of the func() function.\n",
    "print(X) prints the value of the local variable X within the function's scope, which is 'NI'.\n",
    "func() is called, executing the function and printing 'NI'.\n",
    "print(X) prints the value of the global variable X, which remains unchanged as 'iNeuron'.\n",
    "Therefore, the code will print:\n",
    "\n",
    "\n",
    "NI\n",
    "iNeur"
   ]
  },
  {
   "cell_type": "code",
   "execution_count": 3,
   "id": "504acead-70f0-48c7-9866-1f7d157c398c",
   "metadata": {},
   "outputs": [
    {
     "name": "stdout",
     "output_type": "stream",
     "text": [
      "NI\n",
      "iNeuron\n"
     ]
    }
   ],
   "source": [
    "X = 'iNeuron'\n",
    "\n",
    "def func():\n",
    "    X = 'NI'\n",
    "    print(X)\n",
    "\n",
    "func()\n",
    "print(X)\n"
   ]
  },
  {
   "cell_type": "markdown",
   "id": "afc51687-4ecd-4ed7-86e5-326bef966f21",
   "metadata": {},
   "source": [
    "# 4\n",
    "NI\n",
    "Explanation:\n",
    "\n",
    "Initially, the global variable X is assigned the value 'iNeuron'.\n",
    "The function func() is defined, and within the function, the global keyword is used to indicate that the variable X being referred to is the global variable, not a local variable.\n",
    "Inside the function, the value of the global variable X is changed to 'NI'.\n",
    "When the function func() is called, it modifies the global variable X to 'NI'.\n",
    "Finally, print(X) is executed, which prints the value of the modified global variable X, which is 'NI'.\n",
    "The global keyword allows the function to modify the value of the global variable X instead of creating a new local variable with the same name. Thus, when print(X) is executed outside the function, it reflects the modified value of the global variable.\n",
    "\n",
    "Therefore, the output is NI.\n"
   ]
  },
  {
   "cell_type": "code",
   "execution_count": 9,
   "id": "ec922380-5234-450e-9746-b3785d5612e2",
   "metadata": {},
   "outputs": [
    {
     "name": "stdout",
     "output_type": "stream",
     "text": [
      "NI\n"
     ]
    }
   ],
   "source": [
    " X = 'iNeuron'\n",
    "\n",
    "def func():\n",
    "    global X\n",
    "    X = 'NI'\n",
    "\n",
    "func()\n",
    "print(X)\n"
   ]
  },
  {
   "cell_type": "markdown",
   "id": "3cc7e13d-1dfd-433b-bbf2-a93d87b569c3",
   "metadata": {},
   "source": [
    "# 5\n",
    "The code snippet defines a global variable X with the value 'iNeuron'. It also defines a function func() which defines a local variable X with the value 'NI'. Inside func(), there is another nested function nested() which prints the value of the local variable X. Finally, the function func() is called, followed by printing the value of the global variable X.\n",
    "\n",
    "Here's the step-by-step explanation:\n",
    "\n",
    "X = 'iNeuron' assigns the value 'iNeuron' to the global variable X.\n",
    "The function func() is defined, and within it, a local variable X is assigned the value 'NI'.\n",
    "Inside func(), the nested function nested() is defined.\n",
    "nested() is called from within func(), and it prints the value of the local variable X, which is 'NI'.\n",
    "func() is called.\n",
    "After calling func(), print(X) is executed, which prints the value of the global variable X, which remains unchanged as 'iNeuron'.\n",
    "Therefore, the output will be:\n",
    "\n",
    "\n",
    "NI\n",
    "iNeuron\n",
    "\n",
    "\n",
    "\n",
    "Explanation:\n",
    "\n",
    "Inside the func() function, the nested() function has access to the local variable X defined in its outer scope. Hence, it prints the value of the local variable X, which is 'NI'.\n",
    "After executing func(), print(X) is executed outside the function scope, which prints the value of the global variable X, which remains unchanged as 'iNeuron'.\n",
    "Now, let's execute the code to confirm the output:"
   ]
  },
  {
   "cell_type": "code",
   "execution_count": 10,
   "id": "46d49803-ed6a-4bfe-914a-ea9f9cdcc009",
   "metadata": {},
   "outputs": [
    {
     "name": "stdout",
     "output_type": "stream",
     "text": [
      "NI\n",
      "iNeuron\n"
     ]
    }
   ],
   "source": [
    "X = 'iNeuron'\n",
    "\n",
    "def func():\n",
    "    X = 'NI'\n",
    "    \n",
    "    def nested():\n",
    "        print(X)\n",
    "    \n",
    "    nested()\n",
    "\n",
    "func()\n",
    "print(X)\n"
   ]
  },
  {
   "cell_type": "code",
   "execution_count": 11,
   "id": "eed3e9bf-f12f-4bde-a23e-a08905f30c44",
   "metadata": {},
   "outputs": [],
   "source": [
    "# 6"
   ]
  },
  {
   "cell_type": "code",
   "execution_count": 12,
   "id": "9a565b9e-fef9-420c-8583-b4847c6f64a1",
   "metadata": {},
   "outputs": [
    {
     "name": "stdout",
     "output_type": "stream",
     "text": [
      "Spam\n"
     ]
    }
   ],
   "source": [
    "def func():\n",
    "    X = 'NI'\n",
    "    \n",
    "    def nested():\n",
    "        nonlocal X\n",
    "        X = 'Spam'\n",
    "    \n",
    "    nested()\n",
    "    print(X)\n",
    "\n",
    "func()\n"
   ]
  },
  {
   "cell_type": "code",
   "execution_count": null,
   "id": "af9bafe0-5b83-4b79-84ff-d88b9be7b5c2",
   "metadata": {},
   "outputs": [],
   "source": []
  }
 ],
 "metadata": {
  "kernelspec": {
   "display_name": "Python 3 (ipykernel)",
   "language": "python",
   "name": "python3"
  },
  "language_info": {
   "codemirror_mode": {
    "name": "ipython",
    "version": 3
   },
   "file_extension": ".py",
   "mimetype": "text/x-python",
   "name": "python",
   "nbconvert_exporter": "python",
   "pygments_lexer": "ipython3",
   "version": "3.10.6"
  }
 },
 "nbformat": 4,
 "nbformat_minor": 5
}

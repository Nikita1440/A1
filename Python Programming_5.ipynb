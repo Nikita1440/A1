{
 "cells": [
  {
   "cell_type": "markdown",
   "id": "9e75f053-08ba-473f-baf5-91a00dfd4327",
   "metadata": {},
   "source": [
    "1. Write a Python Program to Find LCM?\n",
    "2. Write a Python Program to Find HCF?\n",
    "3. Write a Python Program to Convert Decimal to Binary, Octal and Hexadecimal?\n",
    "4. Write a Python Program To Find ASCII value of a character?\n",
    "5. Write a Python Program to Make a Simple Calculator with 4 basic mathematical operations?"
   ]
  },
  {
   "cell_type": "code",
   "execution_count": 1,
   "id": "ac4f6431-ae2f-4d5c-ad9b-8864f7a35c1e",
   "metadata": {},
   "outputs": [
    {
     "name": "stdout",
     "output_type": "stream",
     "text": [
      "LCM of 12 and 18 is 36\n"
     ]
    }
   ],
   "source": [
    "#1\n",
    "def find_lcm(a, b):\n",
    "    # Find the maximum of two numbers\n",
    "    max_num = max(a, b)\n",
    "    lcm = max_num\n",
    "\n",
    "    while True:\n",
    "        if lcm % a == 0 and lcm % b == 0:\n",
    "            # LCM found, exit the loop\n",
    "            break\n",
    "        lcm += max_num\n",
    "\n",
    "    return lcm\n",
    "\n",
    "# Test the function\n",
    "num1 = 12\n",
    "num2 = 18\n",
    "lcm = find_lcm(num1, num2)\n",
    "print(\"LCM of\", num1, \"and\", num2, \"is\", lcm)\n"
   ]
  },
  {
   "cell_type": "code",
   "execution_count": 2,
   "id": "688f6558-ac23-4557-a46d-f9b9fb175138",
   "metadata": {},
   "outputs": [
    {
     "name": "stdout",
     "output_type": "stream",
     "text": [
      "HCF of 24 and 36 is 12\n"
     ]
    }
   ],
   "source": [
    "#2\n",
    "def find_hcf(a, b):\n",
    "    while b:\n",
    "        a, b = b, a % b\n",
    "    return a\n",
    "\n",
    "# Test the function\n",
    "num1 = 24\n",
    "num2 = 36\n",
    "hcf = find_hcf(num1, num2)\n",
    "print(\"HCF of\", num1, \"and\", num2, \"is\", hcf)\n"
   ]
  },
  {
   "cell_type": "code",
   "execution_count": 3,
   "id": "74780809-c759-40d3-87ab-c6047ccf43a0",
   "metadata": {},
   "outputs": [
    {
     "name": "stdin",
     "output_type": "stream",
     "text": [
      "Enter a decimal number:  44\n"
     ]
    },
    {
     "name": "stdout",
     "output_type": "stream",
     "text": [
      "Binary: 101100\n",
      "Octal: 54\n",
      "Hexadecimal: 2c\n"
     ]
    }
   ],
   "source": [
    "#3\n",
    "decimal = int(input(\"Enter a decimal number: \"))\n",
    "\n",
    "binary = bin(decimal)[2:]\n",
    "octal = oct(decimal)[2:]\n",
    "hexadecimal = hex(decimal)[2:]\n",
    "\n",
    "print(\"Binary:\", binary)\n",
    "print(\"Octal:\", octal)\n",
    "print(\"Hexadecimal:\", hexadecimal)\n"
   ]
  },
  {
   "cell_type": "code",
   "execution_count": 6,
   "id": "ba4f507d-fd40-4530-9c5f-299e98bfa06d",
   "metadata": {},
   "outputs": [
    {
     "name": "stdin",
     "output_type": "stream",
     "text": [
      "Enter a character:  e\n"
     ]
    },
    {
     "name": "stdout",
     "output_type": "stream",
     "text": [
      "ASCII value of e is 101\n"
     ]
    }
   ],
   "source": [
    "#4\n",
    "char = input(\"Enter a character: \")\n",
    "ascii_value = ord(char)\n",
    "\n",
    "print(\"ASCII value of\", char, \"is\", ascii_value)\n"
   ]
  },
  {
   "cell_type": "code",
   "execution_count": 7,
   "id": "4bb97286-223c-4676-a975-b4ddedbcc0d6",
   "metadata": {},
   "outputs": [
    {
     "name": "stdin",
     "output_type": "stream",
     "text": [
      "Enter the first number:  3\n",
      "Enter the second number:  77\n"
     ]
    },
    {
     "name": "stdout",
     "output_type": "stream",
     "text": [
      "Select operation:\n",
      "1. Addition\n",
      "2. Subtraction\n",
      "3. Multiplication\n",
      "4. Division\n"
     ]
    },
    {
     "name": "stdin",
     "output_type": "stream",
     "text": [
      "Enter your choice (1-4):  3\n"
     ]
    },
    {
     "name": "stdout",
     "output_type": "stream",
     "text": [
      "3.0 * 77.0 = 231.0\n"
     ]
    }
   ],
   "source": [
    "#5\n",
    "def add(a, b):\n",
    "    return a + b\n",
    "\n",
    "def subtract(a, b):\n",
    "    return a - b\n",
    "\n",
    "def multiply(a, b):\n",
    "    return a * b\n",
    "\n",
    "def divide(a, b):\n",
    "    return a / b\n",
    "\n",
    "num1 = float(input(\"Enter the first number: \"))\n",
    "num2 = float(input(\"Enter the second number: \"))\n",
    "\n",
    "print(\"Select operation:\")\n",
    "print(\"1. Addition\")\n",
    "print(\"2. Subtraction\")\n",
    "print(\"3. Multiplication\")\n",
    "print(\"4. Division\")\n",
    "\n",
    "choice = int(input(\"Enter your choice (1-4): \"))\n",
    "\n",
    "if choice == 1:\n",
    "    result = add(num1, num2)\n",
    "    operation = \"+\"\n",
    "elif choice == 2:\n",
    "    result = subtract(num1, num2)\n",
    "    operation = \"-\"\n",
    "elif choice == 3:\n",
    "    result = multiply(num1, num2)\n",
    "    operation = \"*\"\n",
    "elif choice == 4:\n",
    "    result = divide(num1, num2)\n",
    "    operation = \"/\"\n",
    "\n",
    "print(num1, operation, num2, \"=\", result)\n"
   ]
  },
  {
   "cell_type": "code",
   "execution_count": null,
   "id": "0446b384-a4b3-4267-a4e2-79eb746ca242",
   "metadata": {},
   "outputs": [],
   "source": [
    "# NOTE\n",
    "LCM (Least Common Multiple): The LCM of two or more integers is the smallest positive integer that is divisible by each of the given integers without any remainder. It is commonly used in mathematical operations involving fractions or ratios.\n",
    "\n",
    "HCF (Highest Common Factor), also known as GCD (Greatest Common Divisor): The HCF of two or more integers is the largest positive integer that divides each of the given integers without leaving a remainder. It is commonly used in simplifying fractions and finding the simplest form of a ratio.\n",
    "\n",
    "Binary: The binary number system is a base-2 number system that uses only two digits, 0 and 1. It is widely used in computer science and digital electronics, representing information using bits (binary digits).\n",
    "\n",
    "Octal: The octal number system is a base-8 number system that uses digits from 0 to 7. It is less commonly used compared to the decimal and binary systems, but it can be useful in certain contexts such as file permissions in Unix-like operating systems.\n",
    "\n",
    "Hexadecimal: The hexadecimal number system is a base-16 number system that uses digits from 0 to 9 and letters A to F (representing values 10 to 15). It is commonly used in computer programming, especially in representing memory addresses, colors, and encoding binary data.\n",
    "\n",
    "ASCII (American Standard Code for Information Interchange): ASCII is a character encoding standard that represents characters as numeric codes. It assigns a unique number to each character, including letters, digits, punctuation marks, and control characters. It allows computers to exchange text information in a standardized way."
   ]
  }
 ],
 "metadata": {
  "kernelspec": {
   "display_name": "Python 3 (ipykernel)",
   "language": "python",
   "name": "python3"
  },
  "language_info": {
   "codemirror_mode": {
    "name": "ipython",
    "version": 3
   },
   "file_extension": ".py",
   "mimetype": "text/x-python",
   "name": "python",
   "nbconvert_exporter": "python",
   "pygments_lexer": "ipython3",
   "version": "3.10.6"
  }
 },
 "nbformat": 4,
 "nbformat_minor": 5
}

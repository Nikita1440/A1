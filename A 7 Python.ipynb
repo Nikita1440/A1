{
 "cells": [
  {
   "cell_type": "markdown",
   "id": "c46d1c0d-dbff-4f15-ba27-93d6b54fa26f",
   "metadata": {},
   "source": [
    "1. What is the name of the feature responsible for generating Regex objects?\n",
    "2. Why do raw strings often appear in Regex objects?\n",
    "3. What is the return value of the search() method?\n",
    "4. From a Match item, how do you get the actual strings that match the pattern?\n",
    "5. In the regex which created from the r&#39;(\\d\\d\\d)-(\\d\\d\\d-\\d\\d\\d\\d)&#39;, what does group zero cover?\n",
    "Group 2? Group 1?\n",
    "6. In standard expression syntax, parentheses and intervals have distinct meanings. How can you tell\n",
    "a regex that you want it to fit real parentheses and periods?\n",
    "7. The findall() method returns a string list or a list of string tuples. What causes it to return one of\n",
    "the two options?\n",
    "8. In standard expressions, what does the | character mean?\n",
    "9. In regular expressions, what does the character stand for?\n",
    "10.In regular expressions, what is the difference between the + and * characters?\n",
    "11. What is the difference between {4} and {4,5} in regular expression?\n",
    "12. What do you mean by the \\d, \\w, and \\s shorthand character classes signify in regular\n",
    "expressions?\n",
    "13. What do means by \\D, \\W, and \\S shorthand character classes signify in regular expressions?\n",
    "14. What is the difference between .*? and .*?\n",
    "15. What is the syntax for matching both numbers and lowercase letters with a character class?\n",
    "16. What is the procedure for making a normal expression in regax case insensitive?\n",
    "17. What does the . character normally match? What does it match if re.DOTALL is passed as 2nd\n",
    "argument in re.compile()?\n",
    "18. If numReg = re.compile(r&#39;\\d+&#39;), what will numRegex.sub(&#39;X&#39;, &#39;11 drummers, 10 pipers, five rings, 4\n",
    "hen&#39;) return?\n",
    "19. What does passing re.VERBOSE as the 2nd argument to re.compile() allow to do?\n",
    "20. How would you write a regex that match a number with comma for every three digits? It must\n",
    "match the given following:\n",
    "&#39;42&#39;\n",
    "&#39;1,234&#39;\n",
    "&#39;6,368,745&#39;\n",
    "\n",
    "but not the following:\n",
    "&#39;12,34,567&#39; (which has only two digits between the commas)\n",
    "&#39;1234&#39; (which lacks commas)\n",
    "21. How would you write a regex that matches the full name of someone whose last name is\n",
    "Watanabe? You can assume that the first name that comes before it will always be one word that\n",
    "begins with a capital letter. The regex must match the following:\n",
    "&#39;Haruto Watanabe&#39;\n",
    "&#39;Alice Watanabe&#39;\n",
    "&#39;RoboCop Watanabe&#39;\n",
    "but not the following:\n",
    "&#39;haruto Watanabe&#39; (where the first name is not capitalized)\n",
    "&#39;Mr. Watanabe&#39; (where the preceding word has a nonletter character)\n",
    "&#39;Watanabe&#39; (which has no first name)\n",
    "&#39;Haruto watanabe&#39; (where Watanabe is not capitalized)\n",
    "22. How would you write a regex that matches a sentence where the first word is either Alice, Bob,\n",
    "or Carol; the second word is either eats, pets, or throws; the third word is apples, cats, or baseballs;\n",
    "and the sentence ends with a period? This regex should be case-insensitive. It must match the\n",
    "following:\n",
    "&#39;Alice eats apples.&#39;\n",
    "&#39;Bob pets cats.&#39;\n",
    "&#39;Carol throws baseballs.&#39;\n",
    "&#39;Alice throws Apples.&#39;\n",
    "&#39;BOB EATS CATS.&#39;\n",
    "but not the following:\n",
    "&#39;RoboCop eats apples.&#39;\n",
    "&#39;ALICE THROWS FOOTBALLS.&#39;\n",
    "&#39;Carol eats 7 cats.&#39;\n",
    "# 1\n",
    "The feature responsible for generating Regex objects in Python is the re module. The re module provides functions and methods for working with regular expressions.\n",
    "\n",
    "# 2\n",
    "Raw strings (r\"...\") often appear in Regex objects to avoid unwanted escape sequences. In regular expressions, backslashes (\\) are used to escape special characters. However, Python also uses backslashes as escape characters in string literals. To simplify the process of writing regular expressions, raw strings are used because they treat backslashes as literal characters and prevent the interpretation of escape sequences. This allows regular expressions to be written more clearly and concisely.\n",
    "# 3 \n",
    "The search() method in Python's re module returns a match object if the pattern is found in the string being searched, and None if no match is found. The match object contains information about the match, including the matched substring, its position, and more.\n",
    "\n",
    "# 4\n",
    "To get the actual strings that match the pattern from a match object, you can use the group() method. Calling group() without any arguments returns the entire matched substring. If capturing groups are used in the regular expression pattern, you can pass a group number or a group name to group() to retrieve specific captured substrings.\n",
    "\n",
    "Example:"
   ]
  },
  {
   "cell_type": "code",
   "execution_count": 1,
   "id": "8183be1c-2035-443a-8405-a52b0b9dd93b",
   "metadata": {},
   "outputs": [
    {
     "name": "stdout",
     "output_type": "stream",
     "text": [
      "12-31-2022\n",
      "12\n",
      "31\n",
      "2022\n"
     ]
    }
   ],
   "source": [
    "import re\n",
    "\n",
    "pattern = r\"(\\d{2})-(\\d{2})-(\\d{4})\"\n",
    "text = \"Date: 12-31-2022\"\n",
    "\n",
    "match = re.search(pattern, text)\n",
    "if match:\n",
    "    print(match.group())  # Output: 12-31-2022\n",
    "    print(match.group(1))  # Output: 12\n",
    "    print(match.group(2))  # Output: 31\n",
    "    print(match.group(3))  # Output: 2022\n"
   ]
  },
  {
   "cell_type": "markdown",
   "id": "74a9d19c-702c-47f7-87da-36c11cfeac0c",
   "metadata": {},
   "source": [
    "# 5\n",
    "\n",
    "In the regex created from the r'(\\d\\d\\d)-(\\d\\d\\d-\\d\\d\\d\\d)', the group zero (group(0)) covers the entire matched substring. It represents the entire pattern match.\n",
    "Group 1 (group(1)) covers the first set of three digits surrounded by parentheses, and Group 2 (group(2)) covers the second set of three digits followed by a hyphen and four digits.\n",
    "\n",
    "# 6\n",
    "To tell a regex that you want it to match real parentheses and periods instead of interpreting them as special characters with their respective meanings, you can use the backslash (\\) to escape them. By placing a backslash before parentheses (\\( and \\)) and periods (\\.), you indicate that you want to match them literally.\n",
    "Example:\n"
   ]
  },
  {
   "cell_type": "markdown",
   "id": "8e4175f1-4a97-4b6c-b0a4-010a06755ca9",
   "metadata": {},
   "source": [
    "import re\n",
    "\n",
    "pattern = r'\\(\\d+\\.\\d+\\)'\n",
    "text = \"The coordinates are (12.345, -67.890).\"\n",
    "\n",
    "match = re.search(pattern, text)\n",
    "if match:\n",
    "    print(match.group())  # Output: (12.345)\n",
    "    \n",
    "    In the above example, the pattern r'\\(\\d+\\.\\d+\\)' is used to match a set of coordinates enclosed in parentheses. The backslashes before the parentheses and period ensure that they are treated as literal characters\n"
   ]
  },
  {
   "cell_type": "code",
   "execution_count": 5,
   "id": "13b859b8-a4bc-47c2-a170-8e53163a3a23",
   "metadata": {},
   "outputs": [
    {
     "name": "stdout",
     "output_type": "stream",
     "text": [
      "\u001b[31mERROR: Could not find a version that satisfies the requirement re (from versions: none)\u001b[0m\u001b[31m\n",
      "\u001b[0m\u001b[31mERROR: No matching distribution found for re\u001b[0m\u001b[31m\n",
      "\u001b[0m"
     ]
    }
   ],
   "source": [
    "!pip install re\n",
    "import re\n",
    "\n",
    "pattern = r'\\(\\d+\\.\\d+\\)'\n",
    "text = \"The coordinates are (12.345, -67.890).\"\n",
    "\n",
    "match = re.search(pattern, text)\n",
    "if match:\n",
    "    print(match.group())  # Output: (12.345)\n"
   ]
  },
  {
   "cell_type": "markdown",
   "id": "3ead4008-7fb2-4373-a36e-a56d374f0fb4",
   "metadata": {},
   "source": [
    "# 7\n",
    "The findall() method returns either a string list or a list of string tuples depending on whether the regular expression pattern contains capturing groups or not.\n",
    "If the pattern does not contain any capturing groups, findall() returns a string list containing all non-overlapping matches of the pattern in the input string.\n",
    "\n",
    "If the pattern contains capturing groups, findall() returns a list of string tuples. Each tuple corresponds to a match, and each element of the tuple represents the captured substring for the corresponding capturing group.\n",
    "\n",
    "# 8\n",
    "The presence of capturing groups in the pattern determines the return format of findall().\n",
    "\n",
    "In standard expressions, the | character, known as the pipe or alternation operator, signifies alternation or choice. It allows you to specify multiple alternative patterns, and it matches either the pattern on its left or the pattern on its right.\n",
    "For example, the pattern a|b will match either the letter \"a\" or the letter \"b\". It acts as a logical OR operator for the patterns. When used within parentheses, it can provide more complex alternation patterns.\n",
    "\n",
    "Example:"
   ]
  },
  {
   "cell_type": "code",
   "execution_count": 6,
   "id": "99625bd1-2dbf-4ebe-8d56-366b45afe362",
   "metadata": {},
   "outputs": [
    {
     "name": "stdout",
     "output_type": "stream",
     "text": [
      "['cat', 'dog']\n"
     ]
    }
   ],
   "source": [
    "import re\n",
    "\n",
    "pattern = r'cat|dog'\n",
    "text = \"I have a cat and a dog.\"\n",
    "\n",
    "matches = re.findall(pattern, text)\n",
    "print(matches)  # Output: ['cat', 'dog']\n"
   ]
  },
  {
   "cell_type": "markdown",
   "id": "0b4f2436-b57b-499c-ac47-7d90e207a23d",
   "metadata": {},
   "source": [
    "# 9\n",
    "In regular expressions, the . character (period or dot) is a special metacharacter that matches any character except a newline. It can be used to represent any single character in a pattern.\n",
    "\n",
    "# 10\n",
    "In regular expressions, the + and * characters are quantifiers that control the repetition of the preceding pattern.\n",
    "\n",
    "The + character matches one or more occurrences of the preceding pattern. It requires at least one occurrence of the pattern to be present for a match.\n",
    "Example:"
   ]
  },
  {
   "cell_type": "code",
   "execution_count": 7,
   "id": "aad523c9-e0f9-4e78-ba1f-c0241c246869",
   "metadata": {},
   "outputs": [
    {
     "name": "stdout",
     "output_type": "stream",
     "text": [
      "['abb', 'ab', 'abb']\n"
     ]
    }
   ],
   "source": [
    "import re\n",
    "\n",
    "pattern = r'ab+'\n",
    "text = \"abb abc abbc\"\n",
    "\n",
    "matches = re.findall(pattern, text)\n",
    "print(matches)  # Output: ['abb', 'abbc']\n"
   ]
  },
  {
   "cell_type": "code",
   "execution_count": 8,
   "id": "8b396b9c-dde3-44c3-b87a-6b4e02213cab",
   "metadata": {},
   "outputs": [
    {
     "name": "stdout",
     "output_type": "stream",
     "text": [
      "['abb', 'ab', 'abb']\n"
     ]
    }
   ],
   "source": [
    "import re\n",
    "\n",
    "pattern = r'ab*'\n",
    "text = \"abb abc abbc\"\n",
    "\n",
    "matches = re.findall(pattern, text)\n",
    "print(matches)  # Output: ['abb', 'ab', 'ab', 'abbc']\n"
   ]
  },
  {
   "cell_type": "markdown",
   "id": "c684b75c-abb9-4910-ab3d-ede6543d7eaf",
   "metadata": {},
   "source": [
    "# 11\n",
    "In regular expressions, {4} and {4,5} are quantifiers used to specify the exact number of repetitions allowed for the preceding pattern.\n",
    "{4} specifies that the preceding pattern must occur exactly four times. It matches only if the pattern repeats exactly four times.\n",
    "Example:"
   ]
  },
  {
   "cell_type": "code",
   "execution_count": 9,
   "id": "d404ecd9-697b-42f2-947d-fd4634b8a8b4",
   "metadata": {},
   "outputs": [
    {
     "name": "stdout",
     "output_type": "stream",
     "text": [
      "['1234', '5678', '9876']\n"
     ]
    }
   ],
   "source": [
    "import re\n",
    "\n",
    "pattern = r'\\d{4}'\n",
    "text = \"1234 56789 987654\"\n",
    "\n",
    "matches = re.findall(pattern, text)\n",
    "print(matches)  # Output: ['1234', '5678', '9876']\n"
   ]
  },
  {
   "cell_type": "markdown",
   "id": "0184c792-9c54-44e5-bc8c-45c89c60940d",
   "metadata": {},
   "source": [
    "# 12\n",
    "In regular expressions, the \\d, \\w, and \\s are shorthand character classes that represent commonly used character sets:\n",
    "\\d matches any digit character (equivalent to [0-9]).\n",
    "\\w matches any alphanumeric character (equivalent to [a-zA-Z0-9_]).\n",
    "\\s matches any whitespace character (including spaces, tabs, and newlines).\n",
    "Example:\n",
    "\n",
    "python"
   ]
  },
  {
   "cell_type": "code",
   "execution_count": 10,
   "id": "7c80e706-a376-4db6-ad34-461ae1e7f8d6",
   "metadata": {},
   "outputs": [
    {
     "name": "stdout",
     "output_type": "stream",
     "text": [
      "['1 a', '2 b', '3 c']\n"
     ]
    }
   ],
   "source": [
    "import re\n",
    "\n",
    "pattern = r'\\d\\s\\w'\n",
    "text = \"1 a 2 b 3 c\"\n",
    "\n",
    "matches = re.findall(pattern, text)\n",
    "print(matches)  # Output: ['1 a', '2 b', '3 c']\n"
   ]
  },
  {
   "cell_type": "markdown",
   "id": "350ccda4-6a98-4ef4-9909-988e1bf2a8f9",
   "metadata": {},
   "source": [
    "# 13\n",
    "The \\D, \\W, and \\S are negated shorthand character classes in regular expressions:\n",
    "\\D matches any non-digit character (equivalent to [^0-9]).\n",
    "\\W matches any non-alphanumeric character (equivalent to [^a-zA-Z0-9_]).\n",
    "\\S matches any non-whitespace character.\n",
    "Example:\n",
    "\n",
    "python"
   ]
  },
  {
   "cell_type": "code",
   "execution_count": 11,
   "id": "e6cb9eed-b283-4660-bbda-233d7da896cf",
   "metadata": {},
   "outputs": [
    {
     "name": "stdout",
     "output_type": "stream",
     "text": [
      "['a 2', 'b 3']\n"
     ]
    }
   ],
   "source": [
    "import re\n",
    "\n",
    "pattern = r'\\D\\W\\S'\n",
    "text = \"1 a 2 b 3 c\"\n",
    "\n",
    "matches = re.findall(pattern, text)\n",
    "print(matches)  # Output: [' a', ' b', ' c']\n"
   ]
  },
  {
   "cell_type": "markdown",
   "id": "46e38128-287f-4ada-bce3-2684f817a665",
   "metadata": {},
   "source": [
    "# 14\n",
    "The difference between .*? and .* lies in their matching behavior:\n",
    ".*? is a non-greedy or lazy quantifier. It matches as few characters as possible to satisfy the overall pattern. It will stop matching as soon as the next part of the pattern can be satisfied.\n",
    "\n",
    ".* is a greedy quantifier. It matches as many characters as possible to satisfy the overall pattern. It will continue matching until it reaches the end of the line or the next part of the pattern cannot be satisfied.\n",
    "\n",
    "Example:\n",
    "\n"
   ]
  },
  {
   "cell_type": "code",
   "execution_count": 12,
   "id": "5c5046f8-4149-403e-b8a7-464f4a556b53",
   "metadata": {},
   "outputs": [
    {
     "name": "stdout",
     "output_type": "stream",
     "text": [
      "['<tag1>', '</tag1>', '<tag2>', '</tag2>']\n"
     ]
    }
   ],
   "source": [
    "import re\n",
    "\n",
    "pattern = r'<.*?>'\n",
    "text = \"<tag1>text1</tag1><tag2>text2</tag2>\"\n",
    "\n",
    "matches = re.findall(pattern, text)\n",
    "print(matches)  # Output: ['<tag1>', '</tag1>', '<tag2>', '</tag2>']\n"
   ]
  },
  {
   "cell_type": "markdown",
   "id": "d185fad1-7992-477e-a96a-22cbf6990717",
   "metadata": {},
   "source": [
    "# 15\n",
    "expressions, you can use the range notation:\n",
    "The syntax is [0-9a-z] or [a-z0-9].\n",
    "\n",
    "Example:"
   ]
  },
  {
   "cell_type": "code",
   "execution_count": 13,
   "id": "136458c6-585a-4407-bc58-eeaadf86a74e",
   "metadata": {},
   "outputs": [
    {
     "name": "stdout",
     "output_type": "stream",
     "text": [
      "['a', '1', '2', 'c', '3']\n"
     ]
    }
   ],
   "source": [
    "import re\n",
    "\n",
    "pattern = r'[0-9a-z]'\n",
    "text = \"a1B2c3\"\n",
    "\n",
    "matches = re.findall(pattern, text)\n",
    "print(matches)  # Output: ['a', '1', '2', 'c', '3']\n"
   ]
  },
  {
   "cell_type": "markdown",
   "id": "b7f023ce-a604-48cf-a081-8ee7bed33607",
   "metadata": {},
   "source": [
    "In the above example, the pattern [0-9a-z] matches any character that is either a number (0-9) or a lowercase letter (a-z). It matches \"a\", \"1\", \"2\", \"c\", and \"3\" in the input text.\n",
    "# 16\n",
    "To make a regular expression case-insensitive, you can use the re.IGNORECASE flag or the (?i) inline flag at the beginning of the pattern.\n",
    "Using re.IGNORECASE flag:"
   ]
  },
  {
   "cell_type": "code",
   "execution_count": 14,
   "id": "bf795d05-2333-49c1-983d-eaf2d8e40c99",
   "metadata": {},
   "outputs": [
    {
     "name": "stdout",
     "output_type": "stream",
     "text": [
      "['Apple']\n"
     ]
    }
   ],
   "source": [
    "import re\n",
    "\n",
    "pattern = r'apple'\n",
    "text = \"I like Apples\"\n",
    "\n",
    "matches = re.findall(pattern, text, re.IGNORECASE)\n",
    "print(matches)  # Output: ['Apples']\n"
   ]
  },
  {
   "cell_type": "code",
   "execution_count": 15,
   "id": "ccae1c5e-3195-4f16-9d10-7e5f672aeaef",
   "metadata": {},
   "outputs": [
    {
     "name": "stdout",
     "output_type": "stream",
     "text": [
      "['Apple']\n"
     ]
    }
   ],
   "source": [
    "import re\n",
    "\n",
    "pattern = r'(?i)apple'\n",
    "text = \"I like Apples\"\n",
    "\n",
    "matches = re.findall(pattern, text)\n",
    "print(matches)  # Output: ['Apples']\n"
   ]
  },
  {
   "cell_type": "markdown",
   "id": "58065198-7334-4b91-a28b-919b407066a4",
   "metadata": {},
   "source": [
    "In both cases, the pattern apple is matched in a case-insensitive manner, so it matches both \"apple\" and \"Apples\" in the input text.\n",
    "# 17\n",
    "The . (dot) character in regular expressions normally matches any character except a newline (\\n). However, if re.DOTALL flag is passed as the second argument in re.compile(), then the dot also matches a newline character.\n",
    "Example:\n",
    " the above example, the pattern . matches all characters except newlines in the first case. In the second case, with re.DOTALL flag, the pattern . matches every character including the newline character (\\n)."
   ]
  },
  {
   "cell_type": "code",
   "execution_count": 16,
   "id": "cdeaf082-914c-4742-b7db-363bbf02633b",
   "metadata": {},
   "outputs": [
    {
     "name": "stdout",
     "output_type": "stream",
     "text": [
      "['H', 'e', 'l', 'l', 'o', 'W', 'o', 'r', 'l', 'd']\n",
      "['H', 'e', 'l', 'l', 'o', '\\n', 'W', 'o', 'r', 'l', 'd']\n"
     ]
    }
   ],
   "source": [
    "import re\n",
    "\n",
    "pattern = r'.'\n",
    "text = \"Hello\\nWorld\"\n",
    "\n",
    "matches = re.findall(pattern, text)\n",
    "print(matches)  # Output: ['H', 'e', 'l', 'l', 'o', 'W', 'o', 'r', 'l', 'd']\n",
    "\n",
    "pattern_dotall = re.compile(pattern, re.DOTALL)\n",
    "matches_dotall = pattern_dotall.findall(text)\n",
    "print(matches_dotall)  # Output: ['H', 'e', 'l', 'l', 'o', '\\n', 'W', 'o', 'r', 'l', 'd']\n"
   ]
  },
  {
   "cell_type": "markdown",
   "id": "8474b97f-ecb1-4ef5-88fb-6c1cd261f658",
   "metadata": {},
   "source": [
    "# 18 \n",
    "If numRegex = re.compile(r'\\d+'), the expression numRegex.sub('X', '11 drummers, 10 pipers, five rings, 4 hens') will return the string 'X drummers, X pipers, five rings, X hens'.\n",
    "Explanation: The sub() method of a compiled regular expression replaces all occurrences of the pattern with the specified replacement string. In this case, the pattern \\d+ matches one or more digits. The sub() method replaces all occurrences of the pattern with the string 'X'. So, all the numbers in the input string are replaced with 'X', resulting in the modified string 'X drummers, X pipers, five rings, X hens'.\n",
    "\n",
    "Passing re.VERBOSE as the second argument to re.compile() allows you to include whitespace and comments within the regular expression pattern for better readability. It enables the use of multiline patterns and adds comments to explain the different parts of the pattern.\n",
    "Example:\n",
    "If numRegex = re.compile(r'\\d+'), the expression numRegex.sub('X', '11 drummers, 10 pipers, five rings, 4 hens') will return the string 'X drummers, X pipers, five rings, X hens'.\n",
    "Explanation: The sub() method of a compiled regular expression replaces all occurrences of the pattern with the specified replacement string. In this case, the pattern \\d+ matches one or more digits. The sub() method replaces all occurrences of the pattern with the string 'X'. So, all the numbers in the input string are replaced with 'X', resulting in the modified string 'X drummers, X pipers, five rings, X hens'.\n",
    "# 19\n",
    "Passing re.VERBOSE as the second argument to re.compile() allows you to include whitespace and comments within the regular expression pattern for better readability. It enables the use of multiline patterns and adds comments to explain the different parts of the pattern.\n",
    "Example:\n",
    "\n",
    "\n",
    "\n",
    "\n",
    "\n",
    "\n",
    "\n",
    "\n",
    "\n",
    "\n",
    "\n",
    "\n",
    "\n",
    "\n",
    "In the above example, re.VERBOSE flag is passed as the second argument to re.compile(), allowing the use of whitespace and comments within the pattern. The pattern is written in a more readable and understandable way. It matches sequences of digits followed by whitespace and word characters in the input text. The resulting matches are ['42 apples', '10 oranges']."
   ]
  },
  {
   "cell_type": "code",
   "execution_count": 18,
   "id": "30487edf-eb18-4571-9323-3288b0afd133",
   "metadata": {},
   "outputs": [
    {
     "name": "stdout",
     "output_type": "stream",
     "text": [
      "['42 apples', '10 oranges']\n"
     ]
    }
   ],
   "source": [
    "import re\n",
    "\n",
    "pattern = r'''\n",
    "    \\d+  # Match one or more digits\n",
    "    \\s   # Match a whitespace character\n",
    "    \\w+  # Match one or more word characters\n",
    "'''\n",
    "\n",
    "text = \"42 apples, 10 oranges\"\n",
    "\n",
    "compiled_pattern = re.compile(pattern, re.VERBOSE)\n",
    "matches = compiled_pattern.findall(text)\n",
    "print(matches)  # Output: ['42 apples', '10 oranges']\n"
   ]
  },
  {
   "cell_type": "markdown",
   "id": "a55d8887-34b2-459d-b438-41024aa72f39",
   "metadata": {},
   "source": [
    "# 20\n",
    "Explanation:\n",
    "\n",
    "^ matches the start of the string.\n",
    "\\d{1,3} matches one to three digits at the beginning.\n",
    "(,\\d{3})* matches zero or more occurrences of a comma followed by exactly three digits.\n",
    "$ matches the end of the string.\n",
    "The pattern ensures that the number starts with one to three digits, followed by zero or more occurrences of a comma and three digits, and the pattern must cover the entire string."
   ]
  },
  {
   "cell_type": "code",
   "execution_count": 19,
   "id": "225e4fe8-edbf-4d1a-b27b-56329398995a",
   "metadata": {},
   "outputs": [
    {
     "name": "stdout",
     "output_type": "stream",
     "text": [
      "42 is a valid number\n",
      "1,234 is a valid number\n",
      "6,368,745 is a valid number\n",
      "12,34,567 is not a valid number\n",
      "1234 is not a valid number\n"
     ]
    }
   ],
   "source": [
    "import re\n",
    "\n",
    "pattern = r'^\\d{1,3}(,\\d{3})*$'\n",
    "\n",
    "numbers = ['42', '1,234', '6,368,745', '12,34,567', '1234']\n",
    "\n",
    "for number in numbers:\n",
    "    if re.match(pattern, number):\n",
    "        print(f\"{number} is a valid number\")\n",
    "    else:\n",
    "        print(f\"{number} is not a valid number\")\n"
   ]
  },
  {
   "cell_type": "markdown",
   "id": "87dd66f8-7e76-493b-983b-a72711fc4cc1",
   "metadata": {},
   "source": [
    "# 21\n",
    "To match the full name of someone whose last name is Watanabe, with the assumption that the first name is one word starting with a capital letter, you can use the following regular expression:\n",
    "\n",
    "\n",
    "\n",
    "\n",
    "\n",
    "\n",
    "\n",
    "\n",
    "\n",
    "\n",
    "\n",
    "\n",
    "Explanation:\n",
    "\n",
    "^ matches the start of the string.\n",
    "[A-Z] matches a capital letter (first letter of the first name).\n",
    "[a-zA-Z]* matches zero or more lowercase or uppercase letters (rest of the first name).\n",
    "matches a space character.\n",
    "Watanabe matches the string \"Watanabe\".\n",
    "$ matches the end of the string.\n",
    "The pattern ensures that the name starts with a capitalized first name, followed by a space and the last name \"Watanabe\", and the pattern must cover the entire string."
   ]
  },
  {
   "cell_type": "code",
   "execution_count": 20,
   "id": "7f936dcf-c54a-4943-a812-c7f82d03ea88",
   "metadata": {},
   "outputs": [
    {
     "name": "stdout",
     "output_type": "stream",
     "text": [
      "Haruto Watanabe is a valid full name\n",
      "Alice Watanabe is a valid full name\n",
      "RoboCop Watanabe is a valid full name\n",
      "haruto Watanabe is not a valid full name\n",
      "Mr. Watanabe is not a valid full name\n",
      "Watanabe is not a valid full name\n",
      "Haruto watanabe is not a valid full name\n"
     ]
    }
   ],
   "source": [
    "import re\n",
    "\n",
    "pattern = r'^[A-Z][a-zA-Z]* Watanabe$'\n",
    "\n",
    "names = ['Haruto Watanabe', 'Alice Watanabe', 'RoboCop Watanabe', 'haruto Watanabe', 'Mr. Watanabe', 'Watanabe', 'Haruto watanabe']\n",
    "\n",
    "for name in names:\n",
    "    if re.match(pattern, name):\n",
    "        print(f\"{name} is a valid full name\")\n",
    "    else:\n",
    "        print(f\"{name} is not a valid full name\")\n"
   ]
  },
  {
   "cell_type": "code",
   "execution_count": null,
   "id": "f9e01965-e4d3-4113-b868-b83fbc3b1c78",
   "metadata": {},
   "outputs": [],
   "source": []
  }
 ],
 "metadata": {
  "kernelspec": {
   "display_name": "Python 3 (ipykernel)",
   "language": "python",
   "name": "python3"
  },
  "language_info": {
   "codemirror_mode": {
    "name": "ipython",
    "version": 3
   },
   "file_extension": ".py",
   "mimetype": "text/x-python",
   "name": "python",
   "nbconvert_exporter": "python",
   "pygments_lexer": "ipython3",
   "version": "3.10.6"
  }
 },
 "nbformat": 4,
 "nbformat_minor": 5
}

{
 "cells": [
  {
   "cell_type": "markdown",
   "id": "00582a77-71b7-427b-a6f4-e970fb6bacbb",
   "metadata": {},
   "source": [
    "1. Make a class called Thing with no contents and print it. Then, create an object called example\n",
    "from this class and also print it. Are the printed values the same or different?\n",
    "2. Create a new class called Thing2 and add the value &#39;abc&#39; to the letters class attribute. Letters\n",
    "should be printed.\n",
    "3. Make yet another class called, of course, Thing3. This time, assign the value &#39;xyz&#39; to an instance\n",
    "(object) attribute called letters. Print letters. Do you need to make an object from the class to do\n",
    "this?\n",
    "4. Create an Element class with the instance attributes name, symbol, and number. Create a class\n",
    "object with the values &#39;Hydrogen,&#39; &#39;H,&#39; and 1.\n",
    "5. Make a dictionary with these keys and values: &#39;name&#39;: &#39;Hydrogen&#39;, &#39;symbol&#39;: &#39;H&#39;, &#39;number&#39;: 1. Then,\n",
    "create an object called hydrogen from class Element using this dictionary.\n",
    "6. For the Element class, define a method called dump() that prints the values of the object’s\n",
    "attributes (name, symbol, and number). Create the hydrogen object from this new definition and\n",
    "use dump() to print its attributes.\n",
    "7. Call print(hydrogen). In the definition of Element, change the name of method dump to __str__,\n",
    "create a new hydrogen object, and call print(hydrogen) again.\n",
    "8. Modify Element to make the attributes name, symbol, and number private. Define a getter\n",
    "property for each to return its value.\n",
    "9. Define three classes: Bear, Rabbit, and Octothorpe. For each, define only one method: eats(). This\n",
    "should return &#39;berries&#39; (Bear), &#39;clover&#39; (Rabbit), or &#39;campers&#39; (Octothorpe). Create one object from\n",
    "each and print what it eats.\n",
    "10. Define these classes: Laser, Claw, and SmartPhone. Each has only one method: does(). This\n",
    "returns &#39;disintegrate&#39; (Laser), &#39;crush&#39; (Claw), or &#39;ring&#39; (SmartPhone). Then, define the class Robot that\n",
    "has one instance (object) of each of these. Define a does() method for the Robot that prints what its\n",
    "component objects do."
   ]
  },
  {
   "cell_type": "code",
   "execution_count": 2,
   "id": "20b370ef-2a8f-47a4-9dc5-71d097e0297c",
   "metadata": {},
   "outputs": [
    {
     "name": "stdout",
     "output_type": "stream",
     "text": [
      "<class '__main__.Thing'>\n",
      "<__main__.Thing object at 0x7f625c523a30>\n"
     ]
    }
   ],
   "source": [
    "# ANSWER 1\n",
    "class Thing:\n",
    "    pass\n",
    "\n",
    "thing = Thing()\n",
    "print(Thing)\n",
    "print(thing)\n"
   ]
  },
  {
   "cell_type": "code",
   "execution_count": 3,
   "id": "00696166-038e-42b5-b598-8332b07ef178",
   "metadata": {},
   "outputs": [
    {
     "name": "stdout",
     "output_type": "stream",
     "text": [
      "abc\n"
     ]
    }
   ],
   "source": [
    "# ANSWER 2\n",
    "class Thing2:\n",
    "    letters = 'abc'\n",
    "\n",
    "print(Thing2.letters)\n"
   ]
  },
  {
   "cell_type": "code",
   "execution_count": 4,
   "id": "e0f9728f-2f1b-4283-ac2c-ce959d37a1c0",
   "metadata": {},
   "outputs": [
    {
     "name": "stdout",
     "output_type": "stream",
     "text": [
      "xyz\n"
     ]
    },
    {
     "data": {
      "text/plain": [
       "'YES WE NEED TO CREATE OBJECT TO DO THIS '"
      ]
     },
     "execution_count": 4,
     "metadata": {},
     "output_type": "execute_result"
    }
   ],
   "source": [
    "# ANSWER 3\n",
    "class Thing3:\n",
    "    def __init__(self):\n",
    "        self.letters = 'xyz'\n",
    "\n",
    "thing = Thing3()\n",
    "print(thing.letters)\n",
    "\"\"\"YES WE NEED TO CREATE OBJECT TO DO THIS \"\"\"\n"
   ]
  },
  {
   "cell_type": "code",
   "execution_count": 5,
   "id": "3388a197-8195-4a92-a46a-36209d6008a4",
   "metadata": {},
   "outputs": [],
   "source": [
    "# ANSWER 4\n",
    "class Element:\n",
    "    def __init__(self, name, symbol, number):\n",
    "        self.name = name\n",
    "        self.symbol = symbol\n",
    "        self.number = number\n",
    "\n",
    "element = Element('Hydrogen', 'H', 1)\n"
   ]
  },
  {
   "cell_type": "code",
   "execution_count": 6,
   "id": "3de005b0-38aa-4390-89fb-9761a7313516",
   "metadata": {},
   "outputs": [
    {
     "name": "stdout",
     "output_type": "stream",
     "text": [
      "Hydrogen\n",
      "H\n",
      "1\n"
     ]
    }
   ],
   "source": [
    "print(element.name)\n",
    "print(element.symbol)\n",
    "print(element.number)"
   ]
  },
  {
   "cell_type": "code",
   "execution_count": 7,
   "id": "6de8d8a3-06f1-4715-9b20-df5a896dd167",
   "metadata": {},
   "outputs": [],
   "source": [
    "# ANSWER 5\n",
    "element_dict = {'name': 'Hydrogen', 'symbol': 'H', 'number': 1}\n",
    "\n",
    "hydrogen = Element(**element_dict)"
   ]
  },
  {
   "cell_type": "code",
   "execution_count": 8,
   "id": "774d60f2-12bc-4aff-8ab4-7d59ab19829a",
   "metadata": {},
   "outputs": [
    {
     "name": "stdout",
     "output_type": "stream",
     "text": [
      "Hydrogen\n",
      "H\n",
      "1\n"
     ]
    }
   ],
   "source": [
    "print(hydrogen.name)\n",
    "print(hydrogen.symbol)\n",
    "print(hydrogen.number)\n"
   ]
  },
  {
   "cell_type": "code",
   "execution_count": 13,
   "id": "8f721a30-d9b4-4049-a657-ad7297311991",
   "metadata": {},
   "outputs": [
    {
     "name": "stdout",
     "output_type": "stream",
     "text": [
      "Name: Hydrogen\n",
      "Symbol: H\n",
      "Number: 1\n"
     ]
    }
   ],
   "source": [
    "# ANSWER 6\n",
    "class Element:\n",
    "    def __init__(self, name, symbol, number):\n",
    "        self.name = name\n",
    "        self.symbol = symbol\n",
    "        self.number = number\n",
    "\n",
    "    def dump(self):\n",
    "        print(f\"Name: {self.name}\")\n",
    "        print(f\"Symbol: {self.symbol}\")\n",
    "        print(f\"Number: {self.number}\")\n",
    "\n",
    "hydrogen = Element('Hydrogen', 'H', 1)\n",
    "hydrogen.dump()\n"
   ]
  },
  {
   "cell_type": "code",
   "execution_count": 20,
   "id": "c31c3ef6-78e0-4c68-996c-61fea29547b7",
   "metadata": {},
   "outputs": [
    {
     "name": "stdout",
     "output_type": "stream",
     "text": [
      "Element: Hydrogen (H) - Atomic Number: 1\n"
     ]
    }
   ],
   "source": [
    "#ANSWER 7\n",
    "class Element:\n",
    "    def __init__(self, name, symbol, number):\n",
    "        self.name = name\n",
    "        self.symbol = symbol\n",
    "        self.number = number\n",
    "\n",
    "    def dump(self):\n",
    "        print(f\"Name: {self.name}\")\n",
    "        print(f\"Symbol: {self.symbol}\")\n",
    "        print(f\"Number: {self.number}\")\n",
    "\n",
    "    def __str__(self):\n",
    "        return f\"Element: {self.name} ({self.symbol}) - Atomic Number: {self.number}\"\n",
    "\n",
    "hydrogen = Element('Hydrogen', 'H', 1)\n",
    "print(hydrogen)\n"
   ]
  },
  {
   "cell_type": "code",
   "execution_count": 21,
   "id": "ff0dc19f-5399-4e2a-9dea-80a422046dc7",
   "metadata": {},
   "outputs": [],
   "source": [
    "#ANSWER 8\n",
    "#ANSWER 8\n",
    "class Element:\n",
    "    def __init__(self, name, symbol, number):\n",
    "        self.__name = name\n",
    "        self.__symbol = symbol\n",
    "        self.__number = number\n",
    "\n",
    "    @property\n",
    "    def name(self):\n",
    "        return self.__name\n",
    "\n",
    "    @property\n",
    "    def symbol(self):\n",
    "        return self.__symbol\n",
    "\n",
    "    @property\n",
    "    def number(self):\n",
    "        return self.__number\n",
    "\n",
    "    def dump(self):\n",
    "        print(f\"Name: {self.name}\")\n",
    "        print(f\"Symbol: {self.symbol}\")\n",
    "        print(f\"Number: {self.number}\")\n",
    "\n",
    "    def __str__(self):\n",
    "        return f\"Element: {self.name} ({self.symbol}) - Atomic Number: {self.number}\"\n"
   ]
  },
  {
   "cell_type": "code",
   "execution_count": 22,
   "id": "c7b5dd48-86cd-43e0-bae6-c85504a7df25",
   "metadata": {},
   "outputs": [
    {
     "name": "stdout",
     "output_type": "stream",
     "text": [
      "Hydrogen\n",
      "H\n",
      "1\n"
     ]
    }
   ],
   "source": [
    "hydrogen = Element('Hydrogen', 'H', 1)\n",
    "print(hydrogen.name)   # Accessing the name attribute using the getter property\n",
    "print(hydrogen.symbol) # Accessing the symbol attribute using the getter property\n",
    "print(hydrogen.number) # Accessing the number attribute using the getter property\n",
    "\n"
   ]
  },
  {
   "cell_type": "code",
   "execution_count": 23,
   "id": "ccce90fd-7559-4adc-a6ab-024611e2d51a",
   "metadata": {},
   "outputs": [
    {
     "name": "stdout",
     "output_type": "stream",
     "text": [
      "berries\n",
      "clover\n",
      "campers\n"
     ]
    }
   ],
   "source": [
    "#ANSWER 9\n",
    "class Bear:\n",
    "    def eats(self):\n",
    "        return 'berries'\n",
    "\n",
    "class Rabbit:\n",
    "    def eats(self):\n",
    "        return 'clover'\n",
    "\n",
    "class Octothorpe:\n",
    "    def eats(self):\n",
    "        return 'campers'\n",
    "\n",
    "bear = Bear()\n",
    "rabbit = Rabbit()\n",
    "octothorpe = Octothorpe()\n",
    "\n",
    "print(bear.eats())       # Output: berries\n",
    "print(rabbit.eats())     # Output: clover\n",
    "print(octothorpe.eats()) # Output: campers\n"
   ]
  },
  {
   "cell_type": "code",
   "execution_count": 24,
   "id": "631f296a-fcdb-4821-8bf6-3da99b00e071",
   "metadata": {},
   "outputs": [
    {
     "name": "stdout",
     "output_type": "stream",
     "text": [
      "Robot components:\n",
      "Laser does: disintegrate\n",
      "Claw does: crush\n",
      "SmartPhone does: ring\n"
     ]
    }
   ],
   "source": [
    "#ANSWER 10\n",
    "class Laser:\n",
    "    def does(self):\n",
    "        return 'disintegrate'\n",
    "\n",
    "class Claw:\n",
    "    def does(self):\n",
    "        return 'crush'\n",
    "\n",
    "class SmartPhone:\n",
    "    def does(self):\n",
    "        return 'ring'\n",
    "\n",
    "class Robot:\n",
    "    def __init__(self):\n",
    "        self.laser = Laser()\n",
    "        self.claw = Claw()\n",
    "        self.smartphone = SmartPhone()\n",
    "\n",
    "    def does(self):\n",
    "        print(\"Robot components:\")\n",
    "        print(f\"Laser does: {self.laser.does()}\")\n",
    "        print(f\"Claw does: {self.claw.does()}\")\n",
    "        print(f\"SmartPhone does: {self.smartphone.does()}\")\n",
    "\n",
    "robot = Robot()\n",
    "robot.does()\n"
   ]
  },
  {
   "cell_type": "code",
   "execution_count": null,
   "id": "4f84e692-7036-459f-8540-0db10237b075",
   "metadata": {},
   "outputs": [],
   "source": []
  }
 ],
 "metadata": {
  "kernelspec": {
   "display_name": "Python 3 (ipykernel)",
   "language": "python",
   "name": "python3"
  },
  "language_info": {
   "codemirror_mode": {
    "name": "ipython",
    "version": 3
   },
   "file_extension": ".py",
   "mimetype": "text/x-python",
   "name": "python",
   "nbconvert_exporter": "python",
   "pygments_lexer": "ipython3",
   "version": "3.10.6"
  }
 },
 "nbformat": 4,
 "nbformat_minor": 5
}

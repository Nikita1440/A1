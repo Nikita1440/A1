{
 "cells": [
  {
   "cell_type": "markdown",
   "id": "fdcc06d2-f59f-4b34-a0b0-fe2992e37e6d",
   "metadata": {},
   "source": [
    "1) . What is the difference between enclosing a list comprehension in square brackets and\n",
    "parentheses?\n",
    "2) What is the relationship between generators and iterators?\n",
    "3) What are the signs that a function is a generator function?\n",
    "4) What is the purpose of a yield statement?\n",
    "5) What is the relationship between map calls and list comprehensions? Make a comparison and\n",
    "contrast between the two.\n",
    "\n",
    "# 1\n",
    "The difference between enclosing a list comprehension in square brackets ([]) and parentheses (()) lies in the resulting object:\n",
    "Square brackets: Enclosing a list comprehension in square brackets creates a new list object. It evaluates the expression and generates a new list by iterating over the input sequence. The result is a list containing the computed values.\n",
    "Example:"
   ]
  },
  {
   "cell_type": "code",
   "execution_count": 1,
   "id": "3700fef5-775e-43fb-af0d-10d7501bf381",
   "metadata": {},
   "outputs": [
    {
     "name": "stdout",
     "output_type": "stream",
     "text": [
      "[0, 1, 4, 9, 16]\n"
     ]
    }
   ],
   "source": [
    "squares = [x**2 for x in range(5)]  # List comprehension\n",
    "print(squares)  # Output: [0, 1, 4, 9, 16]\n"
   ]
  },
  {
   "cell_type": "markdown",
   "id": "84b634c0-ee57-4060-a826-490dfbd27afb",
   "metadata": {},
   "source": [
    "Parentheses: Enclosing a list comprehension in parentheses, also known as a generator comprehension or generator expression, creates a generator object. It behaves similarly to a list comprehension, but instead of generating the entire list at once, it generates values on-the-fly as they are needed. This saves memory and is more efficient when dealing with large sequences.\n",
    "Example:\n",
    "python"
   ]
  },
  {
   "cell_type": "code",
   "execution_count": 2,
   "id": "8170553a-acca-47a9-b151-7919b2f3afb0",
   "metadata": {},
   "outputs": [
    {
     "name": "stdout",
     "output_type": "stream",
     "text": [
      "<generator object <genexpr> at 0x7f150311b920>\n"
     ]
    }
   ],
   "source": [
    "squares_generator = (x**2 for x in range(5))  # Generator comprehension\n",
    "print(squares_generator)  # Output: <generator object <genexpr> at 0x000001234567890>\n"
   ]
  },
  {
   "cell_type": "markdown",
   "id": "3ccc466a-4013-4cf7-8407-1e97c8bfecd3",
   "metadata": {},
   "source": [
    "# 2\n",
    "Generators and iterators are closely related concepts:\n",
    "Generators: A generator is a type of iterable that generates a sequence of values dynamically, on-demand. It is implemented using a special kind of function called a generator function, which uses the yield statement to yield values one at a time. Generators are memory-efficient and suitable for handling large or infinite sequences of data.\n",
    "\n",
    "Iterators: An iterator is an object that represents a stream of data and provides a way to traverse that data. Iterators must implement the __iter__() and __next__() methods. Generators are a type of iterator, but not all iterators are generators. Iterators can be created using classes or by defining custom objects that implement the required iterator methods.\n",
    "\n",
    "In summary, generators are a specific type of iterator that uses generator functions and the yield statement to produce values lazily, whereas iterators, in general, can be implemented using various techniques and provide a way to traverse a sequence of data.\n",
    "\n",
    "# 3\n",
    "A function is considered a generator function if it contains the yield statement. The presence of the yield statement indicates that the function will generate a sequence of values and can be used as an iterator. Generator functions are defined using the def keyword like regular functions, but they have one or more yield statements instead of a return statement.\n",
    "Example of a generator function:"
   ]
  },
  {
   "cell_type": "code",
   "execution_count": 3,
   "id": "b22eb145-abaa-4a4d-8e55-0c2b31042cf9",
   "metadata": {},
   "outputs": [],
   "source": [
    "def count_up_to(n):\n",
    "    i = 0\n",
    "    while i <= n:\n",
    "        yield i\n",
    "        i += 1\n"
   ]
  },
  {
   "cell_type": "code",
   "execution_count": null,
   "id": "307fc826-d0e0-4894-b21d-7ac1655734d0",
   "metadata": {},
   "outputs": [],
   "source": []
  }
 ],
 "metadata": {
  "kernelspec": {
   "display_name": "Python 3 (ipykernel)",
   "language": "python",
   "name": "python3"
  },
  "language_info": {
   "codemirror_mode": {
    "name": "ipython",
    "version": 3
   },
   "file_extension": ".py",
   "mimetype": "text/x-python",
   "name": "python",
   "nbconvert_exporter": "python",
   "pygments_lexer": "ipython3",
   "version": "3.10.6"
  }
 },
 "nbformat": 4,
 "nbformat_minor": 5
}

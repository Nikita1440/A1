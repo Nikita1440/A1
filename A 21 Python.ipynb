{
 "cells": [
  {
   "cell_type": "markdown",
   "id": "eae31bd0-b347-439d-af8a-5340cdd11de7",
   "metadata": {},
   "source": [
    "1. Add the current date to the text file today.txt as a string.\n",
    "2. Read the text file today.txt into the string today_string\n",
    "3. Parse the date from today_string.\n",
    "4. List the files in your current directory\n",
    "5. Create a list of all of the files in your parent directory (minimum five files should be available).\n",
    "6. Use multiprocessing to create three separate processes. Make each one wait a random number of\n",
    "seconds between one and five, print the current time, and then exit.\n",
    "7. Create a date object of your day of birth.\n",
    "8. What day of the week was your day of birth?\n",
    "9. When will you be (or when were you) 10,000 days old?"
   ]
  },
  {
   "cell_type": "code",
   "execution_count": 1,
   "id": "ce1dd015-4819-4689-9e52-9dc85874f550",
   "metadata": {},
   "outputs": [],
   "source": [
    "#ANSWER 1\n",
    "\n",
    "from datetime import date\n",
    "\n",
    "# Get the current date\n",
    "current_date = date.today()\n",
    "\n",
    "# Convert the date to a string\n",
    "date_string = current_date.strftime(\"%d/%m/%Y\")\n",
    "\n",
    "# Write the date string to the file\n",
    "with open(\"today.txt\", \"w\") as file:\n",
    "    file.write(date_string)\n"
   ]
  },
  {
   "cell_type": "code",
   "execution_count": 2,
   "id": "2c80025d-4a89-4945-ba6f-1476bfa48e9a",
   "metadata": {},
   "outputs": [
    {
     "name": "stdout",
     "output_type": "stream",
     "text": [
      "21/06/2023\n"
     ]
    }
   ],
   "source": [
    "#ANSWER 2\n",
    "with open(\"today.txt\", \"r\") as file:\n",
    "    today_string = file.read()\n",
    "\n",
    "print(today_string)\n"
   ]
  },
  {
   "cell_type": "code",
   "execution_count": 3,
   "id": "31e9b124-911d-4f86-ac48-48f51f23073e",
   "metadata": {},
   "outputs": [
    {
     "name": "stdout",
     "output_type": "stream",
     "text": [
      "2023-06-21\n"
     ]
    }
   ],
   "source": [
    "#ANSWER 3\n",
    "from datetime import datetime\n",
    "\n",
    "date_format = \"%d/%m/%Y\"\n",
    "parsed_date = datetime.strptime(today_string.strip(), date_format).date()\n",
    "\n",
    "print(parsed_date)\n"
   ]
  },
  {
   "cell_type": "code",
   "execution_count": 4,
   "id": "241f651d-3c2c-44e4-b104-b8f18510cb00",
   "metadata": {},
   "outputs": [
    {
     "name": "stdout",
     "output_type": "stream",
     "text": [
      "README.md\n",
      "test.txt\n",
      "A 7 Python.ipynb\n",
      "sample-code.ipynb\n",
      ".git\n",
      "A 21 Python.ipynb\n",
      "Untitled1.ipynb\n",
      "A 19 Python.ipynb\n",
      "books.db\n",
      "Untitled.ipynb\n",
      ".ipynb_checkpoints\n",
      "today.txt\n",
      "books.csv\n",
      "A 20 Python.ipynb\n"
     ]
    }
   ],
   "source": [
    "#ANSWER 4\n",
    "import os\n",
    "\n",
    "# Get the current directory\n",
    "current_directory = os.getcwd()\n",
    "\n",
    "# List the files in the current directory\n",
    "files = os.listdir(current_directory)\n",
    "\n",
    "# Print the file names\n",
    "for file in files:\n",
    "    print(file)\n"
   ]
  },
  {
   "cell_type": "code",
   "execution_count": 5,
   "id": "d62dc6f3-6da2-4dc7-ba97-589313ef9fe9",
   "metadata": {},
   "outputs": [
    {
     "name": "stdout",
     "output_type": "stream",
     "text": [
      ".profile\n",
      ".bash_logout\n",
      ".bashrc\n",
      ".wget-hsts\n"
     ]
    }
   ],
   "source": [
    "#ANSWER 5\n",
    "import os\n",
    "\n",
    "# Get the parent directory\n",
    "parent_directory = os.path.abspath(os.path.join(os.getcwd(), os.pardir))\n",
    "\n",
    "# List the files in the parent directory\n",
    "files = [file for file in os.listdir(parent_directory) if os.path.isfile(os.path.join(parent_directory, file))]\n",
    "\n",
    "# Print the file names\n",
    "for file in files:\n",
    "    print(file)\n"
   ]
  },
  {
   "cell_type": "code",
   "execution_count": 6,
   "id": "1a555984-ac65-40da-8bde-3d710584ab9d",
   "metadata": {},
   "outputs": [
    {
     "name": "stdout",
     "output_type": "stream",
     "text": [
      "Process ID: 477, Current Time: 08:04:09\n",
      "Process ID: 479, Current Time: 08:04:09\n",
      "Process ID: 478, Current Time: 08:04:11\n"
     ]
    }
   ],
   "source": [
    "#ANSWER 6\n",
    "import multiprocessing\n",
    "import time\n",
    "import random\n",
    "from datetime import datetime\n",
    "\n",
    "def process_function():\n",
    "    wait_time = random.randint(1, 5)\n",
    "    time.sleep(wait_time)\n",
    "    current_time = datetime.now().strftime(\"%H:%M:%S\")\n",
    "    print(f\"Process ID: {multiprocessing.current_process().pid}, Current Time: {current_time}\")\n",
    "\n",
    "if __name__ == \"__main__\":\n",
    "    processes = []\n",
    "    for _ in range(3):\n",
    "        process = multiprocessing.Process(target=process_function)\n",
    "        process.start()\n",
    "        processes.append(process)\n",
    "\n",
    "    for process in processes:\n",
    "        process.join()\n"
   ]
  },
  {
   "cell_type": "code",
   "execution_count": 7,
   "id": "527b3202-0754-4420-8eed-39d4f7dfa4d8",
   "metadata": {},
   "outputs": [
    {
     "name": "stdout",
     "output_type": "stream",
     "text": [
      "1990-09-15\n"
     ]
    }
   ],
   "source": [
    "#ANSWER 7\n",
    "from datetime import date\n",
    "\n",
    "# Specify your day of birth\n",
    "birth_year = 1990\n",
    "birth_month = 9\n",
    "birth_day = 15\n",
    "\n",
    "# Create a date object\n",
    "birth_date = date(birth_year, birth_month, birth_day)\n",
    "\n",
    "print(birth_date)\n"
   ]
  },
  {
   "cell_type": "code",
   "execution_count": 8,
   "id": "26cf4abd-1ce4-4300-a78a-1ab0cc87d98b",
   "metadata": {},
   "outputs": [
    {
     "name": "stdout",
     "output_type": "stream",
     "text": [
      "Saturday\n"
     ]
    }
   ],
   "source": [
    "#ANSWER 8\n",
    "from datetime import date\n",
    "\n",
    "# Specify your day of birth\n",
    "birth_year = 1990\n",
    "birth_month = 9\n",
    "birth_day = 15\n",
    "\n",
    "# Create a date object\n",
    "birth_date = date(birth_year, birth_month, birth_day)\n",
    "\n",
    "# Get the day of the week\n",
    "day_of_week = birth_date.strftime(\"%A\")\n",
    "\n",
    "print(day_of_week)\n"
   ]
  },
  {
   "cell_type": "code",
   "execution_count": 9,
   "id": "e36a2fad-db80-44e3-9c29-1d22cc0425dd",
   "metadata": {},
   "outputs": [
    {
     "name": "stdout",
     "output_type": "stream",
     "text": [
      "2018-01-31\n"
     ]
    }
   ],
   "source": [
    "#ANSER 9\n",
    "from datetime import date, timedelta\n",
    "\n",
    "# Specify your date of birth\n",
    "birth_year = 1990\n",
    "birth_month = 9\n",
    "birth_day = 15\n",
    "\n",
    "# Create a date object for your birthdate\n",
    "birth_date = date(birth_year, birth_month, birth_day)\n",
    "\n",
    "# Calculate the target date\n",
    "target_date = birth_date + timedelta(days=10000)\n",
    "\n",
    "print(target_date)\n"
   ]
  },
  {
   "cell_type": "code",
   "execution_count": null,
   "id": "7fe21cb1-4fd4-4949-83f2-0c2a12343b16",
   "metadata": {},
   "outputs": [],
   "source": []
  }
 ],
 "metadata": {
  "kernelspec": {
   "display_name": "Python 3 (ipykernel)",
   "language": "python",
   "name": "python3"
  },
  "language_info": {
   "codemirror_mode": {
    "name": "ipython",
    "version": 3
   },
   "file_extension": ".py",
   "mimetype": "text/x-python",
   "name": "python",
   "nbconvert_exporter": "python",
   "pygments_lexer": "ipython3",
   "version": "3.10.6"
  }
 },
 "nbformat": 4,
 "nbformat_minor": 5
}

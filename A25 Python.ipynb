{
 "cells": [
  {
   "cell_type": "markdown",
   "id": "8952c4df",
   "metadata": {},
   "source": [
    "1. What is the relationship between def statements and lambda expressions ?\n",
    "2. What is the benefit of lambda?\n",
    "3. Compare and contrast map, filter, and reduce.\n",
    "4. What are function annotations, and how are they used?\n",
    "5. What are recursive functions, and how are they used?\n",
    "6. What are some general design guidelines for coding functions?\n",
    "7. Name three or more ways that functions can communicate results to a caller."
   ]
  },
  {
   "cell_type": "markdown",
   "id": "d18ca97a",
   "metadata": {},
   "source": [
    "1. def is also used to write a function with represents defining a function and lambda is also used to write a function but we can write a function in one line using lambda( in short form)"
   ]
  },
  {
   "cell_type": "code",
   "execution_count": 2,
   "id": "938244a6",
   "metadata": {},
   "outputs": [
    {
     "name": "stdout",
     "output_type": "stream",
     "text": [
      " Odd numbers in the list : \n",
      " [1, 3, 5, 7, 9, 11]\n"
     ]
    }
   ],
   "source": [
    "#2. We can write function in very short form i.e; just one line using lambda. A lambda function is an anonymous function, which means it is a function without a name.\n",
    "myList = [1, 2, 3, 4, 5, 6, 7, 8, 9, 10, 11] \n",
    "# lambda function \n",
    "odd_nos = list(filter(lambda a: (a % 2 != 0), myList))\n",
    "print(\" Odd numbers in the list : \\n\", odd_nos) "
   ]
  },
  {
   "cell_type": "markdown",
   "id": "fc9a2f20",
   "metadata": {},
   "source": [
    "3.The map() function\n",
    "map() is used to apply a given function to each element of an iterable and return an iterable of results in the same order. map() takes a function and iterable(s) (e.g. list, tuple) as the second argument that is passed sequentially to the function.\n",
    "The filter() function\n",
    "filter() is a function that creates an iterable from an old one by matching every element in the new iterable to a predicate that returns a Boolean value. filter() takes two arguments.\n",
    "The reduce() function\n",
    "reduce() is a function that folds or reduces an iterable into a single value. reduce() takes two arguments.\n",
    "\n",
    "Map takes all objects in a list and allows you to apply a function to it whereas Filter takes all objects in a list and runs that through a function to create a new list with all objects that return True in that function. Hence, knowing the functionality and using it accordingly is important as both the functions have very minute difference in there functionality.\n",
    "\n",
    "\n"
   ]
  },
  {
   "cell_type": "markdown",
   "id": "f671d2a4",
   "metadata": {},
   "source": [
    "4.Function annotations are arbitrary python expressions that are associated with various part of functions. These expressions are evaluated at compile time and have no life in python’s runtime environment. Python does not attach any meaning to these annotations. They take life when interpreted by third party libraries, for example, mypy.\n",
    "\n",
    "Purpose of function annotations:\n",
    "The benefits from function annotations can only be reaped via third party libraries. The type of benefits depends upon the type of the library."
   ]
  },
  {
   "cell_type": "code",
   "execution_count": 3,
   "id": "4aae2fd8",
   "metadata": {},
   "outputs": [
    {
     "data": {
      "text/plain": [
       "'5. Python also accepts function recursion, which means a defined function can call itself.\\n\\nRecursion is a common mathematical and programming concept. It means that a function calls itself. This has the benefit of meaning that you can loop through data to reach a result.'"
      ]
     },
     "execution_count": 3,
     "metadata": {},
     "output_type": "execute_result"
    }
   ],
   "source": [
    "\"\"\"5. Python also accepts function recursion, which means a defined function can call itself.\n",
    "\n",
    "Recursion is a common mathematical and programming concept. It means that a function calls itself. This has the benefit of meaning that you can loop through data to reach a result.\"\"\""
   ]
  },
  {
   "cell_type": "code",
   "execution_count": 4,
   "id": "4921fe07",
   "metadata": {},
   "outputs": [
    {
     "name": "stdout",
     "output_type": "stream",
     "text": [
      "\n",
      "\n",
      "Recursion Example Results\n",
      "1\n",
      "3\n",
      "6\n",
      "10\n",
      "15\n",
      "21\n"
     ]
    },
    {
     "data": {
      "text/plain": [
       "21"
      ]
     },
     "execution_count": 4,
     "metadata": {},
     "output_type": "execute_result"
    }
   ],
   "source": [
    "def tri_recursion(k):\n",
    "  if(k>0):\n",
    "    result = k+tri_recursion(k-1)\n",
    "    print(result)\n",
    "  else:\n",
    "    result = 0\n",
    "  return result\n",
    "\n",
    "print(\"\\n\\nRecursion Example Results\")\n",
    "tri_recursion(6)\n"
   ]
  },
  {
   "cell_type": "markdown",
   "id": "61d668f3",
   "metadata": {},
   "source": [
    "6 \n",
    "\n",
    "Limited use of globals:\n",
    "These rules tell about which types of data that can be declared global and the data that can’t be.\n",
    "\n",
    "\n",
    "Standard headers for different modules:\n",
    "For better understanding and maintenance of the code, the header of different modules should follow some standard format and information. The header format must contain below things that is being used in various companies:\n",
    "Name of the module\n",
    "Date of module creation\n",
    "Author of the module\n",
    "Modification history\n",
    "Synopsis of the module about what the module does\n",
    "Different functions supported in the module along with their input output parameters\n",
    "Global variables accessed or modified by the module\n",
    "\n",
    "\n",
    "Naming conventions for local variables, global variables, constants and functions:\n",
    "Some of the naming conventions are given below:\n",
    "Meaningful and understandable variables name helps anyone to understand the reason of using it.\n",
    "Local variables should be named using camel case lettering starting with small letter (e.g. localData) whereas Global variables names should start with a capital letter (e.g. GlobalData). Constant names should be formed using capital letters only (e.g. CONSDATA).\n",
    "It is better to avoid the use of digits in variable names.\n",
    "The names of the function should be written in camel case starting with small letters.\n",
    "The name of the function must describe the reason of using the function clearly and briefly.\n",
    "\n",
    "\n",
    "Indentation:\n",
    "Proper indentation is very important to increase the readability of the code. For making the code readable, programmers should use White spaces properly. Some of the spacing conventions are given below:\n",
    "There must be a space after giving a comma between two function arguments.\n",
    "Each nested block should be properly indented and spaced.\n",
    "Proper Indentation should be there at the beginning and at the end of each block in the program.\n",
    "All braces should start from a new line and the code following the end of braces also start from a new line.\n",
    "\n",
    "\n",
    "Error return values and exception handling conventions:\n",
    "All functions that encountering an error condition should either return a 0 or 1 for simplifying the debugging.\n",
    "\n",
    "On the other hand, Coding guidelines give some general suggestions regarding the coding style that to be followed for the betterment of understandability and readability of the code. Some of the coding guidelines are given below :\n",
    "\n",
    "\n",
    "\n",
    "Avoid using a coding style that is too difficult to understand:\n",
    "Code should be easily understandable. The complex code makes maintenance and debugging difficult and expensive.\n",
    "\n",
    "\n",
    "Avoid using an identifier for multiple purposes:\n",
    "Each variable should be given a descriptive and meaningful name indicating the reason behind using it. This is not possible if an identifier is used for multiple purposes and thus it can lead to confusion to the reader. Moreover, it leads to more difficulty during future enhancements.\n",
    "\n",
    "\n",
    "Code should be well documented:\n",
    "The code should be properly commented for understanding easily. Comments regarding the statements increase the understandability of the code.\n",
    "\n",
    "\n",
    "Length of functions should not be very large:\n",
    "Lengthy functions are very difficult to understand. That’s why functions should be small enough to carry out small work and lengthy functions should be broken into small ones for completing small tasks.\n",
    "\n",
    "\n",
    "Try not to use GOTO statement:\n",
    "GOTO statement makes the program unstructured, thus it reduces the understandability of the program and also debugging becomes difficult.\n",
    "\n",
    "\n",
    "Advantages of Coding Guidelines:\n",
    "\n",
    "Coding guidelines increase the efficiency of the software and reduces the development time.\n",
    "Coding guidelines help in detecting errors in the early phases, so it helps to reduce the extra cost incurred by the software project.\n",
    "If coding guidelines are maintained properly, then the software code increases readability and understandability thus it reduces the complexity of the code.\n",
    "It reduces the hidden cost for developing the software."
   ]
  },
  {
   "cell_type": "markdown",
   "id": "4b9e7723",
   "metadata": {},
   "source": [
    "7. There are three types of functions in Python:\n",
    "\n",
    "Built-in functions, such as help() to ask for help, min() to get the minimum value, print() to print an object to the terminal.\n",
    "\n",
    "User-Defined Functions (UDFs), which are functions that users create to help them out; And\n",
    "\n",
    "Anonymous functions, which are also called lambda functions because they are not declared with the standard def keyword."
   ]
  },
  {
   "cell_type": "code",
   "execution_count": null,
   "id": "46d61bca",
   "metadata": {},
   "outputs": [],
   "source": []
  }
 ],
 "metadata": {
  "kernelspec": {
   "display_name": "Python 3 (ipykernel)",
   "language": "python",
   "name": "python3"
  },
  "language_info": {
   "codemirror_mode": {
    "name": "ipython",
    "version": 3
   },
   "file_extension": ".py",
   "mimetype": "text/x-python",
   "name": "python",
   "nbconvert_exporter": "python",
   "pygments_lexer": "ipython3",
   "version": "3.9.12"
  }
 },
 "nbformat": 4,
 "nbformat_minor": 5
}

{
 "cells": [
  {
   "cell_type": "markdown",
   "id": "cc4a2595-e0f3-41b7-9aeb-9914d494dfd2",
   "metadata": {},
   "source": [
    "1. Write a Python Program to Display Fibonacci Sequence Using Recursion?\n",
    "2. Write a Python Program to Find Factorial of Number Using Recursion?\n",
    "3. Write a Python Program to calculate your Body Mass Index?\n",
    "4. Write a Python Program to calculate the natural logarithm of any number?\n",
    "5. Write a Python Program for cube sum of first n natural numbers?\n",
    "\n",
    "# NOTE- RECURSION\n",
    "Recursion is a programming concept where a function calls itself to solve a problem by breaking it down into smaller, similar subproblems. It involves solving a problem by solving smaller instances of the same problem until a base case is reached.\n",
    "\n",
    "Here's an example to illustrate recursion. Let's consider the factorial function, which calculates the factorial of a given number. The factorial of a non-negative integer n is denoted by n! and is the product of all positive integers less than or equal to n.\n",
    "\n",
    "python\n",
    "Copy code\n",
    "def factorial(n):\n",
    "    if n == 0:\n",
    "        return 1\n",
    "    else:\n",
    "        return n * factorial(n - 1)\n",
    "In this example, the factorial function calls itself with a smaller value (n - 1) until it reaches the base case where n is 0. The base case provides the terminating condition for the recursion.\n",
    "\n",
    "Important points about recursion:\n",
    "\n",
    "Recursive functions must have a base case that defines when the recursion should stop. Without a base case, the function may enter an infinite loop.\n",
    "Each recursive call should simplify the problem by reducing its size or complexity. This ensures that the function converges towards the base case.\n",
    "Recursive functions consist of two parts: the base case and the recursive step.\n",
    "Recursion can be a powerful technique for solving problems that exhibit repetitive structures.\n",
    "Recursive algorithms can be easy to understand and implement for certain problems but may have performance implications for large input sizes.\n",
    "Tail recursion is a special case where the recursive call is the last operation in the function. It allows some programming languages to optimize recursion and avoid excessive stack usage.\n",
    "MCQ or one-liner statements related to recursion could include questions about the concept, understanding recursive functions, identifying the base case, analyzing the complexity of recursive algorithms, or spotting tail recursion optimizations."
   ]
  },
  {
   "cell_type": "code",
   "execution_count": 1,
   "id": "54c3a703-ce03-4c4b-b780-a04871ed7e6b",
   "metadata": {},
   "outputs": [],
   "source": [
    "# EXAMPLE\n",
    "def factorial(n):\n",
    "    if n == 0:\n",
    "        return 1\n",
    "    else:\n",
    "        return n * factorial(n - 1)\n"
   ]
  },
  {
   "cell_type": "code",
   "execution_count": 2,
   "id": "873af2cf-29d1-47b3-8edc-857aa8a533e4",
   "metadata": {},
   "outputs": [
    {
     "name": "stdout",
     "output_type": "stream",
     "text": [
      "Fibonacci sequence:\n",
      "0\n",
      "1\n",
      "1\n",
      "2\n",
      "3\n",
      "5\n",
      "8\n",
      "13\n",
      "21\n",
      "34\n"
     ]
    }
   ],
   "source": [
    "#!\n",
    "def fibonacci(n):\n",
    "    if n <= 1:\n",
    "        return n\n",
    "    else:\n",
    "        return fibonacci(n-1) + fibonacci(n-2)\n",
    "\n",
    "# Change the value of 'terms' to adjust the number of terms in the sequence\n",
    "terms = 10\n",
    "\n",
    "if terms <= 0:\n",
    "    print(\"Number of terms should be positive.\")\n",
    "else:\n",
    "    print(\"Fibonacci sequence:\")\n",
    "    for i in range(terms):\n",
    "        print(fibonacci(i))\n"
   ]
  },
  {
   "cell_type": "code",
   "execution_count": 3,
   "id": "29ebd43a-6563-4440-a73e-eec5b255a0a9",
   "metadata": {},
   "outputs": [
    {
     "name": "stdout",
     "output_type": "stream",
     "text": [
      "The factorial of 5 is 120.\n"
     ]
    }
   ],
   "source": [
    "#2\n",
    "def factorial(n):\n",
    "    if n == 0:\n",
    "        return 1\n",
    "    else:\n",
    "        return n * factorial(n-1)\n",
    "\n",
    "# Change the value of 'num' to find factorial for a different number\n",
    "num = 5\n",
    "\n",
    "if num < 0:\n",
    "    print(\"Factorial is not defined for negative numbers.\")\n",
    "else:\n",
    "    result = factorial(num)\n",
    "    print(f\"The factorial of {num} is {result}.\")\n"
   ]
  },
  {
   "cell_type": "code",
   "execution_count": 13,
   "id": "90c18151-3619-44b8-84cc-567391ef6883",
   "metadata": {},
   "outputs": [
    {
     "name": "stdin",
     "output_type": "stream",
     "text": [
      "Enter your weight in kilograms:  68\n",
      "Enter your height in meters:  1.64\n"
     ]
    },
    {
     "name": "stdout",
     "output_type": "stream",
     "text": [
      "Your Body Mass Index (BMI) is: 25.282569898869724\n"
     ]
    }
   ],
   "source": [
    "#3\n",
    "def calculate_bmi(weight, height):\n",
    "    bmi = weight / (height ** 2)\n",
    "    return bmi\n",
    "\n",
    "weight = float(input(\"Enter your weight in kilograms: \"))\n",
    "height = float(input(\"Enter your height in meters: \"))\n",
    "\n",
    "bmi = calculate_bmi(weight, height)\n",
    "print(\"Your Body Mass Index (BMI) is:\", bmi)\n"
   ]
  },
  {
   "cell_type": "code",
   "execution_count": 14,
   "id": "5943f6b0-7f90-468c-b032-ba32cc7ed278",
   "metadata": {},
   "outputs": [
    {
     "name": "stdin",
     "output_type": "stream",
     "text": [
      "Enter a number:  55\n"
     ]
    },
    {
     "name": "stdout",
     "output_type": "stream",
     "text": [
      "The natural logarithm of 55.0 is: 4.007333185232471\n"
     ]
    }
   ],
   "source": [
    "#4\n",
    "import math\n",
    "\n",
    "number = float(input(\"Enter a number: \"))\n",
    "logarithm = math.log(number)\n",
    "\n",
    "print(\"The natural logarithm of\", number, \"is:\", logarithm)\n"
   ]
  },
  {
   "cell_type": "code",
   "execution_count": null,
   "id": "f4fdc447-1d31-4c5f-a2f6-94748b9347ab",
   "metadata": {},
   "outputs": [],
   "source": [
    "#5\n",
    "def cube_sum(n):\n",
    "    sum_of_cubes = (n * (n + 1) // 2) ** 2\n",
    "    return sum_of_cubes\n",
    "\n",
    "n = int(input(\"Enter a positive integer: \"))\n",
    "\n",
    "if n <= 0:\n",
    "    print(\"Please enter a positive integer.\")\n",
    "else:\n",
    "    result = cube_sum(n)\n",
    "    print(\"The cube sum of the first\", n, \"natural numbers is:\", result)\n"
   ]
  },
  {
   "cell_type": "code",
   "execution_count": null,
   "id": "8db66801-bb56-4d29-b3c3-3d4d32ccc9f2",
   "metadata": {},
   "outputs": [],
   "source": []
  }
 ],
 "metadata": {
  "kernelspec": {
   "display_name": "Python 3 (ipykernel)",
   "language": "python",
   "name": "python3"
  },
  "language_info": {
   "codemirror_mode": {
    "name": "ipython",
    "version": 3
   },
   "file_extension": ".py",
   "mimetype": "text/x-python",
   "name": "python",
   "nbconvert_exporter": "python",
   "pygments_lexer": "ipython3",
   "version": "3.10.6"
  }
 },
 "nbformat": 4,
 "nbformat_minor": 5
}

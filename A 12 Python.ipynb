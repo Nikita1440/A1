{
 "cells": [
  {
   "cell_type": "markdown",
   "id": "fa0dee45",
   "metadata": {},
   "source": [
    "1. In what modes should the PdfFileReader() and PdfFileWriter() File objects will be opened?\n",
    "2. From a PdfFileReader object, how do you get a Page object for page 5?\n",
    "3. What PdfFileReader variable stores the number of pages in the PDF document?\n",
    "4. If a PdfFileReader object’s PDF is encrypted with the password swordfish, what must you do\n",
    "before you can obtain Page objects from it?\n",
    "5. What methods do you use to rotate a page?\n",
    "6. What is the difference between a Run object and a Paragraph object?\n",
    "7. How do you obtain a list of Paragraph objects for a Document object that’s stored in a variable\n",
    "named doc?\n",
    "8. What type of object has bold, underline, italic, strike, and outline variables?\n",
    "9. What is the difference between False, True, and None for the bold variable?\n",
    "10. How do you create a Document object for a new Word document?\n",
    "11. How do you add a paragraph with the text &#39;Hello, there!&#39; to a Document object stored in a\n",
    "variable named doc?\n",
    "12. What integers represent the levels of headings available in Word documents?\n",
    "\n",
    "\n",
    "\n",
    " 1. Read mode and Write mode respectively"
   ]
  },
  {
   "cell_type": "code",
   "execution_count": 2,
   "id": "dd418bb2",
   "metadata": {},
   "outputs": [
    {
     "ename": "DeprecationError",
     "evalue": "PdfFileReader is deprecated and was removed in PyPDF2 3.0.0. Use PdfReader instead.",
     "output_type": "error",
     "traceback": [
      "\u001b[1;31m---------------------------------------------------------------------------\u001b[0m",
      "\u001b[1;31mDeprecationError\u001b[0m                          Traceback (most recent call last)",
      "Cell \u001b[1;32mIn[2], line 4\u001b[0m\n\u001b[0;32m      1\u001b[0m \u001b[38;5;28;01mfrom\u001b[39;00m \u001b[38;5;21;01mPyPDF2\u001b[39;00m \u001b[38;5;28;01mimport\u001b[39;00m PdfFileReader\n\u001b[0;32m      3\u001b[0m \u001b[38;5;28;01mwith\u001b[39;00m \u001b[38;5;28mopen\u001b[39m(\u001b[38;5;124m'\u001b[39m\u001b[38;5;124mKuby Immunology(4th edition) ( PDFDrive.com ).pdf\u001b[39m\u001b[38;5;124m'\u001b[39m, \u001b[38;5;124m'\u001b[39m\u001b[38;5;124mrb\u001b[39m\u001b[38;5;124m'\u001b[39m) \u001b[38;5;28;01mas\u001b[39;00m file:\n\u001b[1;32m----> 4\u001b[0m     pdf_reader \u001b[38;5;241m=\u001b[39m \u001b[43mPdfFileReader\u001b[49m\u001b[43m(\u001b[49m\u001b[43mfile\u001b[49m\u001b[43m)\u001b[49m\n\u001b[0;32m      5\u001b[0m     page_number \u001b[38;5;241m=\u001b[39m \u001b[38;5;241m4\u001b[39m  \u001b[38;5;66;03m# Page 5 (index 4)\u001b[39;00m\n\u001b[0;32m      6\u001b[0m     page \u001b[38;5;241m=\u001b[39m pdf_reader\u001b[38;5;241m.\u001b[39mgetPage(page_number)\n",
      "File \u001b[1;32m~\\anaconda3\\lib\\site-packages\\PyPDF2\\_reader.py:1974\u001b[0m, in \u001b[0;36mPdfFileReader.__init__\u001b[1;34m(self, *args, **kwargs)\u001b[0m\n\u001b[0;32m   1973\u001b[0m \u001b[38;5;28;01mdef\u001b[39;00m \u001b[38;5;21m__init__\u001b[39m(\u001b[38;5;28mself\u001b[39m, \u001b[38;5;241m*\u001b[39margs: Any, \u001b[38;5;241m*\u001b[39m\u001b[38;5;241m*\u001b[39mkwargs: Any) \u001b[38;5;241m-\u001b[39m\u001b[38;5;241m>\u001b[39m \u001b[38;5;28;01mNone\u001b[39;00m:\n\u001b[1;32m-> 1974\u001b[0m     \u001b[43mdeprecation_with_replacement\u001b[49m\u001b[43m(\u001b[49m\u001b[38;5;124;43m\"\u001b[39;49m\u001b[38;5;124;43mPdfFileReader\u001b[39;49m\u001b[38;5;124;43m\"\u001b[39;49m\u001b[43m,\u001b[49m\u001b[43m \u001b[49m\u001b[38;5;124;43m\"\u001b[39;49m\u001b[38;5;124;43mPdfReader\u001b[39;49m\u001b[38;5;124;43m\"\u001b[39;49m\u001b[43m,\u001b[49m\u001b[43m \u001b[49m\u001b[38;5;124;43m\"\u001b[39;49m\u001b[38;5;124;43m3.0.0\u001b[39;49m\u001b[38;5;124;43m\"\u001b[39;49m\u001b[43m)\u001b[49m\n\u001b[0;32m   1975\u001b[0m     \u001b[38;5;28;01mif\u001b[39;00m \u001b[38;5;124m\"\u001b[39m\u001b[38;5;124mstrict\u001b[39m\u001b[38;5;124m\"\u001b[39m \u001b[38;5;129;01mnot\u001b[39;00m \u001b[38;5;129;01min\u001b[39;00m kwargs \u001b[38;5;129;01mand\u001b[39;00m \u001b[38;5;28mlen\u001b[39m(args) \u001b[38;5;241m<\u001b[39m \u001b[38;5;241m2\u001b[39m:\n\u001b[0;32m   1976\u001b[0m         kwargs[\u001b[38;5;124m\"\u001b[39m\u001b[38;5;124mstrict\u001b[39m\u001b[38;5;124m\"\u001b[39m] \u001b[38;5;241m=\u001b[39m \u001b[38;5;28;01mTrue\u001b[39;00m  \u001b[38;5;66;03m# maintain the default\u001b[39;00m\n",
      "File \u001b[1;32m~\\anaconda3\\lib\\site-packages\\PyPDF2\\_utils.py:369\u001b[0m, in \u001b[0;36mdeprecation_with_replacement\u001b[1;34m(old_name, new_name, removed_in)\u001b[0m\n\u001b[0;32m    363\u001b[0m \u001b[38;5;28;01mdef\u001b[39;00m \u001b[38;5;21mdeprecation_with_replacement\u001b[39m(\n\u001b[0;32m    364\u001b[0m     old_name: \u001b[38;5;28mstr\u001b[39m, new_name: \u001b[38;5;28mstr\u001b[39m, removed_in: \u001b[38;5;28mstr\u001b[39m \u001b[38;5;241m=\u001b[39m \u001b[38;5;124m\"\u001b[39m\u001b[38;5;124m3.0.0\u001b[39m\u001b[38;5;124m\"\u001b[39m\n\u001b[0;32m    365\u001b[0m ) \u001b[38;5;241m-\u001b[39m\u001b[38;5;241m>\u001b[39m \u001b[38;5;28;01mNone\u001b[39;00m:\n\u001b[0;32m    366\u001b[0m     \u001b[38;5;124;03m\"\"\"\u001b[39;00m\n\u001b[0;32m    367\u001b[0m \u001b[38;5;124;03m    Raise an exception that a feature was already removed, but has a replacement.\u001b[39;00m\n\u001b[0;32m    368\u001b[0m \u001b[38;5;124;03m    \"\"\"\u001b[39;00m\n\u001b[1;32m--> 369\u001b[0m     \u001b[43mdeprecation\u001b[49m\u001b[43m(\u001b[49m\u001b[43mDEPR_MSG_HAPPENED\u001b[49m\u001b[38;5;241;43m.\u001b[39;49m\u001b[43mformat\u001b[49m\u001b[43m(\u001b[49m\u001b[43mold_name\u001b[49m\u001b[43m,\u001b[49m\u001b[43m \u001b[49m\u001b[43mremoved_in\u001b[49m\u001b[43m,\u001b[49m\u001b[43m \u001b[49m\u001b[43mnew_name\u001b[49m\u001b[43m)\u001b[49m\u001b[43m)\u001b[49m\n",
      "File \u001b[1;32m~\\anaconda3\\lib\\site-packages\\PyPDF2\\_utils.py:351\u001b[0m, in \u001b[0;36mdeprecation\u001b[1;34m(msg)\u001b[0m\n\u001b[0;32m    350\u001b[0m \u001b[38;5;28;01mdef\u001b[39;00m \u001b[38;5;21mdeprecation\u001b[39m(msg: \u001b[38;5;28mstr\u001b[39m) \u001b[38;5;241m-\u001b[39m\u001b[38;5;241m>\u001b[39m \u001b[38;5;28;01mNone\u001b[39;00m:\n\u001b[1;32m--> 351\u001b[0m     \u001b[38;5;28;01mraise\u001b[39;00m DeprecationError(msg)\n",
      "\u001b[1;31mDeprecationError\u001b[0m: PdfFileReader is deprecated and was removed in PyPDF2 3.0.0. Use PdfReader instead."
     ]
    }
   ],
   "source": [
    "\n",
    "from PyPDF2 import PdfFileReader\n",
    "\n",
    "with open('Kuby Immunology(4th edition) ( PDFDrive.com ).pdf', 'rb') as file:\n",
    "    pdf_reader = PdfFileReader(file)\n",
    "    page_number = 4  # Page 5 (index 4)\n",
    "    page = pdf_reader.getPage(page_number)\n",
    "    # Perform operations with the Page object\n"
   ]
  },
  {
   "cell_type": "code",
   "execution_count": 8,
   "id": "c6aafc68",
   "metadata": {},
   "outputs": [],
   "source": [
    "from PyPDF2 import PdfReader\n",
    "\n",
    "with open('Kuby Immunology(4th edition) ( PDFDrive.com ).pdf', 'rb') as file:\n",
    "    pdf_reader = PdfReader(file)\n",
    "    page_number = 6  # Page 7 (index 6)\n",
    "    page = pdf_reader.pages[page_number]\n",
    "    # Perform operations with the Page object\n"
   ]
  },
  {
   "cell_type": "code",
   "execution_count": 9,
   "id": "281369b8",
   "metadata": {},
   "outputs": [
    {
     "ename": "DeprecationError",
     "evalue": "PdfFileReader is deprecated and was removed in PyPDF2 3.0.0. Use PdfReader instead.",
     "output_type": "error",
     "traceback": [
      "\u001b[1;31m---------------------------------------------------------------------------\u001b[0m",
      "\u001b[1;31mDeprecationError\u001b[0m                          Traceback (most recent call last)",
      "Cell \u001b[1;32mIn[9], line 4\u001b[0m\n\u001b[0;32m      1\u001b[0m \u001b[38;5;28;01mfrom\u001b[39;00m \u001b[38;5;21;01mPyPDF2\u001b[39;00m \u001b[38;5;28;01mimport\u001b[39;00m PdfFileReader\n\u001b[0;32m      3\u001b[0m \u001b[38;5;28;01mwith\u001b[39;00m \u001b[38;5;28mopen\u001b[39m(\u001b[38;5;124m'\u001b[39m\u001b[38;5;124mKuby Immunology(4th edition) ( PDFDrive.com ).pdf\u001b[39m\u001b[38;5;124m'\u001b[39m, \u001b[38;5;124m'\u001b[39m\u001b[38;5;124mrb\u001b[39m\u001b[38;5;124m'\u001b[39m) \u001b[38;5;28;01mas\u001b[39;00m file:\n\u001b[1;32m----> 4\u001b[0m     pdf_reader \u001b[38;5;241m=\u001b[39m \u001b[43mPdfFileReader\u001b[49m\u001b[43m(\u001b[49m\u001b[43mfile\u001b[49m\u001b[43m)\u001b[49m\n\u001b[0;32m      5\u001b[0m     num_pages \u001b[38;5;241m=\u001b[39m pdf_reader\u001b[38;5;241m.\u001b[39mnumPages\n\u001b[0;32m      6\u001b[0m     \u001b[38;5;28mprint\u001b[39m(\u001b[38;5;124mf\u001b[39m\u001b[38;5;124m\"\u001b[39m\u001b[38;5;124mThe PDF document contains \u001b[39m\u001b[38;5;132;01m{\u001b[39;00mnum_pages\u001b[38;5;132;01m}\u001b[39;00m\u001b[38;5;124m pages.\u001b[39m\u001b[38;5;124m\"\u001b[39m)\n",
      "File \u001b[1;32m~\\anaconda3\\lib\\site-packages\\PyPDF2\\_reader.py:1974\u001b[0m, in \u001b[0;36mPdfFileReader.__init__\u001b[1;34m(self, *args, **kwargs)\u001b[0m\n\u001b[0;32m   1973\u001b[0m \u001b[38;5;28;01mdef\u001b[39;00m \u001b[38;5;21m__init__\u001b[39m(\u001b[38;5;28mself\u001b[39m, \u001b[38;5;241m*\u001b[39margs: Any, \u001b[38;5;241m*\u001b[39m\u001b[38;5;241m*\u001b[39mkwargs: Any) \u001b[38;5;241m-\u001b[39m\u001b[38;5;241m>\u001b[39m \u001b[38;5;28;01mNone\u001b[39;00m:\n\u001b[1;32m-> 1974\u001b[0m     \u001b[43mdeprecation_with_replacement\u001b[49m\u001b[43m(\u001b[49m\u001b[38;5;124;43m\"\u001b[39;49m\u001b[38;5;124;43mPdfFileReader\u001b[39;49m\u001b[38;5;124;43m\"\u001b[39;49m\u001b[43m,\u001b[49m\u001b[43m \u001b[49m\u001b[38;5;124;43m\"\u001b[39;49m\u001b[38;5;124;43mPdfReader\u001b[39;49m\u001b[38;5;124;43m\"\u001b[39;49m\u001b[43m,\u001b[49m\u001b[43m \u001b[49m\u001b[38;5;124;43m\"\u001b[39;49m\u001b[38;5;124;43m3.0.0\u001b[39;49m\u001b[38;5;124;43m\"\u001b[39;49m\u001b[43m)\u001b[49m\n\u001b[0;32m   1975\u001b[0m     \u001b[38;5;28;01mif\u001b[39;00m \u001b[38;5;124m\"\u001b[39m\u001b[38;5;124mstrict\u001b[39m\u001b[38;5;124m\"\u001b[39m \u001b[38;5;129;01mnot\u001b[39;00m \u001b[38;5;129;01min\u001b[39;00m kwargs \u001b[38;5;129;01mand\u001b[39;00m \u001b[38;5;28mlen\u001b[39m(args) \u001b[38;5;241m<\u001b[39m \u001b[38;5;241m2\u001b[39m:\n\u001b[0;32m   1976\u001b[0m         kwargs[\u001b[38;5;124m\"\u001b[39m\u001b[38;5;124mstrict\u001b[39m\u001b[38;5;124m\"\u001b[39m] \u001b[38;5;241m=\u001b[39m \u001b[38;5;28;01mTrue\u001b[39;00m  \u001b[38;5;66;03m# maintain the default\u001b[39;00m\n",
      "File \u001b[1;32m~\\anaconda3\\lib\\site-packages\\PyPDF2\\_utils.py:369\u001b[0m, in \u001b[0;36mdeprecation_with_replacement\u001b[1;34m(old_name, new_name, removed_in)\u001b[0m\n\u001b[0;32m    363\u001b[0m \u001b[38;5;28;01mdef\u001b[39;00m \u001b[38;5;21mdeprecation_with_replacement\u001b[39m(\n\u001b[0;32m    364\u001b[0m     old_name: \u001b[38;5;28mstr\u001b[39m, new_name: \u001b[38;5;28mstr\u001b[39m, removed_in: \u001b[38;5;28mstr\u001b[39m \u001b[38;5;241m=\u001b[39m \u001b[38;5;124m\"\u001b[39m\u001b[38;5;124m3.0.0\u001b[39m\u001b[38;5;124m\"\u001b[39m\n\u001b[0;32m    365\u001b[0m ) \u001b[38;5;241m-\u001b[39m\u001b[38;5;241m>\u001b[39m \u001b[38;5;28;01mNone\u001b[39;00m:\n\u001b[0;32m    366\u001b[0m     \u001b[38;5;124;03m\"\"\"\u001b[39;00m\n\u001b[0;32m    367\u001b[0m \u001b[38;5;124;03m    Raise an exception that a feature was already removed, but has a replacement.\u001b[39;00m\n\u001b[0;32m    368\u001b[0m \u001b[38;5;124;03m    \"\"\"\u001b[39;00m\n\u001b[1;32m--> 369\u001b[0m     \u001b[43mdeprecation\u001b[49m\u001b[43m(\u001b[49m\u001b[43mDEPR_MSG_HAPPENED\u001b[49m\u001b[38;5;241;43m.\u001b[39;49m\u001b[43mformat\u001b[49m\u001b[43m(\u001b[49m\u001b[43mold_name\u001b[49m\u001b[43m,\u001b[49m\u001b[43m \u001b[49m\u001b[43mremoved_in\u001b[49m\u001b[43m,\u001b[49m\u001b[43m \u001b[49m\u001b[43mnew_name\u001b[49m\u001b[43m)\u001b[49m\u001b[43m)\u001b[49m\n",
      "File \u001b[1;32m~\\anaconda3\\lib\\site-packages\\PyPDF2\\_utils.py:351\u001b[0m, in \u001b[0;36mdeprecation\u001b[1;34m(msg)\u001b[0m\n\u001b[0;32m    350\u001b[0m \u001b[38;5;28;01mdef\u001b[39;00m \u001b[38;5;21mdeprecation\u001b[39m(msg: \u001b[38;5;28mstr\u001b[39m) \u001b[38;5;241m-\u001b[39m\u001b[38;5;241m>\u001b[39m \u001b[38;5;28;01mNone\u001b[39;00m:\n\u001b[1;32m--> 351\u001b[0m     \u001b[38;5;28;01mraise\u001b[39;00m DeprecationError(msg)\n",
      "\u001b[1;31mDeprecationError\u001b[0m: PdfFileReader is deprecated and was removed in PyPDF2 3.0.0. Use PdfReader instead."
     ]
    }
   ],
   "source": [
    "from PyPDF2 import PdfFileReader\n",
    "\n",
    "with open('Kuby Immunology(4th edition) ( PDFDrive.com ).pdf', 'rb') as file:\n",
    "    pdf_reader = PdfFileReader(file)\n",
    "    num_pages = pdf_reader.numPages\n",
    "    print(f\"The PDF document contains {num_pages} pages.\")\n"
   ]
  },
  {
   "cell_type": "code",
   "execution_count": 16,
   "id": "3f90ef82",
   "metadata": {},
   "outputs": [
    {
     "name": "stdout",
     "output_type": "stream",
     "text": [
      "Requirement already satisfied: pdfrw in c:\\users\\nikit\\anaconda3\\lib\\site-packages (0.4)\n",
      "The PDF document contains 560 pages.\n"
     ]
    }
   ],
   "source": [
    "!pip install pdfrw\n",
    "import pdfrw\n",
    "\n",
    "pdf = pdfrw.PdfReader('Kuby Immunology(4th edition) ( PDFDrive.com ).pdf')\n",
    "num_pages = len(pdf.pages)\n",
    "print(f\"The PDF document contains {num_pages} pages.\")\n"
   ]
  },
  {
   "cell_type": "code",
   "execution_count": 17,
   "id": "5c8f5533",
   "metadata": {},
   "outputs": [
    {
     "name": "stdout",
     "output_type": "stream",
     "text": [
      "Current page number: 6\n",
      "Modified PDF saved to: modified_pdf.pdf\n"
     ]
    }
   ],
   "source": [
    "import pdfrw\n",
    "\n",
    "pdf_path = 'Kuby Immunology(4th edition) ( PDFDrive.com ).pdf'\n",
    "pdf = pdfrw.PdfReader(pdf_path)\n",
    "\n",
    "page_number = 5  # Page 6 (index 5)\n",
    "page = pdf.pages[page_number]\n",
    "\n",
    "# Access the page contents or perform operations\n",
    "# For example, you can print the page number:\n",
    "print(f\"Current page number: {page_number + 1}\")\n",
    "\n",
    "# To navigate to a specific page, you can assign the desired page to `pdf.pages`\n",
    "pdf.pages = [page]\n",
    "\n",
    "# Save the modified PDF to a new file\n",
    "output_path = 'modified_pdf.pdf'\n",
    "pdfrw.PdfWriter().write(output_path, pdf)\n",
    "print(f\"Modified PDF saved to: {output_path}\")\n"
   ]
  },
  {
   "cell_type": "code",
   "execution_count": 18,
   "id": "3b1331ce",
   "metadata": {},
   "outputs": [
    {
     "name": "stdout",
     "output_type": "stream",
     "text": [
      "Current page number: 6\n"
     ]
    }
   ],
   "source": [
    "## question 4 \n",
    "import pdfrw\n",
    "\n",
    "pdf_path = 'Kuby Immunology(4th edition) ( PDFDrive.com ).pdf'\n",
    "pdf = pdfrw.PdfReader(pdf_path)\n",
    "\n",
    "if pdf.Info.Encrypt:\n",
    "    pdf.Info.Encrypt.decode()\n",
    "    pdf.Info.Encrypt.P = b'swordfish'\n",
    "    pdf.decrypt()\n",
    "\n",
    "# Now you can obtain Page objects from the decrypted PDF\n",
    "page_number = 5  # Example: Access page 6 (index 5)\n",
    "page = pdf.pages[page_number]\n",
    "\n",
    "# Perform operations with the Page object\n",
    "# For example, you can print the page number:\n",
    "print(f\"Current page number: {page_number + 1}\")\n"
   ]
  },
  {
   "cell_type": "code",
   "execution_count": 19,
   "id": "02299b91",
   "metadata": {},
   "outputs": [],
   "source": [
    "import pdfrw\n",
    "\n",
    "pdf_path = 'Kuby Immunology(4th edition) ( PDFDrive.com ).pdf'\n",
    "pdf = pdfrw.PdfReader(pdf_path)\n",
    "\n",
    "page_number = 0  # Example: Rotate the first page\n",
    "page = pdf.pages[page_number]\n",
    "\n",
    "# Rotate the page clockwise by 90 degrees\n",
    "page.Rotate = [90]\n",
    "\n",
    "# Save the modified PDF to a new file\n",
    "output_path = 'output.pdf'\n",
    "pdfrw.PdfWriter().write(output_path, pdf)\n"
   ]
  },
  {
   "cell_type": "markdown",
   "id": "c14771ca",
   "metadata": {},
   "source": [
    "In the context of document processing, a \"Run\" object and a \"Paragraph\" object represent different components of a document. Here's the difference between the two:\n",
    "\n",
    "Run object:\n",
    "A Run object represents a contiguous run of text within a paragraph that shares the same formatting properties. It is typically a sequence of characters with consistent font styles, sizes, colors, and other formatting attributes. Runs are used to apply specific formatting to specific portions of text within a paragraph.\n",
    "For example, consider the following paragraph:\n",
    "\"This is a <b>bold</b> and <i>italic</i> text.\"\n",
    "\n",
    "In this case, the paragraph contains three runs:\n",
    "\n",
    "Run 1: \"This is a \"\n",
    "Run 2: \"bold\"\n",
    "Run 3: \" and \"\n",
    "Run 4: \"italic\"\n",
    "Run 5: \" text.\"\n",
    "Each run can have its own formatting properties, allowing you to apply different styles or attributes to different portions of text within the paragraph.\n",
    "\n",
    "Paragraph object:\n",
    "A Paragraph object represents a block of text that is separated from other blocks of text, typically by a line break or a paragraph break. It is a self-contained unit of text that is formatted as a single entity. Paragraphs are used to structure the content of a document and provide a logical grouping of related text.\n",
    "For example, consider the following two paragraphs:\n",
    "Paragraph 1: \"This is the first paragraph.\"\n",
    "Paragraph 2: \"This is the second paragraph.\"\n",
    "\n",
    "In this case, there are two separate paragraph objects, each representing a distinct block of text.\n",
    "\n",
    "In summary, the main difference between a Run object and a Paragraph object is that a Run represents a portion of text with specific formatting within a paragraph, while a Paragraph represents a block of text as a whole and provides a logical grouping of content.\n",
    "\n",
    "\n",
    "7\n",
    "\n",
    "To obtain a list of Paragraph objects for a Document object stored in a variable named doc, it depends on the library or framework you are using for document processing. Here are examples using different popular libraries:\n",
    "\n",
    "python-docx:\n",
    "If you are using the python-docx library to work with Microsoft Word documents, you can iterate over the paragraphs attribute of the Document object to obtain a list of Paragraph objects."
   ]
  },
  {
   "cell_type": "code",
   "execution_count": 21,
   "id": "b9f651c5",
   "metadata": {},
   "outputs": [
    {
     "name": "stdout",
     "output_type": "stream",
     "text": [
      "Collecting Document\n",
      "  Downloading document-1.0.zip (12 kB)\n",
      "  Preparing metadata (setup.py): started\n",
      "  Preparing metadata (setup.py): finished with status 'done'\n",
      "Building wheels for collected packages: Document\n",
      "  Building wheel for Document (setup.py): started\n",
      "  Building wheel for Document (setup.py): finished with status 'done'\n",
      "  Created wheel for Document: filename=document-1.0-py3-none-any.whl size=8819 sha256=c16578e992d3a403f9a484bbf23f7f777bde768e373b7e07b038232bf7f2039f\n",
      "  Stored in directory: c:\\users\\nikit\\appdata\\local\\pip\\cache\\wheels\\94\\b1\\d8\\62b4005cdf0bd4db8b8fe27f166c2b731d9bf1c90f1bd05f9c\n",
      "Successfully built Document\n",
      "Installing collected packages: Document\n",
      "Successfully installed Document-1.0\n"
     ]
    },
    {
     "ename": "ModuleNotFoundError",
     "evalue": "No module named 'docx'",
     "output_type": "error",
     "traceback": [
      "\u001b[1;31m---------------------------------------------------------------------------\u001b[0m",
      "\u001b[1;31mModuleNotFoundError\u001b[0m                       Traceback (most recent call last)",
      "Cell \u001b[1;32mIn[21], line 2\u001b[0m\n\u001b[0;32m      1\u001b[0m get_ipython()\u001b[38;5;241m.\u001b[39msystem(\u001b[38;5;124m'\u001b[39m\u001b[38;5;124mpip install Document\u001b[39m\u001b[38;5;124m'\u001b[39m)\n\u001b[1;32m----> 2\u001b[0m \u001b[38;5;28;01mfrom\u001b[39;00m \u001b[38;5;21;01mdocx\u001b[39;00m \u001b[38;5;28;01mimport\u001b[39;00m Document\n\u001b[0;32m      4\u001b[0m doc \u001b[38;5;241m=\u001b[39m Document(\u001b[38;5;124m\"\u001b[39m\u001b[38;5;124mRESUME US.docx\u001b[39m\u001b[38;5;124m\"\u001b[39m)\n\u001b[0;32m      6\u001b[0m paragraphs \u001b[38;5;241m=\u001b[39m doc\u001b[38;5;241m.\u001b[39mparagraphs\n",
      "\u001b[1;31mModuleNotFoundError\u001b[0m: No module named 'docx'"
     ]
    }
   ],
   "source": [
    "!pip install Document\n",
    "from docx import Document\n",
    "\n",
    "doc = Document(\"RESUME US.docx\")\n",
    "\n",
    "paragraphs = doc.paragraphs\n"
   ]
  },
  {
   "cell_type": "code",
   "execution_count": 27,
   "id": "16e506dd",
   "metadata": {},
   "outputs": [
    {
     "name": "stdout",
     "output_type": "stream",
     "text": [
      "Requirement already satisfied: pdfReader in c:\\users\\nikit\\anaconda3\\lib\\site-packages (0.1.12)\n",
      "Requirement already satisfied: pillow>=7.1.0 in c:\\users\\nikit\\anaconda3\\lib\\site-packages (from pdfReader) (9.4.0)\n",
      "Requirement already satisfied: bitarray>=1.1.0 in c:\\users\\nikit\\anaconda3\\lib\\site-packages (from pdfReader) (2.7.3)\n",
      "Requirement already satisfied: python-dateutil>=2.8.1 in c:\\users\\nikit\\anaconda3\\lib\\site-packages (from pdfReader) (2.8.2)\n",
      "Requirement already satisfied: pycryptodome>=3.9.9 in c:\\users\\nikit\\anaconda3\\lib\\site-packages (from pdfReader) (3.17)\n",
      "Requirement already satisfied: six>=1.5 in c:\\users\\nikit\\anaconda3\\lib\\site-packages (from python-dateutil>=2.8.1->pdfReader) (1.16.0)\n"
     ]
    }
   ],
   "source": [
    "!pip install pdfReader\n",
    "from PyPDF2 import PdfReader\n",
    "\n",
    "doc = PdfReader('Kuby Immunology(4th edition) ( PDFDrive.com ).pdf')\n",
    "\n",
    "paragraphs = []\n",
    "for page in doc.pages:\n",
    "    text = page.extract_text()\n",
    "    paragraphs.extend(text.split('\\n\\n'))  # Split by double line breaks to identify paragraphs\n"
   ]
  },
  {
   "cell_type": "markdown",
   "id": "1f244771",
   "metadata": {},
   "source": [
    "9\n",
    "\n",
    "In the context of document processing libraries, such as python-docx, the bold variable for a Run object can have three possible values: False, True, and None. Here's the difference between these values:\n",
    "\n",
    "False: When the bold variable is set to False, it means that the text within the Run object is not formatted as bold. The font weight of the text is normal, indicating that it is not emphasized or highlighted as bold.\n",
    "\n",
    "True: When the bold variable is set to True, it means that the text within the Run object is formatted as bold. The font weight of the text is increased, making it appear thicker and more prominent than the surrounding text.\n",
    "\n",
    "None: When the bold variable is set to None, it means that the bold formatting for the text within the Run object is inherited from the surrounding context or paragraph. The Run object does not explicitly specify its own bold formatting. The appearance of the text as bold or not will depend on the parent paragraph or the document style.\n",
    "\n",
    "In summary, False indicates that the text is not bold, True indicates that the text is explicitly formatted as bold, and None indicates that the bold formatting is inherited from the surrounding context or paragraph.\n",
    "\n",
    "These values allow you to control the bold formatting of the text within a Run object and provide flexibility in applying or removing bold styles as needed."
   ]
  },
  {
   "cell_type": "code",
   "execution_count": 28,
   "id": "190ced69",
   "metadata": {},
   "outputs": [
    {
     "name": "stdout",
     "output_type": "stream",
     "text": [
      "Collecting docx\n",
      "  Downloading docx-0.2.4.tar.gz (54 kB)\n",
      "     -------------------------------------- 54.9/54.9 kB 475.4 kB/s eta 0:00:00\n",
      "  Preparing metadata (setup.py): started\n",
      "  Preparing metadata (setup.py): finished with status 'done'\n",
      "Requirement already satisfied: lxml in c:\\users\\nikit\\anaconda3\\lib\\site-packages (from docx) (4.9.1)\n",
      "Requirement already satisfied: Pillow>=2.0 in c:\\users\\nikit\\anaconda3\\lib\\site-packages (from docx) (9.4.0)\n",
      "Building wheels for collected packages: docx\n",
      "  Building wheel for docx (setup.py): started\n",
      "  Building wheel for docx (setup.py): finished with status 'done'\n",
      "  Created wheel for docx: filename=docx-0.2.4-py3-none-any.whl size=53905 sha256=66fd3ca91b5b165f3d14b0423bb3cddc814aaf1715aa3559da41594bb228ae84\n",
      "  Stored in directory: c:\\users\\nikit\\appdata\\local\\pip\\cache\\wheels\\34\\71\\d1\\6627e591572f0d8f43d326046644eaf8a7266f52d35fb71afc\n",
      "Successfully built docx\n",
      "Installing collected packages: docx\n",
      "Successfully installed docx-0.2.4\n"
     ]
    },
    {
     "ename": "ModuleNotFoundError",
     "evalue": "No module named 'exceptions'",
     "output_type": "error",
     "traceback": [
      "\u001b[1;31m---------------------------------------------------------------------------\u001b[0m",
      "\u001b[1;31mModuleNotFoundError\u001b[0m                       Traceback (most recent call last)",
      "Cell \u001b[1;32mIn[28], line 2\u001b[0m\n\u001b[0;32m      1\u001b[0m get_ipython()\u001b[38;5;241m.\u001b[39msystem(\u001b[38;5;124m'\u001b[39m\u001b[38;5;124mpip install docx\u001b[39m\u001b[38;5;124m'\u001b[39m)\n\u001b[1;32m----> 2\u001b[0m \u001b[38;5;28;01mfrom\u001b[39;00m \u001b[38;5;21;01mdocx\u001b[39;00m \u001b[38;5;28;01mimport\u001b[39;00m Document\n\u001b[0;32m      4\u001b[0m \u001b[38;5;66;03m# Create a new Document object\u001b[39;00m\n\u001b[0;32m      5\u001b[0m doc \u001b[38;5;241m=\u001b[39m Document()\n",
      "File \u001b[1;32m~\\anaconda3\\lib\\site-packages\\docx.py:30\u001b[0m\n\u001b[0;32m     27\u001b[0m \u001b[38;5;28;01mexcept\u001b[39;00m \u001b[38;5;167;01mImportError\u001b[39;00m:\n\u001b[0;32m     28\u001b[0m     TAGS \u001b[38;5;241m=\u001b[39m {}\n\u001b[1;32m---> 30\u001b[0m \u001b[38;5;28;01mfrom\u001b[39;00m \u001b[38;5;21;01mexceptions\u001b[39;00m \u001b[38;5;28;01mimport\u001b[39;00m \u001b[38;5;167;01mPendingDeprecationWarning\u001b[39;00m\n\u001b[0;32m     31\u001b[0m \u001b[38;5;28;01mfrom\u001b[39;00m \u001b[38;5;21;01mwarnings\u001b[39;00m \u001b[38;5;28;01mimport\u001b[39;00m warn\n\u001b[0;32m     33\u001b[0m \u001b[38;5;28;01mimport\u001b[39;00m \u001b[38;5;21;01mlogging\u001b[39;00m\n",
      "\u001b[1;31mModuleNotFoundError\u001b[0m: No module named 'exceptions'"
     ]
    }
   ],
   "source": [
    "!pip install docx\n",
    "from docx import Document\n",
    "\n",
    "# Create a new Document object\n",
    "doc = Document()\n",
    "\n",
    "# Perform operations on the Document object\n",
    "doc.add_paragraph('Hello, World!')\n",
    "doc.add_heading('Heading 1', level=1)\n",
    "\n",
    "# Save the Document to a file\n",
    "doc.save('new_document.docx')\n"
   ]
  },
  {
   "cell_type": "code",
   "execution_count": 38,
   "id": "87983485",
   "metadata": {},
   "outputs": [
    {
     "name": "stdout",
     "output_type": "stream",
     "text": [
      "Requirement already satisfied: python-docx in c:\\users\\nikit\\anaconda3\\lib\\site-packages (0.8.11)\n",
      "Requirement already satisfied: lxml>=2.3.2 in c:\\users\\nikit\\anaconda3\\lib\\site-packages (from python-docx) (4.9.1)\n",
      "Requirement already satisfied: python-docx in c:\\users\\nikit\\anaconda3\\lib\\site-packages (0.8.11)\n",
      "Requirement already satisfied: lxml>=2.3.2 in c:\\users\\nikit\\anaconda3\\lib\\site-packages (from python-docx) (4.9.1)\n"
     ]
    },
    {
     "ename": "ModuleNotFoundError",
     "evalue": "No module named 'exceptions'",
     "output_type": "error",
     "traceback": [
      "\u001b[1;31m---------------------------------------------------------------------------\u001b[0m",
      "\u001b[1;31mModuleNotFoundError\u001b[0m                       Traceback (most recent call last)",
      "Cell \u001b[1;32mIn[38], line 4\u001b[0m\n\u001b[0;32m      1\u001b[0m get_ipython()\u001b[38;5;241m.\u001b[39msystem(\u001b[38;5;124m'\u001b[39m\u001b[38;5;124mpip install python-docx\u001b[39m\u001b[38;5;124m'\u001b[39m)\n\u001b[0;32m      2\u001b[0m get_ipython()\u001b[38;5;241m.\u001b[39msystem(\u001b[38;5;124m'\u001b[39m\u001b[38;5;124mpip install python-docx\u001b[39m\u001b[38;5;124m'\u001b[39m)\n\u001b[1;32m----> 4\u001b[0m \u001b[38;5;28;01mfrom\u001b[39;00m \u001b[38;5;21;01mexceptions\u001b[39;00m \u001b[38;5;28;01mimport\u001b[39;00m \u001b[38;5;167;01mPendingDeprecationWarning\u001b[39;00m\n\u001b[0;32m      5\u001b[0m \u001b[38;5;28;01mfrom\u001b[39;00m \u001b[38;5;21;01mwarnings\u001b[39;00m \u001b[38;5;28;01mimport\u001b[39;00m warn\n\u001b[0;32m      6\u001b[0m \u001b[38;5;28;01mimport\u001b[39;00m \u001b[38;5;21;01mlogging\u001b[39;00m\n",
      "\u001b[1;31mModuleNotFoundError\u001b[0m: No module named 'exceptions'"
     ]
    }
   ],
   "source": [
    "!pip install python-docx\n",
    "get_ipython().system('pip install python-docx')\n",
    "\n",
    "from exceptions import PendingDeprecationWarning\n",
    "from warnings import warn\n",
    "import logging\n",
    "from docx import Document\n",
    "\n",
    "# Create a new Document object\n",
    "doc = Document()\n",
    "\n",
    "# Add a paragraph with the text 'Hello, there!'\n",
    "doc.add_paragraph('Hello, there!')\n",
    "\n",
    "# Perform other operations on the Document object if needed\n",
    "\n",
    "# Save the Document to a file\n",
    "doc.save('document.docx')\n"
   ]
  },
  {
   "cell_type": "markdown",
   "id": "0e1b2ad3",
   "metadata": {},
   "source": [
    "12.In Word documents, headings are organized into a hierarchical structure, with different levels of headings denoting varying levels of importance or hierarchy. Each level is typically assigned an integer value that represents the heading level.\n",
    "\n",
    "The integers commonly used to represent the levels of headings in Word documents are:\n",
    "\n",
    "Heading 1: Level 1\n",
    "Heading 2: Level 2\n",
    "Heading 3: Level 3\n",
    "Heading 4: Level 4\n",
    "Heading 5: Level 5\n",
    "Heading 6: Level 6\n",
    "Heading 7: Level 7\n",
    "Heading 8: Level 8\n",
    "Heading 9: Level 9\n",
    "These integer values correspond to the different levels of headings available in Word documents. The higher the integer value, the lower the level of the heading. For example, Heading 1 represents the highest-level heading, while Heading 9 represents the lowest-level heading.\n",
    "\n",
    "When working with document processing libraries such as python-docx or python-pptx, you can specify the desired heading level using these integer values when adding or formatting headings within the document. This allows you to structure your document and apply consistent formatting across different heading levels."
   ]
  },
  {
   "cell_type": "code",
   "execution_count": 42,
   "id": "0c8032d0",
   "metadata": {},
   "outputs": [],
   "source": [
    "import logging\n",
    "from docx import Document\n",
    "\n",
    "\n",
    "# Create a new Document object\n",
    "doc = Document()\n",
    "\n",
    "# Add a paragraph with the text 'Hello, there!'\n",
    "doc.add_paragraph('Hello, there!')\n",
    "\n",
    "# Perform other operations on the Document object if needed\n",
    "\n",
    "# Save the Document to a file\n",
    "doc.save('document.docx')\n"
   ]
  },
  {
   "cell_type": "code",
   "execution_count": null,
   "id": "ca3def02",
   "metadata": {},
   "outputs": [],
   "source": []
  },
  {
   "cell_type": "code",
   "execution_count": null,
   "id": "e7b68479",
   "metadata": {},
   "outputs": [],
   "source": []
  }
 ],
 "metadata": {
  "kernelspec": {
   "display_name": "Python 3 (ipykernel)",
   "language": "python",
   "name": "python3"
  },
  "language_info": {
   "codemirror_mode": {
    "name": "ipython",
    "version": 3
   },
   "file_extension": ".py",
   "mimetype": "text/x-python",
   "name": "python",
   "nbconvert_exporter": "python",
   "pygments_lexer": "ipython3",
   "version": "3.10.9"
  }
 },
 "nbformat": 4,
 "nbformat_minor": 5
}

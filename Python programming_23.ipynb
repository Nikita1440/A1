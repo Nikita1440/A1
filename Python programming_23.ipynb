{
 "cells": [
  {
   "cell_type": "markdown",
   "id": "c6d45b0f",
   "metadata": {},
   "source": [
    "Question 1\n",
    "Create a function that takes a number as an argument and returns True or False depending\n",
    "on whether the number is symmetrical or not. A number is symmetrical when it is the same as\n",
    "its reverse.\n",
    "Examples\n",
    "is_symmetrical(7227) ➞ True\n",
    "is_symmetrical(12567) ➞ False\n",
    "is_symmetrical(44444444) ➞ True\n",
    "is_symmetrical(9939) ➞ False\n",
    "is_symmetrical(1112111) ➞ True\n",
    "\n",
    "Question 2\n",
    "Given a string of numbers separated by a comma and space, return the product of the\n",
    "numbers.\n",
    "Examples\n",
    "multiply_nums(&quot;2, 3&quot;) ➞ 6\n",
    "multiply_nums(&quot;1, 2, 3, 4&quot;) ➞ 24\n",
    "multiply_nums(&quot;54, 75, 453, 0&quot;) ➞ 0\n",
    "multiply_nums(&quot;10, -2&quot;) ➞ -20\n",
    "\n",
    "Question 3\n",
    "Create a function that squares every digit of a number.\n",
    "Examples\n",
    "square_digits(9119) ➞ 811181\n",
    "square_digits(2483) ➞ 416649\n",
    "square_digits(3212) ➞ 9414\n",
    "Notes\n",
    "The function receives an integer and must return an integer.\n",
    "\n",
    "Question 4\n",
    "Create a function that sorts a list and removes all duplicate items from it.\n",
    "Examples\n",
    "setify([1, 3, 3, 5, 5]) ➞ [1, 3, 5]\n",
    "setify([4, 4, 4, 4]) ➞ [4]\n",
    "setify([5, 7, 8, 9, 10, 15]) ➞ [5, 7, 8, 9, 10, 15]\n",
    "setify([3, 3, 3, 2, 1]) ➞ [1, 2, 3]\n",
    "\n",
    "Question 5\n",
    "Create a function that returns the mean of all digits.\n",
    "Examples\n",
    "mean(42) ➞ 3\n",
    "mean(12345) ➞ 3\n",
    "mean(666) ➞ 6\n",
    "Notes\n",
    " The mean of all digits is the sum of digits / how many digits there are (e.g. mean of digits in\n",
    "512 is (5+1+2)/3(number of digits) = 8/3=2).\n",
    " The mean will always be an integer."
   ]
  },
  {
   "cell_type": "code",
   "execution_count": 1,
   "id": "43cf9fa8",
   "metadata": {},
   "outputs": [],
   "source": [
    "# 1\n",
    "def is_symmetrical(num):\n",
    "    # Convert the number to a string\n",
    "    num_str = str(num)\n",
    "    # Check if the string is equal to its reverse\n",
    "    return num_str == num_str[::-1]\n"
   ]
  },
  {
   "cell_type": "code",
   "execution_count": 2,
   "id": "97bce5db",
   "metadata": {},
   "outputs": [
    {
     "name": "stdout",
     "output_type": "stream",
     "text": [
      "True\n",
      "False\n",
      "True\n",
      "False\n",
      "True\n"
     ]
    }
   ],
   "source": [
    "print(is_symmetrical(7227))\n",
    "# Output: True\n",
    "\n",
    "print(is_symmetrical(12567))\n",
    "# Output: False\n",
    "\n",
    "print(is_symmetrical(44444444))\n",
    "# Output: True\n",
    "\n",
    "print(is_symmetrical(9939))\n",
    "# Output: False\n",
    "\n",
    "print(is_symmetrical(1112111))\n",
    "# Output: True\n"
   ]
  },
  {
   "cell_type": "code",
   "execution_count": 3,
   "id": "55805a45",
   "metadata": {},
   "outputs": [],
   "source": [
    "# 2\n",
    "def multiply_nums(nums):\n",
    "    # Split the string into individual numbers\n",
    "    num_list = nums.split(\", \")\n",
    "    # Convert the numbers to integers and calculate the product\n",
    "    product = 1\n",
    "    for num in num_list:\n",
    "        product *= int(num)\n",
    "    return product\n"
   ]
  },
  {
   "cell_type": "code",
   "execution_count": 4,
   "id": "eec41f3c",
   "metadata": {},
   "outputs": [
    {
     "name": "stdout",
     "output_type": "stream",
     "text": [
      "6\n",
      "24\n",
      "0\n",
      "-20\n"
     ]
    }
   ],
   "source": [
    "print(multiply_nums(\"2, 3\"))\n",
    "# Output: 6\n",
    "\n",
    "print(multiply_nums(\"1, 2, 3, 4\"))\n",
    "# Output: 24\n",
    "\n",
    "print(multiply_nums(\"54, 75, 453, 0\"))\n",
    "# Output: 0\n",
    "\n",
    "print(multiply_nums(\"10, -2\"))\n",
    "# Output: -20\n"
   ]
  },
  {
   "cell_type": "code",
   "execution_count": 5,
   "id": "38966220",
   "metadata": {},
   "outputs": [],
   "source": [
    "# 3\n",
    "def square_digits(num):\n",
    "    # Convert the number to a string\n",
    "    num_str = str(num)\n",
    "    # Iterate over each digit, square it, and concatenate the squared digits\n",
    "    result = \"\"\n",
    "    for digit in num_str:\n",
    "        squared_digit = str(int(digit) ** 2)\n",
    "        result += squared_digit\n",
    "    # Convert the concatenated squared digits back to an integer\n",
    "    return int(result)\n"
   ]
  },
  {
   "cell_type": "code",
   "execution_count": 6,
   "id": "b75afc02",
   "metadata": {},
   "outputs": [
    {
     "name": "stdout",
     "output_type": "stream",
     "text": [
      "811181\n",
      "416649\n",
      "9414\n"
     ]
    }
   ],
   "source": [
    "print(square_digits(9119))\n",
    "# Output: 811181\n",
    "\n",
    "print(square_digits(2483))\n",
    "# Output: 416649\n",
    "\n",
    "print(square_digits(3212))\n",
    "# Output: 9414\n"
   ]
  },
  {
   "cell_type": "code",
   "execution_count": 7,
   "id": "95823f85",
   "metadata": {},
   "outputs": [],
   "source": [
    "# 4\n",
    "def setify(lst):\n",
    "    # Convert the list to a set to remove duplicates\n",
    "    unique_set = set(lst)\n",
    "    # Convert the set back to a sorted list\n",
    "    sorted_list = sorted(unique_set)\n",
    "    return sorted_list\n"
   ]
  },
  {
   "cell_type": "code",
   "execution_count": 8,
   "id": "fcad8b35",
   "metadata": {},
   "outputs": [
    {
     "name": "stdout",
     "output_type": "stream",
     "text": [
      "[1, 3, 5]\n",
      "[4]\n",
      "[5, 7, 8, 9, 10, 15]\n",
      "[1, 2, 3]\n"
     ]
    }
   ],
   "source": [
    "print(setify([1, 3, 3, 5, 5]))\n",
    "# Output: [1, 3, 5]\n",
    "\n",
    "print(setify([4, 4, 4, 4]))\n",
    "# Output: [4]\n",
    "\n",
    "print(setify([5, 7, 8, 9, 10, 15]))\n",
    "# Output: [5, 7, 8, 9, 10, 15]\n",
    "\n",
    "print(setify([3, 3, 3, 2, 1]))\n",
    "# Output: [1, 2, 3]\n"
   ]
  },
  {
   "cell_type": "code",
   "execution_count": 9,
   "id": "30dd194c",
   "metadata": {},
   "outputs": [],
   "source": [
    "# 5\n",
    "def mean(num):\n",
    "    # Convert the number to a string\n",
    "    num_str = str(num)\n",
    "    # Calculate the sum of all digits\n",
    "    digit_sum = sum(int(digit) for digit in num_str)\n",
    "    # Calculate the mean by dividing the sum by the number of digits\n",
    "    mean = digit_sum // len(num_str)\n",
    "    return mean\n",
    "\n"
   ]
  },
  {
   "cell_type": "code",
   "execution_count": 10,
   "id": "58de6201",
   "metadata": {},
   "outputs": [
    {
     "name": "stdout",
     "output_type": "stream",
     "text": [
      "3\n",
      "3\n",
      "6\n"
     ]
    }
   ],
   "source": [
    "print(mean(42))\n",
    "# Output: 3\n",
    "\n",
    "print(mean(12345))\n",
    "# Output: 3\n",
    "\n",
    "print(mean(666))\n",
    "# Output: 6\n"
   ]
  },
  {
   "cell_type": "code",
   "execution_count": null,
   "id": "e7a9144e",
   "metadata": {},
   "outputs": [],
   "source": []
  }
 ],
 "metadata": {
  "kernelspec": {
   "display_name": "Python 3 (ipykernel)",
   "language": "python",
   "name": "python3"
  },
  "language_info": {
   "codemirror_mode": {
    "name": "ipython",
    "version": 3
   },
   "file_extension": ".py",
   "mimetype": "text/x-python",
   "name": "python",
   "nbconvert_exporter": "python",
   "pygments_lexer": "ipython3",
   "version": "3.10.9"
  }
 },
 "nbformat": 4,
 "nbformat_minor": 5
}

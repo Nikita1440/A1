{
 "cells": [
  {
   "cell_type": "markdown",
   "id": "338509e1-60d2-4fbb-bb55-f690f3aab570",
   "metadata": {},
   "source": [
    "Write a program that calculates and prints the value according to the given formula:\n",
    "Q = Square root of [(2 * C * D)/H]\n",
    "Following are the fixed values of C and H:\n",
    "C is 50. H is 30.\n",
    "D is the variable whose values should be input to your program in a comma-separated\n",
    "sequence.\n",
    "Example\n",
    "Let us assume the following comma separated input sequence is given to the program:\n",
    "100,150,180\n",
    "The output of the program should be:\n",
    "18,22,24\n",
    "\n",
    "Question 2:\n",
    "Write a program which takes 2 digits, X,Y as input and generates a 2-dimensional array. The\n",
    "element value in the i-th row and j-th column of the array should be i*j.\n",
    "Note: i=0,1.., X-1; j=0,1,¡Y-1.\n",
    "Example\n",
    "Suppose the following inputs are given to the program:\n",
    "3,5\n",
    "Then, the output of the program should be:\n",
    "[[0, 0, 0, 0, 0], [0, 1, 2, 3, 4], [0, 2, 4, 6, 8]]\n",
    "\n",
    "Question 3:\n",
    "Write a program that accepts a comma separated sequence of words as input and prints the\n",
    "words in a comma-separated sequence after sorting them alphabetically.\n",
    "Suppose the following input is supplied to the program:\n",
    "without,hello,bag,world\n",
    "Then, the output should be:\n",
    "bag,hello,without,world\n",
    "\n",
    "Question 4:\n",
    "Write a program that accepts a sequence of whitespace separated words as input and prints\n",
    "the words after removing all duplicate words and sorting them alphanumerically.\n",
    "Suppose the following input is supplied to the program:\n",
    "hello world and practice makes perfect and hello world again\n",
    "Then, the output should be:\n",
    "again and hello makes perfect practice world\n",
    "\n",
    "Question 5:\n",
    "Write a program that accepts a sentence and calculate the number of letters and digits.\n",
    "Suppose the following input is supplied to the program:\n",
    "hello world! 123\n",
    "Then, the output should be:\n",
    "LETTERS 10\n",
    "\n",
    "DIGITS 3\n",
    "\n",
    "Question 6:\n",
    "A website requires the users to input username and password to register. Write a program to\n",
    "check the validity of password input by users.\n",
    "Following are the criteria for checking the password:\n",
    "1. At least 1 letter between [a-z]\n",
    "2. At least 1 number between [0-9]\n",
    "1. At least 1 letter between [A-Z]\n",
    "3. At least 1 character from [$#@]\n",
    "4. Minimum length of transaction password: 6\n",
    "5. Maximum length of transaction password: 12\n",
    "Your program should accept a sequence of comma separated passwords and will check them\n",
    "according to the above criteria. Passwords that match the criteria are to be printed, each\n",
    "separated by a comma.\n",
    "Example\n",
    "If the following passwords are given as input to the program:\n",
    "ABd1234@1,a F1#,2w3E*,2We3345\n",
    "Then, the output of the program should be:\n",
    "ABd1234@1"
   ]
  },
  {
   "cell_type": "code",
   "execution_count": 1,
   "id": "d7f042f8-1adb-4066-a1e9-5cd8a84e9c70",
   "metadata": {},
   "outputs": [
    {
     "name": "stdout",
     "output_type": "stream",
     "text": [
      "18,22,24\n"
     ]
    }
   ],
   "source": [
    "#1\n",
    "import math\n",
    "\n",
    "C = 50\n",
    "H = 30\n",
    "\n",
    "def calculate_values(input_sequence):\n",
    "    values = input_sequence.split(',')\n",
    "    result = []\n",
    "    \n",
    "    for value in values:\n",
    "        D = int(value)\n",
    "        Q = math.sqrt((2 * C * D) / H)\n",
    "        result.append(round(Q))\n",
    "    \n",
    "    return result\n",
    "\n",
    "# Example usage\n",
    "input_sequence = \"100,150,180\"\n",
    "output_values = calculate_values(input_sequence)\n",
    "print(','.join(str(value) for value in output_values))\n"
   ]
  },
  {
   "cell_type": "code",
   "execution_count": 2,
   "id": "fbf9eaef-e484-49b0-b678-cc542ad95946",
   "metadata": {},
   "outputs": [
    {
     "name": "stdout",
     "output_type": "stream",
     "text": [
      "[[0, 0, 0, 0, 0], [0, 1, 2, 3, 4], [0, 2, 4, 6, 8]]\n"
     ]
    }
   ],
   "source": [
    "#2\n",
    "def generate_2d_array(X, Y):\n",
    "    array = [[i * j for j in range(Y)] for i in range(X)]\n",
    "    return array\n",
    "\n",
    "# Example usage\n",
    "X = 3\n",
    "Y = 5\n",
    "result = generate_2d_array(X, Y)\n",
    "print(result)\n"
   ]
  },
  {
   "cell_type": "code",
   "execution_count": 3,
   "id": "e7644629-f22b-4724-91a3-fac3a9a9bbe6",
   "metadata": {},
   "outputs": [
    {
     "name": "stdout",
     "output_type": "stream",
     "text": [
      "bag,hello,without,world\n"
     ]
    }
   ],
   "source": [
    "#3\n",
    "def sort_words(sequence):\n",
    "    words = sequence.split(',')\n",
    "    sorted_words = sorted(words)\n",
    "    sorted_sequence = ','.join(sorted_words)\n",
    "    return sorted_sequence\n",
    "\n",
    "# Example usage\n",
    "input_sequence = \"without,hello,bag,world\"\n",
    "sorted_sequence = sort_words(input_sequence)\n",
    "print(sorted_sequence)\n"
   ]
  },
  {
   "cell_type": "code",
   "execution_count": 4,
   "id": "d6251003-010f-45a2-bca0-95d6f4b387f6",
   "metadata": {},
   "outputs": [
    {
     "name": "stdout",
     "output_type": "stream",
     "text": [
      "again and hello makes perfect practice world\n"
     ]
    }
   ],
   "source": [
    "#4\n",
    "def process_words(sequence):\n",
    "    words = sequence.split()\n",
    "    unique_words = list(set(words))\n",
    "    sorted_words = sorted(unique_words)\n",
    "    result = ' '.join(sorted_words)\n",
    "    return result\n",
    "\n",
    "# Example usage\n",
    "input_sequence = \"hello world and practice makes perfect and hello world again\"\n",
    "processed_sequence = process_words(input_sequence)\n",
    "print(processed_sequence)\n"
   ]
  },
  {
   "cell_type": "code",
   "execution_count": 5,
   "id": "0b422b21-e6f0-4699-a017-4956c0e5ec7a",
   "metadata": {},
   "outputs": [
    {
     "name": "stdout",
     "output_type": "stream",
     "text": [
      "LETTERS 10\n",
      "DIGITS 3\n"
     ]
    }
   ],
   "source": [
    "#5\n",
    "def count_letters_digits(sentence):\n",
    "    letters = 0\n",
    "    digits = 0\n",
    "    \n",
    "    for char in sentence:\n",
    "        if char.isalpha():\n",
    "            letters += 1\n",
    "        elif char.isdigit():\n",
    "            digits += 1\n",
    "    \n",
    "    return letters, digits\n",
    "\n",
    "# Example usage\n",
    "input_sentence = \"hello world! 123\"\n",
    "letter_count, digit_count = count_letters_digits(input_sentence)\n",
    "print(\"LETTERS\", letter_count)\n",
    "print(\"DIGITS\", digit_count)\n"
   ]
  },
  {
   "cell_type": "code",
   "execution_count": null,
   "id": "7f47a93f-57bc-4932-ad25-2d7729eaa277",
   "metadata": {},
   "outputs": [],
   "source": []
  }
 ],
 "metadata": {
  "kernelspec": {
   "display_name": "Python 3 (ipykernel)",
   "language": "python",
   "name": "python3"
  },
  "language_info": {
   "codemirror_mode": {
    "name": "ipython",
    "version": 3
   },
   "file_extension": ".py",
   "mimetype": "text/x-python",
   "name": "python",
   "nbconvert_exporter": "python",
   "pygments_lexer": "ipython3",
   "version": "3.10.6"
  }
 },
 "nbformat": 4,
 "nbformat_minor": 5
}
